{
 "cells": [
  {
   "cell_type": "markdown",
   "source": [
    "## Lexicase Selection Numba加速\n",
    "\n",
    "DEAP中Lexicase Selection的默认实现速度较慢。因此，我们可以尝试使用Numba来加速它。\n",
    "Numba的原理是将Python代码编译为LLVM中间代码，然后再编译为机器码。这可以显著提高Python代码的运行速度。"
   ],
   "metadata": {
    "collapsed": false
   },
   "id": "ff6050dfa4dc1b6"
  },
  {
   "cell_type": "code",
   "execution_count": 1,
   "outputs": [],
   "source": [
    "import numpy as np\n",
    "import math\n",
    "import operator\n",
    "\n",
    "from deap import base, creator, tools, gp\n",
    "\n",
    "\n",
    "# 符号回归\n",
    "def evalSymbReg(individual, pset):\n",
    "    # 编译GP树为函数\n",
    "    func = gp.compile(expr=individual, pset=pset)\n",
    "    \n",
    "    # 使用numpy创建一个向量\n",
    "    x = np.linspace(-10, 10, 100) \n",
    "    \n",
    "    return tuple((func(x) - x**2)**2)\n",
    "\n",
    "\n",
    "# 创建个体和适应度函数，适应度数组大小与数据量相同\n",
    "creator.create(\"FitnessMin\", base.Fitness, weights=(-1.0,) * 100)  # 假设我们有100个数据点\n",
    "creator.create(\"Individual\", gp.PrimitiveTree, fitness=creator.FitnessMin)"
   ],
   "metadata": {
    "collapsed": false,
    "ExecuteTime": {
     "end_time": "2023-11-07T08:41:53.098910300Z",
     "start_time": "2023-11-07T08:41:53.083980800Z"
    }
   },
   "id": "59cfefc0467c74ad"
  },
  {
   "cell_type": "markdown",
   "source": [
    "### 遗传算子\n",
    "在使用Numba进行加速时，需要注意一些特殊的函数可能不受Numba支持，但所有基本的Python运算符都是支持的。"
   ],
   "metadata": {
    "collapsed": false
   },
   "id": "956e01e17271daa6"
  },
  {
   "cell_type": "code",
   "execution_count": 2,
   "outputs": [],
   "source": [
    "from numba import njit\n",
    "import numpy as np\n",
    "\n",
    "\n",
    "@njit(cache=True)\n",
    "def selAutomaticEpsilonLexicaseNumba(case_values, fit_weights, k):\n",
    "    selected_individuals = []\n",
    "    avg_cases = 0\n",
    "\n",
    "    for i in range(k):\n",
    "        candidates = list(range(len(case_values)))\n",
    "        cases = np.arange(len(case_values[0]))\n",
    "        np.random.shuffle(cases)\n",
    "\n",
    "        while len(cases) > 0 and len(candidates) > 1:\n",
    "            errors_for_this_case = np.array(\n",
    "                [case_values[x][cases[0]] for x in candidates]\n",
    "            )\n",
    "            median_val = np.median(errors_for_this_case)\n",
    "            median_absolute_deviation = np.median(\n",
    "                np.array([abs(x - median_val) for x in errors_for_this_case])\n",
    "            )\n",
    "            if fit_weights > 0:\n",
    "                best_val_for_case = np.max(errors_for_this_case)\n",
    "                min_val_to_survive = best_val_for_case - median_absolute_deviation\n",
    "                candidates = list(\n",
    "                    [\n",
    "                        x\n",
    "                        for x in candidates\n",
    "                        if case_values[x][cases[0]] >= min_val_to_survive\n",
    "                    ]\n",
    "                )\n",
    "            else:\n",
    "                best_val_for_case = np.min(errors_for_this_case)\n",
    "                max_val_to_survive = best_val_for_case + median_absolute_deviation\n",
    "                candidates = list(\n",
    "                    [\n",
    "                        x\n",
    "                        for x in candidates\n",
    "                        if case_values[x][cases[0]] <= max_val_to_survive\n",
    "                    ]\n",
    "                )\n",
    "            cases = np.delete(cases, 0)\n",
    "        avg_cases = (avg_cases * i + (len(case_values[0]) - len(cases))) / (i + 1)\n",
    "        selected_individuals.append(np.random.choice(np.array(candidates)))\n",
    "    return selected_individuals, avg_cases\n",
    "\n",
    "def selAutomaticEpsilonLexicaseFast(individuals, k):\n",
    "    fit_weights = individuals[0].fitness.weights[0]\n",
    "    case_values = np.array([ind.fitness.values for ind in individuals])\n",
    "    index, avg_cases = selAutomaticEpsilonLexicaseNumba(case_values, fit_weights, k)\n",
    "    selected_individuals = [individuals[i] for i in index]\n",
    "    return selected_individuals"
   ],
   "metadata": {
    "collapsed": false,
    "ExecuteTime": {
     "end_time": "2023-11-07T08:41:53.496214900Z",
     "start_time": "2023-11-07T08:41:53.104033500Z"
    }
   },
   "id": "c5dbeab9190022"
  },
  {
   "cell_type": "code",
   "execution_count": 3,
   "outputs": [
    {
     "name": "stderr",
     "output_type": "stream",
     "text": [
      "C:\\Users\\zhenl\\anaconda3\\Lib\\site-packages\\deap\\gp.py:254: RuntimeWarning: Ephemeral rand101 function cannot be pickled because its generating function is a lambda function. Use functools.partial instead.\n",
      "  warnings.warn(\"Ephemeral {name} function cannot be \"\n"
     ]
    }
   ],
   "source": [
    "import random\n",
    "\n",
    "# 定义函数集合和终端集合\n",
    "pset = gp.PrimitiveSet(\"MAIN\", arity=1)\n",
    "pset.addPrimitive(operator.add, 2)\n",
    "pset.addPrimitive(operator.sub, 2)\n",
    "pset.addPrimitive(operator.mul, 2)\n",
    "pset.addPrimitive(operator.neg, 1)\n",
    "pset.addEphemeralConstant(\"rand101\", lambda: random.randint(-1, 1))\n",
    "pset.renameArguments(ARG0='x')\n",
    "\n",
    "# 定义遗传编程操作\n",
    "toolbox = base.Toolbox()\n",
    "toolbox.register(\"expr\", gp.genHalfAndHalf, pset=pset, min_=1, max_=2)\n",
    "toolbox.register(\"individual\", tools.initIterate, creator.Individual, toolbox.expr)\n",
    "toolbox.register(\"population\", tools.initRepeat, list, toolbox.individual)\n",
    "toolbox.register(\"compile\", gp.compile, pset=pset)\n",
    "toolbox.register(\"evaluate\", evalSymbReg, pset=pset)\n",
    "toolbox.register(\"select\", selAutomaticEpsilonLexicaseFast)\n",
    "toolbox.register(\"mate\", gp.cxOnePoint)\n",
    "toolbox.register(\"mutate\", gp.mutUniform, expr=toolbox.expr, pset=pset)"
   ],
   "metadata": {
    "collapsed": false,
    "ExecuteTime": {
     "end_time": "2023-11-07T08:41:53.508047400Z",
     "start_time": "2023-11-07T08:41:53.498728500Z"
    }
   },
   "id": "851794d4d36e3681"
  },
  {
   "cell_type": "markdown",
   "source": [
    "### 演化流程\n",
    "演化流程与传统符号回归相同。"
   ],
   "metadata": {
    "collapsed": false
   },
   "id": "62f30d17704db709"
  },
  {
   "cell_type": "code",
   "execution_count": 4,
   "outputs": [
    {
     "name": "stdout",
     "output_type": "stream",
     "text": [
      "   \t      \t                    fitness                    \t                      size                     \n",
      "   \t      \t-----------------------------------------------\t-----------------------------------------------\n",
      "gen\tnevals\tavg    \tgen\tmax  \tmin\tnevals\tstd    \tavg \tgen\tmax\tmin\tnevals\tstd    \n",
      "0  \t300   \t2158.77\t0  \t90000\t0  \t300   \t4085.69\t4.14\t0  \t7  \t2  \t300   \t1.73985\n",
      "1  \t186   \t135184 \t1  \t1.0201e+08\t0  \t186   \t2.64472e+06\t5.29667\t1  \t13 \t2  \t186   \t2.09968\n",
      "2  \t200   \t128884 \t2  \t1.0201e+08\t0  \t200   \t2.60176e+06\t5.19333\t2  \t14 \t2  \t200   \t2.13603\n",
      "3  \t184   \t13103.7\t3  \t6.25e+06  \t0  \t184   \t112630     \t4.91333\t3  \t20 \t2  \t184   \t2.30199\n",
      "4  \t192   \t94209.9\t4  \t1.0201e+08\t0  \t192   \t2.14263e+06\t4.62667\t4  \t13 \t2  \t192   \t2.0217 \n",
      "5  \t182   \t165318 \t5  \t1.1881e+08\t0  \t182   \t3.00756e+06\t4.56333\t5  \t13 \t2  \t182   \t2.01643\n",
      "6  \t183   \t46992.4\t6  \t9.801e+07 \t0  \t183   \t1.48132e+06\t4.28333\t6  \t15 \t2  \t183   \t2.07277\n",
      "7  \t200   \t89687.3\t7  \t1.0201e+08\t0  \t200   \t2.143e+06  \t4.33   \t7  \t15 \t2  \t200   \t2.0723 \n",
      "8  \t172   \t8807.59\t8  \t4.41e+06  \t0  \t172   \t91215.2    \t3.96667\t8  \t12 \t2  \t172   \t1.7375 \n",
      "9  \t183   \t6411.12\t9  \t1.44e+06  \t0  \t183   \t58687.9    \t4.11   \t9  \t13 \t2  \t183   \t1.89857\n",
      "10 \t178   \t2275.4 \t10 \t1.2321e+06\t0  \t178   \t30777.8    \t3.79333\t10 \t11 \t2  \t178   \t1.63624\n",
      "11 \t176   \t5738.47\t11 \t4.41e+06  \t0  \t176   \t81179.8    \t3.73   \t11 \t11 \t2  \t176   \t1.52658\n",
      "12 \t183   \t3175.29\t12 \t1.44e+06  \t0  \t183   \t40519.9    \t3.79333\t12 \t11 \t2  \t183   \t1.47104\n",
      "13 \t189   \t8010.12\t13 \t4e+06     \t0  \t189   \t87962.5    \t3.82333\t13 \t11 \t2  \t189   \t1.62853\n",
      "14 \t176   \t159049 \t14 \t3.9601e+08\t0  \t176   \t5.98707e+06\t3.74667\t14 \t11 \t2  \t176   \t1.49972\n",
      "15 \t179   \t5074.16\t15 \t1.21e+06  \t0  \t179   \t49465      \t3.77333\t15 \t13 \t2  \t179   \t1.53252\n",
      "16 \t199   \t5879.86\t16 \t4.41e+06  \t0  \t199   \t80759.8    \t3.86333\t16 \t10 \t2  \t199   \t1.55927\n",
      "17 \t176   \t5814   \t17 \t4.41e+06  \t0  \t176   \t81165.1    \t3.80333\t17 \t10 \t2  \t176   \t1.49822\n",
      "18 \t178   \t5630.22\t18 \t1.21e+06  \t0  \t178   \t54861.4    \t3.8    \t18 \t11 \t2  \t178   \t1.62686\n",
      "19 \t180   \t2498.2 \t19 \t1.21e+06  \t0  \t180   \t34846.3    \t3.65   \t19 \t9  \t2  \t180   \t1.39314\n",
      "20 \t180   \t6708.73\t20 \t4.41e+06  \t0  \t180   \t84439.8    \t3.67333\t20 \t9  \t2  \t180   \t1.4189 \n",
      "21 \t174   \t4145.4 \t21 \t1.21e+06  \t0  \t174   \t46187.1    \t3.65333\t21 \t9  \t2  \t174   \t1.39038\n",
      "22 \t200   \t44963.5\t22 \t1.0201e+08\t0  \t200   \t1.54794e+06\t3.84   \t22 \t13 \t2  \t200   \t1.55598\n",
      "23 \t164   \t4637.09\t23 \t4.41e+06  \t0  \t164   \t76800.3    \t3.80667\t23 \t11 \t2  \t164   \t1.46605\n",
      "24 \t186   \t3572.16\t24 \t1.44e+06  \t0  \t186   \t43611      \t3.81333\t24 \t11 \t2  \t186   \t1.50061\n",
      "25 \t184   \t5759.41\t25 \t1.4161e+06\t0  \t184   \t55468.4    \t3.88667\t25 \t11 \t2  \t184   \t1.59389\n",
      "26 \t185   \t45532.9\t26 \t9.801e+07 \t0  \t185   \t1.48111e+06\t3.9    \t26 \t11 \t2  \t185   \t1.62993\n",
      "27 \t198   \t4942.68\t27 \t4.41e+06  \t0  \t198   \t76773.6    \t3.74   \t27 \t10 \t2  \t198   \t1.4419 \n",
      "28 \t180   \t3634.38\t28 \t1.4161e+06\t0  \t180   \t43212.3    \t3.75   \t28 \t9  \t2  \t180   \t1.58771\n",
      "29 \t174   \t3660.08\t29 \t5.29e+06  \t0  \t174   \t77278      \t3.79333\t29 \t11 \t2  \t174   \t1.66452\n",
      "30 \t165   \t6335.81\t30 \t1.21e+06  \t0  \t165   \t57814.4    \t3.87   \t30 \t11 \t2  \t165   \t1.65522\n",
      "31 \t193   \t8853.48\t31 \t5.29e+06  \t0  \t193   \t111858     \t4.08333\t31 \t14 \t2  \t193   \t1.92779\n",
      "32 \t177   \t5102.27\t32 \t1.21e+06  \t0  \t177   \t52548.3    \t3.97667\t32 \t14 \t2  \t177   \t1.82468\n",
      "33 \t203   \t9940.64\t33 \t4.84e+06  \t0  \t203   \t112233     \t4.04667\t33 \t12 \t2  \t203   \t1.90731\n",
      "34 \t190   \t164171 \t34 \t3.9601e+08\t0  \t190   \t5.98748e+06\t3.94333\t34 \t10 \t2  \t190   \t1.64118\n",
      "35 \t163   \t3120.78\t35 \t1.21e+06  \t0  \t163   \t38754.8    \t3.78   \t35 \t10 \t2  \t163   \t1.54216\n",
      "36 \t189   \t2185.89\t36 \t1.2321e+06\t0  \t189   \t30729.2    \t3.9    \t36 \t9  \t2  \t189   \t1.5864 \n",
      "37 \t180   \t3447.87\t37 \t1.21e+06  \t0  \t180   \t39206.2    \t4.08   \t37 \t12 \t2  \t180   \t1.70888\n",
      "38 \t161   \t6914.49\t38 \t4.41e+06  \t0  \t161   \t84825.2    \t4.1    \t38 \t14 \t2  \t161   \t1.93821\n",
      "39 \t188   \t52103.2\t39 \t1.1881e+08\t0  \t188   \t1.54113e+06\t4.14333\t39 \t14 \t2  \t188   \t2.14386\n",
      "40 \t181   \t3259.62\t40 \t1.2544e+06\t0  \t181   \t39270.7    \t4.03   \t40 \t14 \t2  \t181   \t2.17771\n",
      "41 \t166   \t9232.32\t41 \t1.681e+07 \t0  \t166   \t272797     \t3.75   \t41 \t14 \t2  \t166   \t1.78722\n",
      "42 \t181   \t1606.61\t42 \t1.44e+06  \t0  \t181   \t26211      \t3.74333\t42 \t14 \t2  \t181   \t1.69237\n",
      "43 \t182   \t5724.75\t43 \t4.41e+06  \t0  \t182   \t81323.2    \t3.85667\t43 \t14 \t2  \t182   \t1.78963\n",
      "44 \t187   \t4771.73\t44 \t5.29e+06  \t0  \t187   \t80999.3    \t3.79667\t44 \t13 \t2  \t187   \t1.77632\n",
      "45 \t203   \t2171   \t45 \t1.21e+06  \t0  \t203   \t30538.6    \t3.68   \t45 \t10 \t2  \t203   \t1.61584\n",
      "46 \t171   \t2690.65\t46 \t1.21e+06  \t0  \t171   \t35182.8    \t3.58333\t46 \t10 \t2  \t171   \t1.48427\n",
      "47 \t193   \t2167.2 \t47 \t1.21e+06  \t0  \t193   \t30516      \t3.62   \t47 \t10 \t2  \t193   \t1.47273\n",
      "48 \t188   \t2705.62\t48 \t1.21e+06  \t0  \t188   \t34607.9    \t3.78333\t48 \t10 \t2  \t188   \t1.65219\n",
      "49 \t186   \t5171.87\t49 \t4.41e+06  \t0  \t186   \t78926.4    \t3.58667\t49 \t9  \t2  \t186   \t1.35984\n",
      "50 \t170   \t2921.07\t50 \t1.44e+06  \t0  \t170   \t36018      \t3.65   \t50 \t11 \t2  \t170   \t1.43091\n",
      "add(mul(0, x), mul(x, x))\n"
     ]
    }
   ],
   "source": [
    "import numpy\n",
    "from deap import algorithms\n",
    "\n",
    "# 定义统计指标\n",
    "stats_fit = tools.Statistics(lambda ind: ind.fitness.values)\n",
    "stats_size = tools.Statistics(len)\n",
    "mstats = tools.MultiStatistics(fitness=stats_fit, size=stats_size)\n",
    "mstats.register(\"avg\", numpy.mean)\n",
    "mstats.register(\"std\", numpy.std)\n",
    "mstats.register(\"min\", numpy.min)\n",
    "mstats.register(\"max\", numpy.max)\n",
    "\n",
    "# 使用默认算法\n",
    "population = toolbox.population(n=300)\n",
    "hof = tools.HallOfFame(1)\n",
    "pop, log  = algorithms.eaSimple(population=population,\n",
    "                           toolbox=toolbox, cxpb=0.5, mutpb=0.2, ngen=50, stats=mstats, halloffame=hof, verbose=True)\n",
    "print(str(hof[0]))\n"
   ],
   "metadata": {
    "collapsed": false,
    "ExecuteTime": {
     "end_time": "2023-11-07T08:42:04.674749400Z",
     "start_time": "2023-11-07T08:41:53.507523100Z"
    }
   },
   "id": "515b587d4f8876ea"
  }
 ],
 "metadata": {
  "kernelspec": {
   "display_name": "Python 3",
   "language": "python",
   "name": "python3"
  },
  "language_info": {
   "codemirror_mode": {
    "name": "ipython",
    "version": 2
   },
   "file_extension": ".py",
   "mimetype": "text/x-python",
   "name": "python",
   "nbconvert_exporter": "python",
   "pygments_lexer": "ipython2",
   "version": "2.7.6"
  }
 },
 "nbformat": 4,
 "nbformat_minor": 5
}
