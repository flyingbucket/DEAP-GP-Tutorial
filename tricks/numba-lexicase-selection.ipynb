{
 "cells": [
  {
   "cell_type": "markdown",
   "id": "ff6050dfa4dc1b6",
   "metadata": {},
   "source": [
    "## Lexicase Selection Numba加速\n",
    "\n",
    "DEAP中Lexicase Selection的默认实现速度较慢。因此，我们可以尝试使用Numba来加速它。\n",
    "Numba的原理是将Python代码编译为LLVM中间代码，然后再编译为机器码。从而显著提高Python代码的运行速度。"
   ]
  },
  {
   "cell_type": "code",
   "execution_count": 3,
   "id": "59cfefc0467c74ad",
   "metadata": {
    "ExecuteTime": {
     "end_time": "2023-12-25T03:39:37.866831400Z",
     "start_time": "2023-12-25T03:39:37.665471400Z"
    }
   },
   "outputs": [],
   "source": [
    "import numpy as np\n",
    "import math\n",
    "import operator\n",
    "\n",
    "from deap import base, creator, tools, gp\n",
    "import time\n",
    "\n",
    "\n",
    "# 符号回归\n",
    "def evalSymbReg(individual, pset):\n",
    "    # 编译GP树为函数\n",
    "    func = gp.compile(expr=individual, pset=pset)\n",
    "    \n",
    "    # 使用numpy创建一个向量\n",
    "    x = np.linspace(-10, 10, 100) \n",
    "    \n",
    "    return tuple((func(x) - x**2)**2)\n",
    "\n",
    "\n",
    "# 创建个体和适应度函数，适应度数组大小与数据量相同\n",
    "creator.create(\"FitnessMin\", base.Fitness, weights=(-1.0,) * 100)  # 假设我们有100个数据点\n",
    "creator.create(\"Individual\", gp.PrimitiveTree, fitness=creator.FitnessMin)"
   ]
  },
  {
   "cell_type": "markdown",
   "id": "956e01e17271daa6",
   "metadata": {},
   "source": [
    "### 遗传算子\n",
    "在使用Numba进行对Lexicase加速时，只需要重写Lexicase函数，加上@njit(cache=True)这个注解就可以了。\n",
    "需要注意一些特殊的函数可能不受Numba支持，但所有基本的Python运算符都是支持的。"
   ]
  },
  {
   "cell_type": "code",
   "execution_count": 4,
   "id": "c5dbeab9190022",
   "metadata": {
    "ExecuteTime": {
     "end_time": "2023-12-25T03:39:37.891395500Z",
     "start_time": "2023-12-25T03:39:37.870837200Z"
    }
   },
   "outputs": [],
   "source": [
    "from numba import njit\n",
    "import numpy as np\n",
    "\n",
    "\n",
    "@njit(cache=True)\n",
    "def selAutomaticEpsilonLexicaseNumba(case_values, fit_weights, k):\n",
    "    selected_individuals = []\n",
    "    avg_cases = 0\n",
    "\n",
    "    for i in range(k):\n",
    "        candidates = list(range(len(case_values)))\n",
    "        cases = np.arange(len(case_values[0]))\n",
    "        np.random.shuffle(cases)\n",
    "\n",
    "        while len(cases) > 0 and len(candidates) > 1:\n",
    "            errors_for_this_case = np.array(\n",
    "                [case_values[x][cases[0]] for x in candidates]\n",
    "            )\n",
    "            median_val = np.median(errors_for_this_case)\n",
    "            median_absolute_deviation = np.median(\n",
    "                np.array([abs(x - median_val) for x in errors_for_this_case])\n",
    "            )\n",
    "            if fit_weights > 0:\n",
    "                best_val_for_case = np.max(errors_for_this_case)\n",
    "                min_val_to_survive = best_val_for_case - median_absolute_deviation\n",
    "                candidates = list(\n",
    "                    [\n",
    "                        x\n",
    "                        for x in candidates\n",
    "                        if case_values[x][cases[0]] >= min_val_to_survive\n",
    "                    ]\n",
    "                )\n",
    "            else:\n",
    "                best_val_for_case = np.min(errors_for_this_case)\n",
    "                max_val_to_survive = best_val_for_case + median_absolute_deviation\n",
    "                candidates = list(\n",
    "                    [\n",
    "                        x\n",
    "                        for x in candidates\n",
    "                        if case_values[x][cases[0]] <= max_val_to_survive\n",
    "                    ]\n",
    "                )\n",
    "            cases = np.delete(cases, 0)\n",
    "        avg_cases = (avg_cases * i + (len(case_values[0]) - len(cases))) / (i + 1)\n",
    "        selected_individuals.append(np.random.choice(np.array(candidates)))\n",
    "    return selected_individuals, avg_cases\n",
    "\n",
    "def selAutomaticEpsilonLexicaseFast(individuals, k):\n",
    "    fit_weights = individuals[0].fitness.weights[0]\n",
    "    case_values = np.array([ind.fitness.values for ind in individuals])\n",
    "    index, avg_cases = selAutomaticEpsilonLexicaseNumba(case_values, fit_weights, k)\n",
    "    selected_individuals = [individuals[i] for i in index]\n",
    "    return selected_individuals"
   ]
  },
  {
   "cell_type": "markdown",
   "id": "783887f49d890b79",
   "metadata": {},
   "source": [
    "在定义好了新的Lexicase选择算子之后，在注册选择算子的时候，将新的选择算子注册进去就可以了。"
   ]
  },
  {
   "cell_type": "code",
   "execution_count": 5,
   "id": "851794d4d36e3681",
   "metadata": {
    "ExecuteTime": {
     "end_time": "2023-12-25T03:39:37.964779400Z",
     "start_time": "2023-12-25T03:39:37.897670100Z"
    }
   },
   "outputs": [
    {
     "name": "stderr",
     "output_type": "stream",
     "text": [
      "C:\\Users\\zhenl\\anaconda3\\Lib\\site-packages\\deap\\gp.py:254: RuntimeWarning: Ephemeral rand101 function cannot be pickled because its generating function is a lambda function. Use functools.partial instead.\n",
      "  warnings.warn(\"Ephemeral {name} function cannot be \"\n"
     ]
    }
   ],
   "source": [
    "import random\n",
    "\n",
    "# 定义函数集合和终端集合\n",
    "pset = gp.PrimitiveSet(\"MAIN\", arity=1)\n",
    "pset.addPrimitive(operator.add, 2)\n",
    "pset.addPrimitive(operator.sub, 2)\n",
    "pset.addPrimitive(operator.mul, 2)\n",
    "pset.addPrimitive(operator.neg, 1)\n",
    "pset.addEphemeralConstant(\"rand101\", lambda: random.randint(-1, 1))\n",
    "pset.renameArguments(ARG0='x')\n",
    "\n",
    "# 定义遗传编程操作\n",
    "toolbox = base.Toolbox()\n",
    "toolbox.register(\"expr\", gp.genHalfAndHalf, pset=pset, min_=1, max_=2)\n",
    "toolbox.register(\"individual\", tools.initIterate, creator.Individual, toolbox.expr)\n",
    "toolbox.register(\"population\", tools.initRepeat, list, toolbox.individual)\n",
    "toolbox.register(\"compile\", gp.compile, pset=pset)\n",
    "toolbox.register(\"evaluate\", evalSymbReg, pset=pset)\n",
    "toolbox.register(\"select\", selAutomaticEpsilonLexicaseFast)\n",
    "toolbox.register(\"mate\", gp.cxOnePoint)\n",
    "toolbox.register(\"mutate\", gp.mutUniform, expr=toolbox.expr, pset=pset)"
   ]
  },
  {
   "cell_type": "markdown",
   "id": "62f30d17704db709",
   "metadata": {},
   "source": [
    "### 演化流程\n",
    "演化流程与传统符号回归相同。"
   ]
  },
  {
   "cell_type": "code",
   "execution_count": 6,
   "id": "515b587d4f8876ea",
   "metadata": {
    "ExecuteTime": {
     "end_time": "2023-12-25T03:39:39.571928900Z",
     "start_time": "2023-12-25T03:39:37.971234500Z"
    }
   },
   "outputs": [
    {
     "name": "stdout",
     "output_type": "stream",
     "text": [
      "   \t      \t                        fitness                        \t                      size                     \n",
      "   \t      \t-------------------------------------------------------\t-----------------------------------------------\n",
      "gen\tnevals\tavg    \tgen\tmax     \tmin\tnevals\tstd    \tavg\tgen\tmax\tmin\tnevals\tstd    \n",
      "0  \t100   \t5275.44\t0  \t1.21e+06\t0  \t100   \t42915.8\t4  \t0  \t7  \t2  \t100   \t1.54919\n",
      "1  \t91    \t5008.21\t1  \t1.21e+06\t0  \t91    \t52501.4\t4.71\t1  \t14 \t3  \t91    \t2.15543\n",
      "2  \t92    \t8333.56\t2  \t1.21e+06\t0  \t92    \t67566.8\t4.61\t2  \t9  \t3  \t92    \t1.88624\n",
      "3  \t89    \t5219.06\t3  \t1.21e+06\t0  \t89    \t52574.6\t4.44\t3  \t13 \t2  \t89    \t1.9252 \n",
      "4  \t89    \t5054.56\t4  \t1.21e+06\t0  \t89    \t52499.8\t4.45\t4  \t11 \t3  \t89    \t2.02176\n",
      "5  \t92    \t8001.89\t5  \t1.21e+06\t0  \t92    \t67135.2\t4.58\t5  \t11 \t3  \t92    \t2.04539\n",
      "6  \t85    \t9893.52\t6  \t1.21e+06\t0  \t85    \t73912.4\t4.71\t6  \t10 \t3  \t85    \t1.89365\n",
      "7  \t93    \t5239.52\t7  \t1.21e+06\t0  \t93    \t52304.6\t4.62\t7  \t11 \t3  \t93    \t1.9989 \n",
      "8  \t94    \t130452 \t8  \t1.0201e+08\t0  \t94    \t2.67865e+06\t4.88\t8  \t13 \t3  \t94    \t2.21486\n",
      "9  \t84    \t6943.47\t9  \t1.21e+06  \t0  \t84    \t60594      \t4.96\t9  \t17 \t2  \t84    \t2.72734\n",
      "10 \t93    \t477383 \t10 \t3.9601e+08\t0  \t93    \t1.03626e+07\t4.75\t10 \t13 \t3  \t93    \t2.74727\n",
      "mul(x, x)\n",
      "   \t      \t                    fitness                    \t                      size                     \n",
      "   \t      \t-----------------------------------------------\t-----------------------------------------------\n",
      "gen\tnevals\tavg    \tgen\tmax  \tmin\tnevals\tstd    \tavg \tgen\tmax\tmin\tnevals\tstd    \n",
      "0  \t100   \t1975.21\t0  \t40000\t0  \t100   \t3054.43\t4.24\t0  \t7  \t2  \t100   \t1.83368\n",
      "1  \t91    \t6506.41\t1  \t1.21e+06\t0  \t91    \t60537.9\t4.33\t1  \t9  \t2  \t91    \t1.61898\n",
      "2  \t90    \t11200.3\t2  \t1.21e+06\t0  \t90    \t79757.9\t4.26\t2  \t11 \t3  \t90    \t1.63475\n",
      "3  \t90    \t4948.46\t3  \t1.21e+06\t0  \t90    \t52503.9\t4.03\t3  \t9  \t3  \t90    \t1.4863 \n",
      "4  \t87    \t11303.4\t4  \t1.21e+06\t0  \t87    \t79801.3\t3.96\t4  \t9  \t2  \t87    \t1.50944\n",
      "5  \t86    \t14149.8\t5  \t4.41e+06\t0  \t86    \t136105 \t3.99\t5  \t9  \t3  \t86    \t1.49328\n",
      "6  \t86    \t11076.8\t6  \t1.21e+06\t0  \t86    \t79383.5\t3.91\t6  \t10 \t3  \t86    \t1.56904\n",
      "7  \t92    \t9538.33\t7  \t1.21e+06\t0  \t92    \t73545.9\t3.69\t7  \t9  \t3  \t92    \t1.33937\n",
      "8  \t94    \t4824.25\t8  \t1.21e+06\t0  \t94    \t51932.3\t3.57\t8  \t9  \t3  \t94    \t1.39467\n",
      "9  \t91    \t4883.65\t9  \t1.21e+06\t0  \t91    \t52520.1\t3.37\t9  \t9  \t3  \t91    \t0.986458\n",
      "10 \t86    \t3370.4 \t10 \t1.21e+06\t0  \t86    \t42938.1\t3.47\t10 \t9  \t3  \t86    \t1.25264 \n",
      "mul(x, x)\n",
      "   \t      \t                    fitness                    \t                      size                     \n",
      "   \t      \t-----------------------------------------------\t-----------------------------------------------\n",
      "gen\tnevals\tavg    \tgen\tmax  \tmin\tnevals\tstd    \tavg\tgen\tmax\tmin\tnevals\tstd    \n",
      "0  \t100   \t2225.68\t0  \t44100\t0  \t100   \t3764.38\t3.8\t0  \t7  \t2  \t100   \t1.66132\n",
      "1  \t85    \t3137.36\t1  \t1.21e+06\t0  \t85    \t42922.2\t3.15\t1  \t9  \t3  \t85    \t0.71239\n",
      "2  \t95    \t1851.37\t2  \t1.21e+06\t0  \t95    \t30475.6\t3.21\t2  \t9  \t3  \t95    \t0.778396\n",
      "3  \t88    \t1560.67\t3  \t980100  \t0  \t88    \t28709.3\t3.17\t3  \t9  \t2  \t88    \t0.860872\n",
      "4  \t82    \t84.6141\t4  \t12100   \t0  \t82    \t701.567\t3.19\t4  \t7  \t2  \t82    \t0.783518\n",
      "5  \t90    \t5009.87\t5  \t1.21e+06\t0  \t90    \t52529.5\t3.47\t5  \t9  \t3  \t90    \t1.2685  \n",
      "6  \t91    \t1954.46\t6  \t1.21e+06\t0  \t91    \t30572  \t3.56\t6  \t11 \t3  \t91    \t1.58947 \n",
      "7  \t93    \t119026 \t7  \t1.1881e+08\t0  \t93    \t2.64798e+06\t3.23\t7  \t9  \t2  \t93    \t1.01838 \n",
      "8  \t79    \t3325.04\t8  \t1.21e+06  \t0  \t79    \t42938.1    \t3.19\t8  \t7  \t2  \t79    \t0.716868\n",
      "9  \t92    \t1934.68\t9  \t1.21e+06  \t0  \t92    \t30571.3    \t3.4 \t9  \t9  \t3  \t92    \t1.13137 \n",
      "10 \t92    \t397.156\t10 \t40000     \t0  \t92    \t2548.25    \t3.32\t10 \t9  \t2  \t92    \t1.00876 \n",
      "mul(x, x)\n"
     ]
    }
   ],
   "source": [
    "import numpy\n",
    "from deap import algorithms\n",
    "\n",
    "# 定义统计指标\n",
    "stats_fit = tools.Statistics(lambda ind: ind.fitness.values)\n",
    "stats_size = tools.Statistics(len)\n",
    "mstats = tools.MultiStatistics(fitness=stats_fit, size=stats_size)\n",
    "mstats.register(\"avg\", numpy.mean)\n",
    "mstats.register(\"std\", numpy.std)\n",
    "mstats.register(\"min\", numpy.min)\n",
    "mstats.register(\"max\", numpy.max)\n",
    "\n",
    "# 使用Numba加速\n",
    "numba_lexicase_time = []\n",
    "for i in range(3):\n",
    "    start = time.time()\n",
    "    population = toolbox.population(n=100)\n",
    "    hof = tools.HallOfFame(1)\n",
    "    pop, log  = algorithms.eaSimple(population=population,\n",
    "                               toolbox=toolbox, cxpb=0.9, mutpb=0.1, ngen=10, stats=mstats, halloffame=hof, verbose=True)\n",
    "    end = time.time()\n",
    "    print(str(hof[0]))\n",
    "    numba_lexicase_time.append(end - start)\n"
   ]
  },
  {
   "cell_type": "markdown",
   "id": "98efab3037e032ea",
   "metadata": {},
   "source": [
    "为了展示Numba加速的效果，我们将使用纯Python实现的Lexicase Selection进行对比。"
   ]
  },
  {
   "cell_type": "code",
   "execution_count": 7,
   "id": "e1efd33d5f96a536",
   "metadata": {
    "ExecuteTime": {
     "end_time": "2023-12-25T03:45:33.479324Z",
     "start_time": "2023-12-25T03:39:39.565415500Z"
    }
   },
   "outputs": [
    {
     "name": "stdout",
     "output_type": "stream",
     "text": [
      "   \t      \t                        fitness                        \t                      size                     \n",
      "   \t      \t-------------------------------------------------------\t-----------------------------------------------\n",
      "gen\tnevals\tavg    \tgen\tmax     \tmin\tnevals\tstd    \tavg \tgen\tmax\tmin\tnevals\tstd    \n",
      "0  \t100   \t3651.98\t0  \t1.21e+06\t0  \t100   \t30493.7\t4.67\t0  \t7  \t2  \t100   \t1.74387\n",
      "1  \t90    \t441.554\t1  \t44100   \t0  \t90    \t2602.04\t3.36\t1  \t9  \t3  \t90    \t1.16207\n",
      "2  \t91    \t293.089\t2  \t44100   \t0  \t91    \t2139.02\t3.25\t2  \t8  \t3  \t91    \t0.876071\n",
      "3  \t90    \t1726.19\t3  \t1.21e+06\t0  \t90    \t30422  \t3.28\t3  \t9  \t3  \t90    \t1.0008  \n",
      "4  \t95    \t4864.87\t4  \t1.21e+06\t0  \t95    \t52507.2\t3.43\t4  \t9  \t3  \t95    \t1.21041 \n",
      "5  \t91    \t145.704\t5  \t10000   \t0  \t91    \t902.638\t3.35\t5  \t9  \t3  \t91    \t1.21963 \n",
      "6  \t84    \t278.787\t6  \t40000   \t0  \t84    \t1736.06\t3.3 \t6  \t9  \t2  \t84    \t1.09087 \n",
      "7  \t96    \t1600.26\t7  \t1.21e+06\t0  \t96    \t30392.7\t3.08\t7  \t7  \t3  \t96    \t0.483322\n",
      "8  \t84    \t167.528\t8  \t40000   \t0  \t84    \t1547.77\t3.22\t8  \t8  \t3  \t84    \t0.819512\n",
      "9  \t98    \t1895.42\t9  \t1.2321e+06\t0  \t98    \t31134.9\t3.22\t9  \t9  \t2  \t98    \t0.878408\n",
      "10 \t87    \t4718.15\t10 \t1.21e+06  \t0  \t87    \t52498.5\t3.27\t10 \t8  \t3  \t87    \t0.903936\n",
      "mul(x, x)\n",
      "   \t      \t                        fitness                        \t                      size                     \n",
      "   \t      \t-------------------------------------------------------\t-----------------------------------------------\n",
      "gen\tnevals\tavg    \tgen\tmax     \tmin\tnevals\tstd    \tavg \tgen\tmax\tmin\tnevals\tstd    \n",
      "0  \t100   \t3562.89\t0  \t1.44e+06\t0  \t100   \t33301.1\t4.08\t0  \t7  \t2  \t100   \t1.65336\n",
      "1  \t99    \t129543 \t1  \t1.0201e+08\t0  \t99    \t2.67852e+06\t4.81\t1  \t11 \t3  \t99    \t1.78154\n",
      "2  \t87    \t10353.5\t2  \t4.41e+06  \t0  \t87    \t125928     \t4.23\t2  \t9  \t2  \t87    \t1.56751\n",
      "3  \t89    \t8502.77\t3  \t1.21e+06  \t0  \t89    \t66867.3    \t4.08\t3  \t11 \t3  \t89    \t1.54065\n",
      "4  \t95    \t122728 \t4  \t1.1881e+08\t0  \t95    \t2.64816e+06\t3.87\t4  \t11 \t3  \t95    \t1.5143 \n",
      "5  \t91    \t7960.63\t5  \t4.41e+06  \t0  \t91    \t122289     \t3.59\t5  \t11 \t2  \t91    \t1.47713\n",
      "6  \t91    \t1998.09\t6  \t1.21e+06  \t0  \t91    \t30454.9    \t3.42\t6  \t7  \t2  \t91    \t0.929301\n",
      "7  \t87    \t3408.27\t7  \t1.21e+06  \t0  \t87    \t42495.1    \t3.33\t7  \t9  \t3  \t87    \t0.990505\n",
      "8  \t89    \t1975.59\t8  \t1e+06     \t0  \t89    \t29499.2    \t3.45\t8  \t8  \t2  \t89    \t1.26787 \n",
      "9  \t88    \t1808.82\t9  \t1.44e+06  \t0  \t88    \t33282.9    \t3.39\t9  \t9  \t2  \t88    \t1.24816 \n",
      "10 \t90    \t251.822\t10 \t40000     \t0  \t90    \t1693.86    \t3.22\t10 \t7  \t3  \t90    \t0.715262\n",
      "sub(mul(x, x), 0)\n",
      "   \t      \t                    fitness                    \t                      size                     \n",
      "   \t      \t-----------------------------------------------\t-----------------------------------------------\n",
      "gen\tnevals\tavg    \tgen\tmax  \tmin\tnevals\tstd    \tavg \tgen\tmax\tmin\tnevals\tstd    \n",
      "0  \t100   \t2222.76\t0  \t44100\t0  \t100   \t3940.18\t3.86\t0  \t7  \t2  \t100   \t1.60012\n",
      "1  \t94    \t4969.96\t1  \t1.21e+06\t0  \t94    \t52503.5\t4.03\t1  \t7  \t3  \t94    \t1.56496\n",
      "2  \t93    \t9537.67\t2  \t1.21e+06\t0  \t93    \t73934.3\t4.15\t2  \t10 \t3  \t93    \t1.77975\n",
      "3  \t94    \t2020.59\t3  \t1.21e+06\t0  \t94    \t30526.7\t3.92\t3  \t9  \t3  \t94    \t1.69517\n",
      "4  \t96    \t209.845\t4  \t40000   \t0  \t96    \t1618.7 \t3.78\t4  \t11 \t2  \t96    \t1.61604\n",
      "5  \t94    \t8063.67\t5  \t1.21e+06\t0  \t94    \t67163.1\t4.1 \t5  \t9  \t2  \t94    \t1.81934\n",
      "6  \t86    \t5093.5 \t6  \t1.21e+06\t0  \t86    \t52525.1\t4.19\t6  \t12 \t3  \t86    \t2.09139\n",
      "7  \t88    \t3409.3 \t7  \t1.21e+06\t0  \t88    \t42937.1\t3.88\t7  \t11 \t3  \t88    \t1.94566\n",
      "8  \t95    \t459.597\t8  \t90000   \t0  \t95    \t3741.5 \t3.96\t8  \t11 \t3  \t95    \t2.08768\n",
      "9  \t88    \t9639.39\t9  \t4.41e+06\t0  \t88    \t125915 \t4.04\t9  \t13 \t3  \t88    \t2.10675\n",
      "10 \t88    \t3473.43\t10 \t1.21e+06\t0  \t88    \t42953.7\t3.5 \t10 \t9  \t3  \t88    \t1.253  \n",
      "mul(x, x)\n"
     ]
    }
   ],
   "source": [
    "# 使用纯Python实现的Lexicase Selection\n",
    "toolbox.register(\"select\", tools.selAutomaticEpsilonLexicase)\n",
    "python_lexicase_time = []\n",
    "for i in range(3):\n",
    "    start = time.time()\n",
    "    population = toolbox.population(n=100)\n",
    "    hof = tools.HallOfFame(1)\n",
    "    pop, log  = algorithms.eaSimple(population=population,\n",
    "                               toolbox=toolbox, cxpb=0.9, mutpb=0.1, ngen=10, stats=mstats, halloffame=hof, verbose=True)\n",
    "    end = time.time()\n",
    "    print(str(hof[0]))\n",
    "    python_lexicase_time.append(end - start)"
   ]
  },
  {
   "cell_type": "markdown",
   "id": "adae32e725d21dcf",
   "metadata": {},
   "source": [
    "下面是Numba加速和纯Python实现的Lexicase Selection的运行时间对比。从结果可以看出，Numba加速后的Lexicase Selection的运行速度远优于纯Python实现的Lexicase Selection。"
   ]
  },
  {
   "cell_type": "code",
   "execution_count": 8,
   "id": "3caf7686fef519a",
   "metadata": {
    "ExecuteTime": {
     "end_time": "2023-12-25T03:45:33.641210400Z",
     "start_time": "2023-12-25T03:45:33.479324Z"
    }
   },
   "outputs": [
    {
     "data": {
      "image/png": "[encoded data removed]",
      "text/plain": [
       "<Figure size 400x300 with 1 Axes>"
      ]
     },
     "metadata": {},
     "output_type": "display_data"
    }
   ],
   "source": [
    "import seaborn as sns\n",
    "import matplotlib.pyplot as plt\n",
    "import pandas as pd\n",
    "\n",
    "data = pd.DataFrame(\n",
    "    {'Category': ['Numba Lexicase'] * len(numba_lexicase_time) + ['Python Lexicase'] * len(python_lexicase_time),\n",
    "     'Time': np.concatenate([numba_lexicase_time, python_lexicase_time])})\n",
    "\n",
    "plt.figure(figsize=(4, 3))\n",
    "sns.set_style(\"whitegrid\")\n",
    "sns.boxplot(data=data, x='Category', y='Time', palette=\"Set3\", width=0.4)\n",
    "plt.title('Comparison of Numba and Pure Python')\n",
    "plt.xlabel('')\n",
    "plt.ylabel('Time')\n",
    "plt.show()"
   ]
  }
 ],
 "metadata": {
  "kernelspec": {
   "display_name": "Python 3 (ipykernel)",
   "language": "python",
   "name": "python3"
  },
  "language_info": {
   "codemirror_mode": {
    "name": "ipython",
    "version": 3
   },
   "file_extension": ".py",
   "mimetype": "text/x-python",
   "name": "python",
   "nbconvert_exporter": "python",
   "pygments_lexer": "ipython3",
   "version": "3.11.4"
  }
 },
 "nbformat": 4,
 "nbformat_minor": 5
}
