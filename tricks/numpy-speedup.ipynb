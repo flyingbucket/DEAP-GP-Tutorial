{
 "cells": [
  {
   "cell_type": "markdown",
   "id": "8db4ada5ce6ebf73",
   "metadata": {},
   "source": [
    "### Numpy 加速\n",
    "Python 是一种相对较慢的编程语言，但是我们可以通过使用Numpy来加速Python的运算。Numpy是一个基于C语言的库，提供了许多高效的运算函数，例如矩阵运算和线性代数运算等。这些运算都基于C语言实现，因此速度非常快。\n",
    "\n",
    "GP的性能瓶颈通常在于模型评估。因此，在这里，我们重点关注如何加速评估函数。其实很简单，将数据集转换为Numpy数组，然后使用Numpy函数来计算MSE即可。下面是一个例子。"
   ]
  },
  {
   "cell_type": "code",
   "execution_count": 1,
   "id": "initial_id",
   "metadata": {
    "ExecuteTime": {
     "end_time": "2023-11-14T09:14:24.923043100Z",
     "start_time": "2023-11-14T09:14:24.908046400Z"
    }
   },
   "source": [
    "import time\n",
    "\n",
    "import numpy as np\n",
    "from deap import base, creator, tools, gp\n",
    "\n",
    "\n",
    "# 符号回归\n",
    "def evalSymbReg(individual, pset):\n",
    "    # 编译GP树为函数\n",
    "    func = gp.compile(expr=individual, pset=pset)\n",
    "    \n",
    "    # 使用numpy创建一个向量\n",
    "    x = np.linspace(-10, 10, 100) \n",
    "    \n",
    "    # 评估生成的函数并计算MSE\n",
    "    mse = np.mean((func(x) - x**2)**2)\n",
    "    \n",
    "    return (mse,)\n",
    "\n",
    "# 创建个体和适应度函数\n",
    "creator.create(\"FitnessMin\", base.Fitness, weights=(-1.0,))\n",
    "creator.create(\"Individual\", gp.PrimitiveTree, fitness=creator.FitnessMin)\n"
   ],
   "outputs": []
  },
  {
   "cell_type": "markdown",
   "id": "e3d94e424b58af5a",
   "metadata": {},
   "source": [
    "同时，我们还可以考虑将一些算子替换为Numpy函数。尽管这并不是非常重要，因为Numpy已经重载了许多运算符。"
   ]
  },
  {
   "cell_type": "code",
   "execution_count": 2,
   "id": "cb6cf38094256262",
   "metadata": {
    "ExecuteTime": {
     "end_time": "2023-11-14T09:14:24.933166800Z",
     "start_time": "2023-11-14T09:14:24.927568400Z"
    }
   },
   "source": [
    "import random\n",
    "\n",
    "# 定义函数集合和终端集合\n",
    "pset = gp.PrimitiveSet(\"MAIN\", arity=1)\n",
    "pset.addPrimitive(np.add, 2)\n",
    "pset.addPrimitive(np.subtract, 2)\n",
    "pset.addPrimitive(np.multiply, 2)\n",
    "pset.addPrimitive(np.negative, 1)\n",
    "def random_int(): return random.randint(-1, 1)\n",
    "pset.addEphemeralConstant(\"rand101\", random_int)\n",
    "pset.renameArguments(ARG0='x')\n",
    "\n",
    "# 定义遗传编程操作\n",
    "toolbox = base.Toolbox()\n",
    "toolbox.register(\"expr\", gp.genHalfAndHalf, pset=pset, min_=1, max_=2)\n",
    "toolbox.register(\"individual\", tools.initIterate, creator.Individual, toolbox.expr)\n",
    "toolbox.register(\"population\", tools.initRepeat, list, toolbox.individual)\n",
    "toolbox.register(\"compile\", gp.compile, pset=pset)\n",
    "toolbox.register(\"evaluate\", evalSymbReg, pset=pset)\n",
    "toolbox.register(\"select\", tools.selTournament, tournsize=3)\n",
    "toolbox.register(\"mate\", gp.cxOnePoint)\n",
    "toolbox.register(\"mutate\", gp.mutUniform, expr=toolbox.expr, pset=pset)"
   ],
   "outputs": []
  },
  {
   "cell_type": "markdown",
   "id": "e09fa8e7890d583b",
   "metadata": {},
   "source": [
    "现在，让我们来测试一下加速效果。"
   ]
  },
  {
   "cell_type": "code",
   "execution_count": 3,
   "id": "88c62bc071d56191",
   "metadata": {
    "ExecuteTime": {
     "end_time": "2023-11-14T09:14:25.525098600Z",
     "start_time": "2023-11-14T09:14:24.935256200Z"
    }
   },
   "source": [
    "import numpy\n",
    "from deap import algorithms\n",
    "\n",
    "# 定义统计指标\n",
    "stats_fit = tools.Statistics(lambda ind: ind.fitness.values)\n",
    "stats_size = tools.Statistics(len)\n",
    "mstats = tools.MultiStatistics(fitness=stats_fit, size=stats_size)\n",
    "mstats.register(\"avg\", numpy.mean)\n",
    "mstats.register(\"std\", numpy.std)\n",
    "mstats.register(\"min\", numpy.min)\n",
    "mstats.register(\"max\", numpy.max)\n",
    "\n",
    "# 使用默认算法\n",
    "np_time=[]\n",
    "for i in range(3):\n",
    "    start=time.time()\n",
    "    population = toolbox.population(n=300)\n",
    "    hof = tools.HallOfFame(1)\n",
    "    pop, log  = algorithms.eaSimple(population=population,\n",
    "                               toolbox=toolbox, cxpb=0.9, mutpb=0.1, ngen=10, stats=mstats, halloffame=hof, verbose=True)\n",
    "    end=time.time()\n",
    "    print('time:',end-start)\n",
    "    np_time.append(end-start)\n",
    "    print(str(hof[0]))"
   ],
   "outputs": []
  },
  {
   "cell_type": "markdown",
   "id": "be250c9740bc2817",
   "metadata": {},
   "source": [
    "对比下面的原始评估函数，使用Numpy的加速效果还是非常明显的。"
   ]
  },
  {
   "cell_type": "code",
   "execution_count": 4,
   "id": "f2ddb57d24051753",
   "metadata": {
    "ExecuteTime": {
     "end_time": "2023-11-14T09:14:27.572677800Z",
     "start_time": "2023-11-14T09:14:25.521044600Z"
    }
   },
   "source": [
    "# 慢速评估\n",
    "def evalSymbRegSlow(individual, pset):\n",
    "    # 编译GP树为函数\n",
    "    func = gp.compile(expr=individual, pset=pset)\n",
    "    \n",
    "    # 创建评估数据\n",
    "    xs = [x/5.0 for x in range(-50, 51)]\n",
    "    \n",
    "    # 评估生成的函数并计算MSE\n",
    "    mse = sum((func(x) - x**2)**2 for x in xs) / len(xs)\n",
    "    \n",
    "    return (mse,)\n",
    "\n",
    "toolbox.register(\"evaluate\", evalSymbRegSlow, pset=pset)\n",
    "\n",
    "py_time=[]\n",
    "for i in range(3):\n",
    "    start=time.time()\n",
    "    population = toolbox.population(n=300)\n",
    "    hof = tools.HallOfFame(1)\n",
    "    pop, log  = algorithms.eaSimple(population=population,\n",
    "                               toolbox=toolbox, cxpb=0.9, mutpb=0.1, ngen=10, stats=mstats, halloffame=hof, verbose=True)\n",
    "    end=time.time()\n",
    "    print('time:',end-start)\n",
    "    py_time.append(end-start)"
   ],
   "outputs": []
  },
  {
   "cell_type": "markdown",
   "id": "75ed499f209894ae",
   "metadata": {},
   "source": [
    "最后，我们可以使用seaborn绘制一个图来比较Numpy和Python的性能。可以看出，Numpy显著提高了速度。"
   ]
  },
  {
   "cell_type": "code",
   "execution_count": 7,
   "id": "f09f85635ed36092",
   "metadata": {
    "ExecuteTime": {
     "end_time": "2023-11-14T09:24:29.905469100Z",
     "start_time": "2023-11-14T09:24:29.810538800Z"
    }
   },
   "source": [
    "import seaborn as sns\n",
    "import matplotlib.pyplot as plt\n",
    "import pandas as pd\n",
    "data = pd.DataFrame({'Category': ['Numpy'] * len(np_time) + ['Python'] * len(py_time),\n",
    "                     'Time': np.concatenate([np_time, py_time])})\n",
    "\n",
    "\n",
    "plt.figure(figsize=(4, 3))\n",
    "sns.set_style(\"whitegrid\")\n",
    "sns.boxplot(data=data, x='Category', y='Time',palette=\"Set3\", width=0.4)\n",
    "plt.title('Comparison of Numpy and Python')\n",
    "plt.xlabel('')\n",
    "plt.ylabel('Time')\n",
    "plt.show()"
   ],
   "outputs": []
  }
 ],
 "metadata": {
  "kernelspec": {
   "display_name": "Python 3 (ipykernel)",
   "language": "python",
   "name": "python3"
  },
  "language_info": {
   "codemirror_mode": {
    "name": "ipython",
    "version": 3
   },
   "file_extension": ".py",
   "mimetype": "text/x-python",
   "name": "python",
   "nbconvert_exporter": "python",
   "pygments_lexer": "ipython3",
   "version": "3.11.4"
  }
 },
 "nbformat": 4,
 "nbformat_minor": 5
}
