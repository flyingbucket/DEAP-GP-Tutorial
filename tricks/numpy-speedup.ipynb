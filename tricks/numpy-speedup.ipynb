{
 "cells": [
  {
   "cell_type": "markdown",
   "source": [
    "### Numpy 加速\n",
    "Python 是一种相对较慢的编程语言，但是我们可以通过使用Numpy来加速Python的运算。Numpy是一个基于C语言的库，提供了许多高效的运算函数，例如矩阵运算和线性代数运算等。这些运算都是基于C语言实现的，因此速度非常快。\n",
    "\n",
    "GP的性能瓶颈通常在于模型评估。因此，在这里，我们重点关注如何加速评估函数。"
   ],
   "metadata": {
    "collapsed": false
   },
   "id": "8db4ada5ce6ebf73"
  },
  {
   "cell_type": "code",
   "execution_count": 1,
   "outputs": [],
   "source": [
    "import time\n",
    "\n",
    "import numpy as np\n",
    "from deap import base, creator, tools, gp\n",
    "\n",
    "\n",
    "# 符号回归\n",
    "def evalSymbReg(individual, pset):\n",
    "    # 编译GP树为函数\n",
    "    func = gp.compile(expr=individual, pset=pset)\n",
    "    \n",
    "    # 使用numpy创建一个向量\n",
    "    x = np.linspace(-10, 10, 100) \n",
    "    \n",
    "    # 评估生成的函数并计算MSE\n",
    "    mse = np.mean((func(x) - x**2)**2)\n",
    "    \n",
    "    return (mse,)\n",
    "\n",
    "# 创建个体和适应度函数\n",
    "creator.create(\"FitnessMin\", base.Fitness, weights=(-1.0,))\n",
    "creator.create(\"Individual\", gp.PrimitiveTree, fitness=creator.FitnessMin)\n",
    "\n"
   ],
   "metadata": {
    "collapsed": false,
    "ExecuteTime": {
     "end_time": "2023-11-07T08:11:26.425474300Z",
     "start_time": "2023-11-07T08:11:26.406218900Z"
    }
   },
   "id": "initial_id"
  },
  {
   "cell_type": "markdown",
   "source": [
    "同时，我们还可以考虑将一些算子替换为Numpy函数。尽管这并不是非常重要，因为Numpy已经重载了许多运算符。"
   ],
   "metadata": {
    "collapsed": false
   },
   "id": "e3d94e424b58af5a"
  },
  {
   "cell_type": "code",
   "execution_count": 2,
   "outputs": [
    {
     "name": "stderr",
     "output_type": "stream",
     "text": [
      "C:\\Users\\zhenl\\anaconda3\\Lib\\site-packages\\deap\\gp.py:254: RuntimeWarning: Ephemeral rand101 function cannot be pickled because its generating function is a lambda function. Use functools.partial instead.\n",
      "  warnings.warn(\"Ephemeral {name} function cannot be \"\n"
     ]
    }
   ],
   "source": [
    "import random\n",
    "\n",
    "# 定义函数集合和终端集合\n",
    "pset = gp.PrimitiveSet(\"MAIN\", arity=1)\n",
    "pset.addPrimitive(np.add, 2)\n",
    "pset.addPrimitive(np.subtract, 2)\n",
    "pset.addPrimitive(np.multiply, 2)\n",
    "pset.addPrimitive(np.negative, 1)\n",
    "pset.addEphemeralConstant(\"rand101\", lambda: random.randint(-1, 1))\n",
    "pset.renameArguments(ARG0='x')\n",
    "\n",
    "# 定义遗传编程操作\n",
    "toolbox = base.Toolbox()\n",
    "toolbox.register(\"expr\", gp.genHalfAndHalf, pset=pset, min_=1, max_=2)\n",
    "toolbox.register(\"individual\", tools.initIterate, creator.Individual, toolbox.expr)\n",
    "toolbox.register(\"population\", tools.initRepeat, list, toolbox.individual)\n",
    "toolbox.register(\"compile\", gp.compile, pset=pset)\n",
    "toolbox.register(\"evaluate\", evalSymbReg, pset=pset)\n",
    "toolbox.register(\"select\", tools.selTournament, tournsize=3)\n",
    "toolbox.register(\"mate\", gp.cxOnePoint)\n",
    "toolbox.register(\"mutate\", gp.mutUniform, expr=toolbox.expr, pset=pset)"
   ],
   "metadata": {
    "collapsed": false,
    "ExecuteTime": {
     "end_time": "2023-11-07T08:11:26.435046600Z",
     "start_time": "2023-11-07T08:11:26.428482600Z"
    }
   },
   "id": "cb6cf38094256262"
  },
  {
   "cell_type": "markdown",
   "source": [
    "现在，让我们来测试一下加速效果。"
   ],
   "metadata": {
    "collapsed": false
   },
   "id": "e09fa8e7890d583b"
  },
  {
   "cell_type": "code",
   "execution_count": 3,
   "outputs": [
    {
     "name": "stdout",
     "output_type": "stream",
     "text": [
      "   \t      \t                    fitness                    \t                      size                     \n",
      "   \t      \t-----------------------------------------------\t-----------------------------------------------\n",
      "gen\tnevals\tavg    \tgen\tmax   \tmin\tnevals\tstd    \tavg    \tgen\tmax\tmin\tnevals\tstd    \n",
      "0  \t300   \t2678.55\t0  \t151631\t0  \t300   \t8686.15\t4.16333\t0  \t7  \t2  \t300   \t1.75973\n",
      "1  \t161   \t3087.55\t1  \t153712\t0  \t161   \t12461.1\t4.31667\t1  \t13 \t2  \t161   \t2.07759\n",
      "2  \t178   \t3250.26\t2  \t153712\t0  \t178   \t15065.2\t4.79   \t2  \t13 \t2  \t178   \t2.09902\n",
      "3  \t176   \t4531.73\t3  \t159956\t0  \t176   \t21531.6\t4.85   \t3  \t13 \t2  \t176   \t2.07866\n",
      "4  \t178   \t47079.9\t4  \t1.17257e+07\t0  \t178   \t676813 \t4.89   \t4  \t13 \t2  \t178   \t2.23858\n",
      "5  \t182   \t4826.69\t5  \t162173     \t0  \t182   \t24785.2\t4.54667\t5  \t13 \t2  \t182   \t2.17282\n",
      "6  \t186   \t7083.44\t6  \t153712     \t0  \t186   \t30146.7\t4.15667\t6  \t11 \t2  \t186   \t1.78665\n",
      "7  \t174   \t5444.15\t7  \t159956     \t0  \t174   \t26248.1\t4.05333\t7  \t12 \t2  \t174   \t1.77496\n",
      "8  \t184   \t6952.6 \t8  \t159956     \t0  \t184   \t30215  \t4.30333\t8  \t13 \t2  \t184   \t2.05864\n",
      "9  \t185   \t45476.8\t9  \t1.23323e+07\t0  \t185   \t710951 \t4.19   \t9  \t11 \t2  \t185   \t1.98004\n",
      "10 \t189   \t43787.3\t10 \t1.17257e+07\t0  \t189   \t676717 \t4.19   \t10 \t11 \t2  \t189   \t1.93922\n",
      "11 \t179   \t46783.4\t11 \t1.23323e+07\t0  \t179   \t711668 \t4.01667\t11 \t11 \t2  \t179   \t1.86808\n",
      "12 \t192   \t2542.11\t12 \t153712     \t0  \t192   \t15415.8\t3.99667\t12 \t11 \t2  \t192   \t1.73685\n",
      "13 \t180   \t45100.7\t13 \t1.23323e+07\t0  \t180   \t710925 \t4.02   \t13 \t15 \t2  \t180   \t1.91126\n",
      "14 \t202   \t10393.3\t14 \t608604     \t0  \t202   \t56848.6\t4.12   \t14 \t15 \t2  \t202   \t2.0475 \n",
      "15 \t160   \t3114.53\t15 \t159956     \t0  \t160   \t19765.3\t3.79333\t15 \t13 \t2  \t160   \t1.71774\n",
      "16 \t181   \t7255.68\t16 \t608604     \t0  \t181   \t43578.1\t3.78667\t16 \t11 \t2  \t181   \t1.63539\n",
      "17 \t170   \t5787.05\t17 \t608604     \t0  \t170   \t40915.8\t3.72333\t17 \t9  \t2  \t170   \t1.48777\n",
      "18 \t184   \t1575.81\t18 \t153712     \t0  \t184   \t12489.4\t3.81   \t18 \t9  \t2  \t184   \t1.59392\n",
      "19 \t179   \t4129.94\t19 \t625254     \t0  \t179   \t39039.5\t3.87   \t19 \t11 \t2  \t179   \t1.63903\n",
      "20 \t174   \t42205.6\t20 \t1.17257e+07\t0  \t174   \t675965 \t3.90667\t20 \t11 \t2  \t174   \t1.68264\n",
      "21 \t173   \t2795.64\t21 \t153712     \t0  \t173   \t17562.5\t3.77   \t21 \t12 \t2  \t173   \t1.52439\n",
      "22 \t174   \t4756.26\t22 \t159956     \t0  \t174   \t24901.4\t3.95333\t22 \t12 \t2  \t174   \t1.77327\n",
      "23 \t180   \t1970.8 \t23 \t159956     \t0  \t180   \t15540.8\t3.75333\t23 \t9  \t2  \t180   \t1.64696\n",
      "24 \t172   \t2976.11\t24 \t153712     \t0  \t172   \t19659.5\t3.95333\t24 \t18 \t2  \t172   \t1.94195\n",
      "25 \t178   \t3466.18\t25 \t159956     \t0  \t178   \t21645.6\t3.69333\t25 \t11 \t2  \t178   \t1.50973\n",
      "26 \t194   \t3935.44\t26 \t153712     \t0  \t194   \t21457.5\t4.01333\t26 \t15 \t2  \t194   \t1.92868\n",
      "27 \t174   \t41783.8\t27 \t1.17257e+07\t0  \t174   \t675931 \t4.09   \t27 \t12 \t3  \t174   \t1.97194\n",
      "28 \t175   \t2948.13\t28 \t157909     \t0  \t175   \t17811  \t4.03   \t28 \t13 \t2  \t175   \t1.94656\n",
      "29 \t183   \t43972  \t29 \t1.21786e+07\t0  \t183   \t702038 \t3.98667\t29 \t13 \t2  \t183   \t1.78694\n",
      "30 \t176   \t47511.3\t30 \t1.23323e+07\t0  \t176   \t711037 \t3.93667\t30 \t13 \t2  \t176   \t1.9007 \n",
      "31 \t200   \t4770.27\t31 \t159956     \t0  \t200   \t24942.6\t4.06667\t31 \t15 \t2  \t200   \t2.05643\n",
      "32 \t202   \t46562.2\t32 \t1.20269e+07\t0  \t202   \t693441 \t4.14667\t32 \t15 \t2  \t202   \t2.09885\n",
      "33 \t175   \t4465.66\t33 \t153712     \t0  \t175   \t23099.4\t3.96667\t33 \t13 \t2  \t175   \t1.72014\n",
      "34 \t174   \t2781.5 \t34 \t155827     \t0  \t174   \t17747.7\t3.84667\t34 \t12 \t2  \t174   \t1.5989 \n",
      "35 \t173   \t41901.4\t35 \t1.17257e+07\t0  \t173   \t675930 \t4.10667\t35 \t14 \t2  \t173   \t1.89084\n",
      "36 \t180   \t2782.97\t36 \t153712     \t0  \t180   \t17519.5\t4.13333\t36 \t12 \t2  \t180   \t1.80432\n",
      "37 \t183   \t6419.41\t37 \t606522     \t0  \t183   \t41733.3\t4.06   \t37 \t14 \t2  \t183   \t1.8663 \n",
      "38 \t191   \t9521.53\t38 \t608604     \t0  \t191   \t55499.1\t4.12333\t38 \t15 \t2  \t191   \t1.91697\n",
      "39 \t185   \t8894.16\t39 \t675343     \t0  \t185   \t56956.4\t3.98667\t39 \t13 \t2  \t185   \t1.81471\n",
      "40 \t170   \t3065.51\t40 \t153712     \t0  \t170   \t19668.1\t3.75333\t40 \t9  \t2  \t170   \t1.45115\n",
      "41 \t174   \t6256.44\t41 \t608604     \t0  \t174   \t41892.6\t3.81667\t41 \t11 \t2  \t174   \t1.58631\n",
      "42 \t191   \t46437  \t42 \t1.18774e+07\t0  \t191   \t685547 \t3.84333\t42 \t9  \t2  \t191   \t1.51177\n",
      "43 \t188   \t3224.39\t43 \t159956     \t0  \t188   \t20000.2\t3.88   \t43 \t10 \t2  \t188   \t1.62037\n",
      "44 \t185   \t3570.82\t44 \t159956     \t0  \t185   \t21636.5\t3.80333\t44 \t11 \t2  \t185   \t1.52687\n",
      "45 \t195   \t200595 \t45 \t4.75033e+07\t0  \t195   \t2.81786e+06\t3.81333\t45 \t11 \t2  \t195   \t1.54655\n",
      "46 \t192   \t2318.62\t46 \t159956     \t0  \t192   \t15611      \t3.85667\t46 \t12 \t2  \t192   \t1.71934\n",
      "47 \t181   \t4678.46\t47 \t157909     \t0  \t181   \t24855.5    \t3.76333\t47 \t13 \t2  \t181   \t1.60644\n",
      "48 \t172   \t86274.3\t48 \t1.23323e+07\t0  \t172   \t1.0035e+06 \t3.79667\t48 \t14 \t2  \t172   \t1.51283\n",
      "49 \t162   \t3738.35\t49 \t153712     \t0  \t162   \t21404.8    \t3.81   \t49 \t14 \t3  \t162   \t1.6655 \n",
      "50 \t184   \t7262.28\t50 \t608604     \t0  \t184   \t43543.8    \t3.80667\t50 \t11 \t2  \t184   \t1.58407\n",
      "time: 0.8182570934295654\n",
      "multiply(x, x)\n"
     ]
    }
   ],
   "source": [
    "import numpy\n",
    "from deap import algorithms\n",
    "\n",
    "# 定义统计指标\n",
    "stats_fit = tools.Statistics(lambda ind: ind.fitness.values)\n",
    "stats_size = tools.Statistics(len)\n",
    "mstats = tools.MultiStatistics(fitness=stats_fit, size=stats_size)\n",
    "mstats.register(\"avg\", numpy.mean)\n",
    "mstats.register(\"std\", numpy.std)\n",
    "mstats.register(\"min\", numpy.min)\n",
    "mstats.register(\"max\", numpy.max)\n",
    "\n",
    "# 使用默认算法\n",
    "start=time.time()\n",
    "population = toolbox.population(n=300)\n",
    "hof = tools.HallOfFame(1)\n",
    "pop, log  = algorithms.eaSimple(population=population,\n",
    "                           toolbox=toolbox, cxpb=0.5, mutpb=0.2, ngen=50, stats=mstats, halloffame=hof, verbose=True)\n",
    "end=time.time()\n",
    "print('time:',end-start)\n",
    "print(str(hof[0]))"
   ],
   "metadata": {
    "collapsed": false,
    "ExecuteTime": {
     "end_time": "2023-11-07T08:11:27.273545300Z",
     "start_time": "2023-11-07T08:11:26.439621500Z"
    }
   },
   "id": "88c62bc071d56191"
  },
  {
   "cell_type": "markdown",
   "source": [
    "对比下面的慢速评估，使用Numpy的加速效果还是非常明显的。"
   ],
   "metadata": {
    "collapsed": false
   },
   "id": "be250c9740bc2817"
  },
  {
   "cell_type": "code",
   "execution_count": 4,
   "outputs": [
    {
     "name": "stdout",
     "output_type": "stream",
     "text": [
      "   \t      \t                    fitness                    \t                      size                     \n",
      "   \t      \t-----------------------------------------------\t-----------------------------------------------\n",
      "gen\tnevals\tavg    \tgen\tmax   \tmin\tnevals\tstd    \tavg    \tgen\tmax\tmin\tnevals\tstd    \n",
      "0  \t300   \t4688.79\t0  \t153622\t0  \t300   \t19458.5\t3.95333\t0  \t7  \t2  \t300   \t1.67466\n",
      "1  \t197   \t3048.19\t1  \t153622\t0  \t197   \t12402.9\t4.54   \t1  \t13 \t2  \t197   \t2.11858\n",
      "2  \t168   \t42710.3\t2  \t1.17166e+07\t0  \t168   \t675347 \t5.20667\t2  \t16 \t2  \t168   \t2.44349\n",
      "3  \t191   \t43650.6\t3  \t1.20176e+07\t0  \t191   \t692696 \t6.07667\t3  \t20 \t2  \t191   \t2.80905\n",
      "4  \t171   \t8901.24\t4  \t164059     \t0  \t171   \t33229.1\t6.46   \t4  \t21 \t2  \t171   \t2.84987\n",
      "5  \t184   \t88259  \t5  \t1.1864e+07 \t0  \t184   \t960299 \t6.51667\t5  \t21 \t2  \t184   \t2.79697\n",
      "6  \t169   \t7550.51\t6  \t159864     \t0  \t169   \t31164.7\t6.38667\t6  \t18 \t2  \t169   \t2.8654 \n",
      "7  \t191   \t49675.1\t7  \t1.18723e+07\t0  \t191   \t685351 \t6.28   \t7  \t16 \t2  \t191   \t2.99248\n",
      "8  \t186   \t85403.9\t8  \t1.23228e+07\t0  \t186   \t978354 \t5.75667\t8  \t16 \t2  \t186   \t2.92987\n",
      "9  \t170   \t86009.9\t9  \t1.23228e+07\t0  \t170   \t990355 \t5.74   \t9  \t17 \t2  \t170   \t3.17265\n",
      "10 \t182   \t6951.23\t10 \t153622     \t0  \t182   \t29881  \t5.53   \t10 \t19 \t2  \t182   \t3.07936\n",
      "11 \t173   \t88010.5\t11 \t1.23228e+07\t0  \t173   \t978779 \t5.42333\t11 \t19 \t3  \t173   \t3.1492 \n",
      "12 \t190   \t163103 \t12 \t4.74663e+07\t0  \t190   \t2.73572e+06\t5.04   \t12 \t19 \t2  \t190   \t2.96621\n",
      "13 \t186   \t51099.6\t13 \t1.24743e+07\t0  \t186   \t719320     \t5.26333\t13 \t17 \t2  \t186   \t3.15605\n",
      "14 \t184   \t94805.7\t14 \t1.27836e+07\t0  \t184   \t1.02244e+06\t4.83333\t14 \t19 \t2  \t184   \t3.03626\n",
      "15 \t174   \t46329.3\t15 \t1.18681e+07\t0  \t174   \t684997     \t4.78333\t15 \t19 \t2  \t174   \t3.06644\n",
      "16 \t193   \t44735.5\t16 \t1.17166e+07\t0  \t193   \t675561     \t4.55333\t16 \t15 \t2  \t193   \t2.79294\n",
      "17 \t193   \t7911.35\t17 \t608247     \t0  \t193   \t44363.7    \t4.59   \t17 \t16 \t2  \t193   \t2.9009 \n",
      "18 \t176   \t164346 \t18 \t4.74663e+07\t0  \t176   \t2.73586e+06\t4.36667\t18 \t21 \t2  \t176   \t3.01975\n",
      "19 \t177   \t5031.51\t19 \t608247     \t0  \t177   \t40035.7    \t4.33   \t19 \t19 \t2  \t177   \t2.83686\n",
      "20 \t197   \t4421.44\t20 \t159864     \t0  \t197   \t23256.7    \t4.17333\t20 \t16 \t2  \t197   \t2.4488 \n",
      "21 \t180   \t41588.7\t21 \t1.21691e+07\t0  \t180   \t701411     \t3.97   \t21 \t15 \t2  \t180   \t2.21264\n",
      "22 \t179   \t84398.8\t22 \t1.21691e+07\t0  \t179   \t978055     \t4.20333\t22 \t17 \t2  \t179   \t2.58882\n",
      "23 \t180   \t5573.47\t23 \t608247     \t0  \t180   \t41004.5    \t3.81333\t23 \t13 \t2  \t180   \t1.84531\n",
      "24 \t188   \t3273.58\t24 \t153622     \t0  \t188   \t19665.2    \t4.03667\t24 \t15 \t2  \t188   \t2.09809\n",
      "25 \t174   \t5349.93\t25 \t608247     \t0  \t174   \t39997.9    \t4.25   \t25 \t15 \t2  \t174   \t2.33827\n",
      "26 \t194   \t43346.1\t26 \t1.20176e+07\t0  \t194   \t692763     \t4.25333\t26 \t15 \t2  \t194   \t2.4185 \n",
      "27 \t188   \t4034.5 \t27 \t153622     \t0  \t188   \t21466.9    \t4.32   \t27 \t17 \t2  \t188   \t2.39115\n",
      "28 \t198   \t86434  \t28 \t1.20176e+07\t0  \t198   \t965683     \t4.36667\t28 \t18 \t2  \t198   \t2.70288\n",
      "29 \t162   \t167515 \t29 \t4.86786e+07\t0  \t162   \t2.80576e+06\t3.96333\t29 \t15 \t2  \t162   \t2.06607\n",
      "30 \t177   \t4017.23\t30 \t608247     \t0  \t177   \t38158.9    \t3.77667\t30 \t13 \t2  \t177   \t1.70884\n",
      "31 \t164   \t4572.85\t31 \t608247     \t0  \t164   \t39105.3    \t3.78   \t31 \t13 \t2  \t164   \t1.71996\n",
      "32 \t180   \t45093.9\t32 \t1.24743e+07\t0  \t180   \t719074     \t3.92333\t32 \t13 \t2  \t180   \t1.87549\n",
      "33 \t182   \t42083.3\t33 \t1.17166e+07\t0  \t182   \t675393     \t4.15   \t33 \t15 \t2  \t182   \t1.98011\n",
      "34 \t181   \t4468.37\t34 \t153622     \t0  \t181   \t23087.2    \t3.91   \t34 \t11 \t2  \t181   \t1.69172\n",
      "35 \t174   \t45358  \t35 \t1.18681e+07\t0  \t174   \t684948     \t4.04333\t35 \t15 \t3  \t174   \t1.95996\n",
      "36 \t181   \t81308  \t36 \t1.18681e+07\t0  \t181   \t959595     \t3.97667\t36 \t9  \t3  \t181   \t1.63385\n",
      "37 \t164   \t43938.2\t37 \t1.23228e+07\t0  \t164   \t710326     \t4.12667\t37 \t13 \t2  \t164   \t1.88254\n",
      "38 \t178   \t43385.8\t38 \t1.23228e+07\t0  \t178   \t710301     \t4.13333\t38 \t12 \t2  \t178   \t1.85712\n",
      "39 \t179   \t2849.72\t39 \t159864     \t0  \t179   \t17938.7    \t4.1    \t39 \t13 \t2  \t179   \t1.78979\n",
      "40 \t163   \t5110.95\t40 \t608247     \t0  \t163   \t39186.3    \t4.18667\t40 \t13 \t2  \t163   \t1.86864\n",
      "41 \t167   \t46003.9\t41 \t1.23228e+07\t0  \t167   \t711060     \t4.38   \t41 \t12 \t2  \t167   \t2.01881\n",
      "42 \t187   \t2.88121e+08\t42 \t8.64342e+10\t0  \t187   \t4.98195e+09\t4.3    \t42 \t13 \t2  \t187   \t1.92094\n",
      "43 \t181   \t42887.7    \t43 \t1.15713e+07\t0  \t181   \t667107     \t4.28333\t43 \t13 \t2  \t181   \t1.94501\n",
      "44 \t174   \t46596.9    \t44 \t1.24743e+07\t0  \t174   \t719136     \t4.22667\t44 \t12 \t2  \t174   \t1.86779\n",
      "45 \t170   \t40945.1    \t45 \t1.14197e+07\t0  \t170   \t658287     \t4.35   \t45 \t12 \t3  \t170   \t1.99353\n",
      "46 \t183   \t42430.9    \t46 \t1.17166e+07\t0  \t183   \t675416     \t3.95   \t46 \t11 \t2  \t183   \t1.63529\n",
      "47 \t166   \t83043.2    \t47 \t1.23228e+07\t0  \t166   \t978360     \t4.14   \t47 \t16 \t2  \t166   \t2.07695\n",
      "48 \t176   \t3106.48    \t48 \t159864     \t0  \t176   \t19772      \t3.96333\t48 \t16 \t2  \t176   \t1.89437\n",
      "49 \t187   \t43010      \t49 \t1.21691e+07\t0  \t187   \t701445     \t3.82333\t49 \t16 \t2  \t187   \t1.68882\n",
      "50 \t170   \t43740.3    \t50 \t1.20176e+07\t0  \t170   \t693463     \t3.76333\t50 \t14 \t2  \t170   \t1.5494 \n",
      "time: 2.680285692214966\n"
     ]
    }
   ],
   "source": [
    "# 慢速评估\n",
    "def evalSymbRegSlow(individual, pset):\n",
    "    # 编译GP树为函数\n",
    "    func = gp.compile(expr=individual, pset=pset)\n",
    "    \n",
    "    # 创建评估数据\n",
    "    xs = [x/5.0 for x in range(-50, 51)]\n",
    "    \n",
    "    # 评估生成的函数并计算MSE\n",
    "    mse = sum((func(x) - x**2)**2 for x in xs) / len(xs)\n",
    "    \n",
    "    return (mse,)\n",
    "\n",
    "toolbox.register(\"evaluate\", evalSymbRegSlow, pset=pset)\n",
    "\n",
    "start=time.time()\n",
    "population = toolbox.population(n=300)\n",
    "hof = tools.HallOfFame(1)\n",
    "pop, log  = algorithms.eaSimple(population=population,\n",
    "                           toolbox=toolbox, cxpb=0.5, mutpb=0.2, ngen=50, stats=mstats, halloffame=hof, verbose=True)\n",
    "end=time.time()\n",
    "print('time:',end-start)"
   ],
   "metadata": {
    "collapsed": false,
    "ExecuteTime": {
     "end_time": "2023-11-07T08:11:29.959063900Z",
     "start_time": "2023-11-07T08:11:27.272535400Z"
    }
   },
   "id": "f2ddb57d24051753"
  },
  {
   "cell_type": "code",
   "execution_count": 4,
   "outputs": [],
   "source": [],
   "metadata": {
    "collapsed": false,
    "ExecuteTime": {
     "end_time": "2023-11-07T08:11:29.962068200Z",
     "start_time": "2023-11-07T08:11:29.957010100Z"
    }
   },
   "id": "139dc0376328657e"
  }
 ],
 "metadata": {
  "kernelspec": {
   "display_name": "Python 3",
   "language": "python",
   "name": "python3"
  },
  "language_info": {
   "codemirror_mode": {
    "name": "ipython",
    "version": 2
   },
   "file_extension": ".py",
   "mimetype": "text/x-python",
   "name": "python",
   "nbconvert_exporter": "python",
   "pygments_lexer": "ipython2",
   "version": "2.7.6"
  }
 },
 "nbformat": 4,
 "nbformat_minor": 5
}
