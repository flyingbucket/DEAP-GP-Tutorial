{
 "cells": [
  {
   "cell_type": "markdown",
   "id": "8db4ada5ce6ebf73",
   "metadata": {},
   "source": [
    "### Numpy 加速\n",
    "Python 是一种相对较慢的编程语言，但是我们可以通过使用Numpy来加速Python的运算。Numpy是一个基于C语言的库，提供了许多高效的运算函数，例如矩阵运算和线性代数运算等。这些运算都基于C语言实现，因此速度非常快。\n",
    "\n",
    "GP的性能瓶颈通常在于模型评估。因此，在这里，我们重点关注如何加速评估函数。其实很简单，将数据集转换为Numpy数组，然后使用Numpy函数来计算MSE即可。下面是一个例子。"
   ]
  },
  {
   "cell_type": "code",
   "execution_count": 1,
   "id": "initial_id",
   "metadata": {
    "ExecuteTime": {
     "end_time": "2023-11-14T09:14:24.923043100Z",
     "start_time": "2023-11-14T09:14:24.908046400Z"
    }
   },
   "outputs": [],
   "source": [
    "import time\n",
    "\n",
    "import numpy as np\n",
    "from deap import base, creator, tools, gp\n",
    "\n",
    "\n",
    "# 符号回归\n",
    "def evalSymbReg(individual, pset):\n",
    "    # 编译GP树为函数\n",
    "    func = gp.compile(expr=individual, pset=pset)\n",
    "    \n",
    "    # 使用numpy创建一个向量\n",
    "    x = np.linspace(-10, 10, 100) \n",
    "    \n",
    "    # 评估生成的函数并计算MSE\n",
    "    mse = np.mean((func(x) - x**2)**2)\n",
    "    \n",
    "    return (mse,)\n",
    "\n",
    "# 创建个体和适应度函数\n",
    "creator.create(\"FitnessMin\", base.Fitness, weights=(-1.0,))\n",
    "creator.create(\"Individual\", gp.PrimitiveTree, fitness=creator.FitnessMin)\n"
   ]
  },
  {
   "cell_type": "markdown",
   "id": "e3d94e424b58af5a",
   "metadata": {},
   "source": [
    "同时，我们还可以考虑将一些算子替换为Numpy函数。尽管这并不是非常重要，因为Numpy已经重载了许多运算符。"
   ]
  },
  {
   "cell_type": "code",
   "execution_count": 2,
   "id": "cb6cf38094256262",
   "metadata": {
    "ExecuteTime": {
     "end_time": "2023-11-14T09:14:24.933166800Z",
     "start_time": "2023-11-14T09:14:24.927568400Z"
    }
   },
   "outputs": [],
   "source": [
    "import random\n",
    "\n",
    "# 定义函数集合和终端集合\n",
    "pset = gp.PrimitiveSet(\"MAIN\", arity=1)\n",
    "pset.addPrimitive(np.add, 2)\n",
    "pset.addPrimitive(np.subtract, 2)\n",
    "pset.addPrimitive(np.multiply, 2)\n",
    "pset.addPrimitive(np.negative, 1)\n",
    "def random_int(): return random.randint(-1, 1)\n",
    "pset.addEphemeralConstant(\"rand101\", random_int)\n",
    "pset.renameArguments(ARG0='x')\n",
    "\n",
    "# 定义遗传编程操作\n",
    "toolbox = base.Toolbox()\n",
    "toolbox.register(\"expr\", gp.genHalfAndHalf, pset=pset, min_=1, max_=2)\n",
    "toolbox.register(\"individual\", tools.initIterate, creator.Individual, toolbox.expr)\n",
    "toolbox.register(\"population\", tools.initRepeat, list, toolbox.individual)\n",
    "toolbox.register(\"compile\", gp.compile, pset=pset)\n",
    "toolbox.register(\"evaluate\", evalSymbReg, pset=pset)\n",
    "toolbox.register(\"select\", tools.selTournament, tournsize=3)\n",
    "toolbox.register(\"mate\", gp.cxOnePoint)\n",
    "toolbox.register(\"mutate\", gp.mutUniform, expr=toolbox.expr, pset=pset)"
   ]
  },
  {
   "cell_type": "markdown",
   "id": "e09fa8e7890d583b",
   "metadata": {},
   "source": [
    "现在，让我们来测试一下加速效果。"
   ]
  },
  {
   "cell_type": "code",
   "execution_count": 3,
   "id": "88c62bc071d56191",
   "metadata": {
    "ExecuteTime": {
     "end_time": "2023-11-14T09:14:25.525098600Z",
     "start_time": "2023-11-14T09:14:24.935256200Z"
    }
   },
   "outputs": [
    {
     "name": "stdout",
     "output_type": "stream",
     "text": [
      "   \t      \t                    fitness                    \t                      size                     \n",
      "   \t      \t-----------------------------------------------\t-----------------------------------------------\n",
      "gen\tnevals\tavg    \tgen\tmax   \tmin\tnevals\tstd    \tavg    \tgen\tmax\tmin\tnevals\tstd    \n",
      "0  \t300   \t3231.36\t0  \t153712\t0  \t300   \t12338.5\t3.90333\t0  \t7  \t2  \t300   \t1.61884\n",
      "1  \t266   \t2585.69\t1  \t153712\t0  \t266   \t8907.64\t4      \t1  \t11 \t2  \t266   \t1.82392\n",
      "2  \t278   \t3919.23\t2  \t159956\t0  \t278   \t17641.7\t4.21   \t2  \t11 \t2  \t278   \t1.74907\n",
      "3  \t265   \t43227.2\t3  \t1.23323e+07\t0  \t265   \t710749 \t4.31667\t3  \t12 \t2  \t265   \t1.88053\n",
      "4  \t273   \t3408.05\t4  \t153712     \t0  \t273   \t17494.5\t4.15   \t4  \t13 \t2  \t273   \t1.77036\n",
      "5  \t264   \t5199.33\t5  \t157978     \t0  \t264   \t24605.9\t4.08667\t5  \t13 \t3  \t264   \t1.82185\n",
      "6  \t280   \t45092.2\t6  \t1.23323e+07\t0  \t280   \t710911 \t3.67333\t6  \t13 \t3  \t280   \t1.46514\n",
      "7  \t277   \t1893.94\t7  \t153712     \t0  \t277   \t15176.7\t3.32   \t7  \t13 \t3  \t277   \t1.09739\n",
      "8  \t270   \t521.6  \t8  \t8359.39    \t0  \t270   \t1702.78\t3.35   \t8  \t9  \t2  \t270   \t1.01694\n",
      "9  \t287   \t1458.88\t9  \t153712     \t0  \t287   \t12557.2\t3.39   \t9  \t9  \t2  \t287   \t1.09144\n",
      "10 \t279   \t3098.08\t10 \t153712     \t0  \t279   \t19695.4\t3.32   \t10 \t9  \t2  \t279   \t0.961388\n",
      "time: 0.22003555297851562\n",
      "multiply(x, x)\n",
      "   \t      \t                    fitness                    \t                      size                     \n",
      "   \t      \t-----------------------------------------------\t-----------------------------------------------\n",
      "gen\tnevals\tavg   \tgen\tmax   \tmin\tnevals\tstd    \tavg \tgen\tmax\tmin\tnevals\tstd    \n",
      "0  \t300   \t3263.5\t0  \t153712\t0  \t300   \t12445.2\t3.99\t0  \t7  \t2  \t300   \t1.61552\n",
      "1  \t283   \t3426.33\t1  \t153712\t0  \t283   \t15161.3\t3.99\t1  \t12 \t2  \t283   \t1.87525\n",
      "2  \t265   \t3897.27\t2  \t153712\t0  \t265   \t17426.4\t4.29667\t2  \t13 \t2  \t265   \t1.89085\n",
      "3  \t275   \t8211.55\t3  \t153781\t0  \t275   \t30924.6\t4.63333\t3  \t15 \t2  \t275   \t2.17383\n",
      "4  \t266   \t7778.7 \t4  \t608604\t0  \t266   \t43356.7\t4.67667\t4  \t16 \t2  \t266   \t2.56101\n",
      "5  \t286   \t213662 \t5  \t4.87163e+07\t0  \t286   \t2.88552e+06\t4.71667\t5  \t15 \t2  \t286   \t2.3909 \n",
      "6  \t269   \t10094.3\t6  \t174559     \t0  \t269   \t36608.7    \t4.11667\t6  \t13 \t2  \t269   \t1.82658\n",
      "7  \t284   \t43648.5\t7  \t1.17257e+07\t0  \t284   \t676052     \t3.76   \t7  \t13 \t2  \t284   \t1.67005\n",
      "8  \t271   \t2856.37\t8  \t164153     \t0  \t271   \t19939.5    \t3.5    \t8  \t13 \t3  \t271   \t1.43178\n",
      "9  \t276   \t918.294\t9  \t153712     \t0  \t276   \t9001.51    \t3.48667\t9  \t13 \t2  \t276   \t1.41061\n",
      "10 \t276   \t2592.24\t10 \t153712     \t0  \t276   \t17624.9    \t3.50667\t10 \t11 \t3  \t276   \t1.3354 \n",
      "time: 0.17170000076293945\n",
      "multiply(x, x)\n",
      "   \t      \t                    fitness                    \t                     size                     \n",
      "   \t      \t-----------------------------------------------\t----------------------------------------------\n",
      "gen\tnevals\tavg    \tgen\tmax   \tmin\tnevals\tstd    \tavg \tgen\tmax\tmin\tnevals\tstd   \n",
      "0  \t300   \t3270.77\t0  \t153712\t0  \t300   \t12401.9\t4.01\t0  \t7  \t2  \t300   \t1.6703\n",
      "1  \t279   \t2583.82\t1  \t157909\t0  \t279   \t9053.5 \t4.23667\t1  \t11 \t2  \t279   \t1.9098\n",
      "2  \t274   \t2162.42\t2  \t18766.1\t0  \t274   \t1669.48\t4.39   \t2  \t13 \t2  \t274   \t2.09712\n",
      "3  \t278   \t2481.21\t3  \t151631 \t0  \t278   \t8776.53\t4.90667\t3  \t14 \t2  \t278   \t2.50691\n",
      "4  \t269   \t7575.61\t4  \t642041 \t0  \t269   \t43379.4\t5.18667\t4  \t15 \t2  \t269   \t2.69787\n",
      "5  \t275   \t46096.7\t5  \t1.17217e+07\t0  \t275   \t675766 \t5.6    \t5  \t18 \t2  \t275   \t2.97546\n",
      "6  \t279   \t11086.2\t6  \t1.36468e+06\t0  \t279   \t88197.2\t5.71   \t6  \t18 \t2  \t279   \t2.98762\n",
      "7  \t275   \t46473.6\t7  \t1.24839e+07\t0  \t275   \t719604 \t6.14   \t7  \t17 \t2  \t275   \t3.27522\n",
      "8  \t271   \t47475.7\t8  \t1.17217e+07\t0  \t271   \t676585 \t5.43   \t8  \t16 \t2  \t271   \t2.81989\n",
      "9  \t275   \t12306.6\t9  \t608604     \t0  \t275   \t50448.7\t5.14667\t9  \t17 \t2  \t275   \t2.8528 \n",
      "10 \t273   \t50938.9\t10 \t1.21786e+07\t0  \t273   \t702962 \t4.88   \t10 \t20 \t2  \t273   \t2.85638\n",
      "time: 0.18781375885009766\n",
      "multiply(x, x)\n"
     ]
    }
   ],
   "source": [
    "import numpy\n",
    "from deap import algorithms\n",
    "\n",
    "# 定义统计指标\n",
    "stats_fit = tools.Statistics(lambda ind: ind.fitness.values)\n",
    "stats_size = tools.Statistics(len)\n",
    "mstats = tools.MultiStatistics(fitness=stats_fit, size=stats_size)\n",
    "mstats.register(\"avg\", numpy.mean)\n",
    "mstats.register(\"std\", numpy.std)\n",
    "mstats.register(\"min\", numpy.min)\n",
    "mstats.register(\"max\", numpy.max)\n",
    "\n",
    "# 使用默认算法\n",
    "np_time=[]\n",
    "for i in range(3):\n",
    "    start=time.time()\n",
    "    population = toolbox.population(n=300)\n",
    "    hof = tools.HallOfFame(1)\n",
    "    pop, log  = algorithms.eaSimple(population=population,\n",
    "                               toolbox=toolbox, cxpb=0.9, mutpb=0.1, ngen=10, stats=mstats, halloffame=hof, verbose=True)\n",
    "    end=time.time()\n",
    "    print('time:',end-start)\n",
    "    np_time.append(end-start)\n",
    "    print(str(hof[0]))"
   ]
  },
  {
   "cell_type": "markdown",
   "id": "be250c9740bc2817",
   "metadata": {},
   "source": [
    "对比下面的原始评估函数，使用Numpy的加速效果还是非常明显的。"
   ]
  },
  {
   "cell_type": "code",
   "execution_count": 4,
   "id": "f2ddb57d24051753",
   "metadata": {
    "ExecuteTime": {
     "end_time": "2023-11-14T09:14:27.572677800Z",
     "start_time": "2023-11-14T09:14:25.521044600Z"
    }
   },
   "outputs": [
    {
     "name": "stdout",
     "output_type": "stream",
     "text": [
      "   \t      \t                    fitness                    \t                      size                     \n",
      "   \t      \t-----------------------------------------------\t-----------------------------------------------\n",
      "gen\tnevals\tavg    \tgen\tmax   \tmin\tnevals\tstd    \tavg    \tgen\tmax\tmin\tnevals\tstd    \n",
      "0  \t300   \t5101.77\t0  \t608247\t0  \t300   \t37075.7\t4.11667\t0  \t7  \t2  \t300   \t1.67821\n",
      "1  \t278   \t3934.9 \t1  \t157817\t0  \t278   \t17563.9\t4.62333\t1  \t13 \t2  \t278   \t1.94802\n",
      "2  \t282   \t3837.35\t2  \t153622\t0  \t282   \t17495.9\t5.05667\t2  \t14 \t2  \t282   \t2.17718\n",
      "3  \t269   \t48570.9\t3  \t1.17166e+07\t0  \t269   \t676326 \t5.36333\t3  \t14 \t2  \t269   \t2.32049\n",
      "4  \t267   \t8871.01\t4  \t157817     \t0  \t267   \t33190.2\t5.77   \t4  \t15 \t2  \t267   \t2.52529\n",
      "5  \t280   \t8154.67\t5  \t153622     \t0  \t280   \t32084.7\t5.89667\t5  \t19 \t2  \t280   \t2.54676\n",
      "6  \t267   \t45572.2\t6  \t1.17166e+07\t0  \t267   \t675571 \t5.97   \t6  \t17 \t2  \t267   \t2.68125\n",
      "7  \t275   \t48064.9\t7  \t1.23228e+07\t0  \t275   \t710493 \t6.15333\t7  \t17 \t2  \t275   \t2.63119\n",
      "8  \t269   \t10362.2\t8  \t153691     \t0  \t269   \t37077  \t6.18   \t8  \t17 \t2  \t269   \t2.92363\n",
      "9  \t265   \t10860.4\t9  \t153622     \t0  \t265   \t38092.7\t6.25667\t9  \t19 \t2  \t265   \t3.11086\n",
      "10 \t272   \t167779 \t10 \t4.74663e+07\t0  \t272   \t2.73557e+06\t6.33667\t10 \t19 \t3  \t272   \t3.22542\n",
      "time: 0.7642621994018555\n",
      "   \t      \t                    fitness                    \t                     size                     \n",
      "   \t      \t-----------------------------------------------\t----------------------------------------------\n",
      "gen\tnevals\tavg    \tgen\tmax   \tmin\tnevals\tstd    \tavg    \tgen\tmax\tmin\tnevals\tstd   \n",
      "0  \t300   \t4083.92\t0  \t608247\t0  \t300   \t34966.1\t3.91667\t0  \t7  \t2  \t300   \t1.6441\n",
      "1  \t269   \t3263.59\t1  \t153622\t0  \t269   \t15073.4\t4.05667\t1  \t13 \t2  \t269   \t1.85116\n",
      "2  \t272   \t4977.16\t2  \t157817\t0  \t272   \t21479.6\t4.58667\t2  \t13 \t2  \t272   \t2.08066\n",
      "3  \t279   \t4169.28\t3  \t157817\t0  \t279   \t19541.1\t4.81333\t3  \t17 \t2  \t279   \t2.40939\n",
      "4  \t271   \t6204.82\t4  \t157817\t0  \t271   \t26128.3\t4.89333\t4  \t16 \t2  \t271   \t2.40041\n",
      "5  \t277   \t41930.7\t5  \t1.17166e+07\t0  \t277   \t675393 \t4.39   \t5  \t16 \t2  \t277   \t2.26963\n",
      "6  \t281   \t1935.97\t6  \t153622     \t0  \t281   \t15243.8\t3.82   \t6  \t11 \t2  \t281   \t1.80026\n",
      "7  \t280   \t3173.05\t7  \t157817     \t0  \t280   \t19683.4\t3.75333\t7  \t11 \t3  \t280   \t1.6266 \n",
      "8  \t271   \t82070.3\t8  \t1.23228e+07\t0  \t271   \t978400 \t3.55667\t8  \t9  \t3  \t271   \t1.32921\n",
      "9  \t262   \t3450.12\t9  \t608247     \t0  \t262   \t37143.3\t3.54333\t9  \t9  \t2  \t262   \t1.357  \n",
      "10 \t268   \t43480.5\t10 \t1.18681e+07\t0  \t268   \t684221 \t3.54333\t10 \t9  \t2  \t268   \t1.31711\n",
      "time: 0.6575832366943359\n",
      "   \t      \t                    fitness                    \t                     size                     \n",
      "   \t      \t-----------------------------------------------\t----------------------------------------------\n",
      "gen\tnevals\tavg   \tgen\tmax   \tmin\tnevals\tstd    \tavg \tgen\tmax\tmin\tnevals\tstd   \n",
      "0  \t300   \t2942.7\t0  \t153622\t0  \t300   \t8934.94\t4.09\t0  \t7  \t2  \t300   \t1.6719\n",
      "1  \t262   \t1901.61\t1  \t8356.11\t0  \t262   \t1025.55\t3.94667\t1  \t12 \t2  \t262   \t1.83952\n",
      "2  \t277   \t41471.3\t2  \t1.17166e+07\t0  \t277   \t675250 \t4.14667\t2  \t14 \t2  \t277   \t1.966  \n",
      "3  \t280   \t201062 \t3  \t4.74663e+07\t0  \t280   \t2.81577e+06\t4.42667\t3  \t13 \t2  \t280   \t2.08757\n",
      "4  \t284   \t5486.09\t4  \t155738     \t0  \t284   \t24434.7    \t4.45667\t4  \t14 \t2  \t284   \t2.03669\n",
      "5  \t269   \t46337.1\t5  \t1.24743e+07\t0  \t269   \t719111     \t4.33333\t5  \t13 \t2  \t269   \t1.83182\n",
      "6  \t274   \t45496.5\t6  \t1.23228e+07\t0  \t274   \t710387     \t4.18   \t6  \t13 \t2  \t274   \t2.02178\n",
      "7  \t272   \t2707.94\t7  \t153622     \t0  \t272   \t17614.6    \t3.81   \t7  \t13 \t2  \t272   \t1.6715 \n",
      "8  \t266   \t42912.3\t8  \t1.17166e+07\t0  \t266   \t676183     \t3.4    \t8  \t12 \t2  \t266   \t1.26227\n",
      "9  \t277   \t1822.5 \t9  \t153622     \t0  \t277   \t15249.9    \t3.34333\t9  \t11 \t2  \t277   \t1.12788\n",
      "10 \t273   \t1780.77\t10 \t153622     \t0  \t273   \t15303.7    \t3.36   \t10 \t10 \t2  \t273   \t1.13302\n",
      "time: 0.6205267906188965\n"
     ]
    }
   ],
   "source": [
    "# 慢速评估\n",
    "def evalSymbRegSlow(individual, pset):\n",
    "    # 编译GP树为函数\n",
    "    func = gp.compile(expr=individual, pset=pset)\n",
    "    \n",
    "    # 创建评估数据\n",
    "    xs = [x/5.0 for x in range(-50, 51)]\n",
    "    \n",
    "    # 评估生成的函数并计算MSE\n",
    "    mse = sum((func(x) - x**2)**2 for x in xs) / len(xs)\n",
    "    \n",
    "    return (mse,)\n",
    "\n",
    "toolbox.register(\"evaluate\", evalSymbRegSlow, pset=pset)\n",
    "\n",
    "py_time=[]\n",
    "for i in range(3):\n",
    "    start=time.time()\n",
    "    population = toolbox.population(n=300)\n",
    "    hof = tools.HallOfFame(1)\n",
    "    pop, log  = algorithms.eaSimple(population=population,\n",
    "                               toolbox=toolbox, cxpb=0.9, mutpb=0.1, ngen=10, stats=mstats, halloffame=hof, verbose=True)\n",
    "    end=time.time()\n",
    "    print('time:',end-start)\n",
    "    py_time.append(end-start)"
   ]
  },
  {
   "cell_type": "markdown",
   "id": "75ed499f209894ae",
   "metadata": {},
   "source": [
    "最后，我们可以使用seaborn绘制一个图来比较Numpy和Python的性能。可以看出，Numpy显著提高了速度。"
   ]
  },
  {
   "cell_type": "code",
   "execution_count": 7,
   "id": "f09f85635ed36092",
   "metadata": {
    "ExecuteTime": {
     "end_time": "2023-11-14T09:24:29.905469100Z",
     "start_time": "2023-11-14T09:24:29.810538800Z"
    }
   },
   "outputs": [
    {
     "data": {
      "text/plain": "<Figure size 400x300 with 1 Axes>",
      "image/png": "[encoded data removed]"
     },
     "metadata": {},
     "output_type": "display_data"
    }
   ],
   "source": [
    "import seaborn as sns\n",
    "import matplotlib.pyplot as plt\n",
    "import pandas as pd\n",
    "data = pd.DataFrame({'Category': ['Numpy'] * len(np_time) + ['Python'] * len(py_time),\n",
    "                     'Time': np.concatenate([np_time, py_time])})\n",
    "\n",
    "\n",
    "plt.figure(figsize=(4, 3))\n",
    "sns.set_style(\"whitegrid\")\n",
    "sns.boxplot(data=data, x='Category', y='Time',palette=\"Set3\", width=0.4)\n",
    "plt.title('Comparison of Numpy and Python')\n",
    "plt.xlabel('')\n",
    "plt.ylabel('Time')\n",
    "plt.show()"
   ]
  }
 ],
 "metadata": {
  "kernelspec": {
   "display_name": "Python 3 (ipykernel)",
   "language": "python",
   "name": "python3"
  },
  "language_info": {
   "codemirror_mode": {
    "name": "ipython",
    "version": 3
   },
   "file_extension": ".py",
   "mimetype": "text/x-python",
   "name": "python",
   "nbconvert_exporter": "python",
   "pygments_lexer": "ipython3",
   "version": "3.11.4"
  }
 },
 "nbformat": 4,
 "nbformat_minor": 5
}
