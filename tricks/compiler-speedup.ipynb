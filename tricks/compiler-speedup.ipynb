{
 "cells": [
  {
   "cell_type": "markdown",
   "id": "8db4ada5ce6ebf73",
   "metadata": {},
   "source": [
    "### 低开销编译器\n",
    "DEAP在编译GP时使用了Python的默认编译器，但是Python默认编译器在编译GP时实际上速度较慢，因此我们可以考虑自行实现一个编译器来加速GP运算。更严格来说，应该是自行实现一个GP树的解析函数，从而降低编译的时间开销。"
   ]
  },
  {
   "cell_type": "code",
   "execution_count": 1,
   "id": "initial_id",
   "metadata": {
    "ExecuteTime": {
     "end_time": "2023-12-25T02:37:08.047926400Z",
     "start_time": "2023-12-25T02:37:08.020758200Z"
    }
   },
   "outputs": [],
   "source": [
    "import time\n",
    "import warnings\n",
    "\n",
    "import numpy as np\n",
    "from deap import base, creator, tools, gp\n",
    "from deap.gp import PrimitiveTree, Primitive, Terminal\n",
    "\n",
    "warnings.filterwarnings(\"ignore\")\n",
    "\n",
    "\n",
    "def quick_evaluate(expr: PrimitiveTree, pset, data, prefix='ARG'):\n",
    "    result = None\n",
    "    stack = []\n",
    "    for node in expr:\n",
    "        stack.append((node, []))\n",
    "        while len(stack[-1][1]) == stack[-1][0].arity:\n",
    "            prim, args = stack.pop()\n",
    "            if isinstance(prim, Primitive):\n",
    "                result = pset.context[prim.name](*args)\n",
    "            elif isinstance(prim, Terminal):\n",
    "                if prefix in prim.name:\n",
    "                    result = data[:, int(prim.name.replace(prefix, ''))]\n",
    "                else:\n",
    "                    result = prim.value\n",
    "            else:\n",
    "                raise Exception\n",
    "            if len(stack) == 0:\n",
    "                break  # 栈为空代表所有节点都已经被访问\n",
    "            stack[-1][1].append(result)\n",
    "    return result\n",
    "\n",
    "\n",
    "# 符号回归\n",
    "def evalSymbReg(individual, pset):\n",
    "    # 使用numpy创建一个向量\n",
    "    x = np.linspace(-10, 10, 100).reshape(-1, 1)\n",
    "\n",
    "    # 评估生成的函数并计算MSE\n",
    "    mse = np.mean((quick_evaluate(individual, pset, x) - x ** 2) ** 2)\n",
    "\n",
    "    return (mse,)\n",
    "\n",
    "\n",
    "# 创建个体和适应度函数\n",
    "creator.create(\"FitnessMin\", base.Fitness, weights=(-1.0,))\n",
    "creator.create(\"Individual\", gp.PrimitiveTree, fitness=creator.FitnessMin)"
   ]
  },
  {
   "cell_type": "markdown",
   "id": "e3d94e424b58af5a",
   "metadata": {},
   "source": []
  },
  {
   "cell_type": "code",
   "execution_count": 2,
   "id": "cb6cf38094256262",
   "metadata": {
    "ExecuteTime": {
     "end_time": "2023-12-25T02:37:08.054440500Z",
     "start_time": "2023-12-25T02:37:08.049951400Z"
    }
   },
   "outputs": [],
   "source": [
    "import random\n",
    "\n",
    "# 定义函数集合和终端集合\n",
    "pset = gp.PrimitiveSet(\"MAIN\", arity=1)\n",
    "pset.addPrimitive(np.add, 2)\n",
    "pset.addPrimitive(np.subtract, 2)\n",
    "pset.addPrimitive(np.multiply, 2)\n",
    "pset.addPrimitive(np.negative, 1)\n",
    "pset.addEphemeralConstant(\"rand101\", lambda: random.randint(-1, 1))\n",
    "\n",
    "# 定义遗传编程操作\n",
    "toolbox = base.Toolbox()\n",
    "toolbox.register(\"expr\", gp.genHalfAndHalf, pset=pset, min_=1, max_=2)\n",
    "toolbox.register(\"individual\", tools.initIterate, creator.Individual, toolbox.expr)\n",
    "toolbox.register(\"population\", tools.initRepeat, list, toolbox.individual)\n",
    "toolbox.register(\"compile\", gp.compile, pset=pset)\n",
    "toolbox.register(\"evaluate\", evalSymbReg, pset=pset)\n",
    "toolbox.register(\"select\", tools.selTournament, tournsize=3)\n",
    "toolbox.register(\"mate\", gp.cxOnePoint)\n",
    "toolbox.register(\"mutate\", gp.mutUniform, expr=toolbox.expr, pset=pset)"
   ]
  },
  {
   "cell_type": "markdown",
   "id": "e09fa8e7890d583b",
   "metadata": {},
   "source": []
  },
  {
   "cell_type": "code",
   "execution_count": 3,
   "id": "88c62bc071d56191",
   "metadata": {
    "ExecuteTime": {
     "end_time": "2023-12-25T02:37:08.226956400Z",
     "start_time": "2023-12-25T02:37:08.054649800Z"
    }
   },
   "outputs": [
    {
     "name": "stdout",
     "output_type": "stream",
     "text": [
      "   \t      \t                          fitness                          \t                      size                     \n",
      "   \t      \t-----------------------------------------------------------\t-----------------------------------------------\n",
      "gen\tnevals\tavg   \tgen\tmax        \tmin    \tnevals\tstd        \tavg \tgen\tmax\tmin\tnevals\tstd    \n",
      "0  \t100   \t121165\t0  \t1.18875e+07\t1849.78\t100   \t1.18256e+06\t3.88\t0  \t7  \t2  \t100   \t1.45794\n",
      "1  \t92    \t5608.85\t1  \t187844     \t1849.78\t92    \t23462.3    \t4.2 \t1  \t13 \t2  \t92    \t1.92873\n",
      "2  \t91    \t5064.47\t2  \t153712     \t1849.78\t91    \t21235.6    \t4.42\t2  \t10 \t2  \t91    \t1.69222\n",
      "3  \t92    \t11535  \t3  \t608604     \t1849.78\t92    \t63855.3    \t4.92\t3  \t11 \t2  \t92    \t1.91144\n",
      "4  \t86    \t239906 \t4  \t1.18875e+07\t1849.78\t86    \t1.66394e+06\t5.08\t4  \t11 \t2  \t86    \t2.00838\n",
      "5  \t88    \t15739.1\t5  \t157411     \t1849.78\t88    \t43218.6    \t5.35\t5  \t11 \t2  \t88    \t2.20624\n",
      "6  \t86    \t125529 \t6  \t1.21905e+07\t1849.78\t86    \t1.21267e+06\t5.42\t6  \t11 \t2  \t86    \t2.31594\n",
      "7  \t92    \t5316.53\t7  \t153712     \t1849.78\t92    \t21216      \t4.68\t7  \t12 \t2  \t92    \t2.08269\n",
      "8  \t88    \t5193.51\t8  \t157909     \t1849.78\t88    \t21522.5    \t4.33\t8  \t11 \t3  \t88    \t1.94964\n",
      "9  \t91    \t5205.65\t9  \t153712     \t1849.78\t91    \t21222.2    \t4.79\t9  \t13 \t3  \t91    \t2.7615 \n",
      "10 \t85    \t9633.91\t10 \t153712     \t1849.78\t85    \t33032.6    \t5.18\t10 \t13 \t2  \t85    \t3.18867\n",
      "time: 0.05787515640258789\n",
      "subtract(ARG0, subtract(ARG0, multiply(ARG0, ARG0)))\n",
      "   \t      \t                    fitness                    \t                      size                     \n",
      "   \t      \t-----------------------------------------------\t-----------------------------------------------\n",
      "gen\tnevals\tavg    \tgen\tmax    \tmin    \tnevals\tstd    \tavg \tgen\tmax\tmin\tnevals\tstd    \n",
      "0  \t100   \t2399.54\t0  \t15032.6\t1849.78\t100   \t1535.98\t4.12\t0  \t7  \t2  \t100   \t1.83456\n",
      "1  \t93    \t8232.16\t1  \t608604 \t1849.78\t93    \t60342.8\t3.89\t1  \t7  \t2  \t93    \t1.68461\n",
      "2  \t91    \t2210.27\t2  \t6509.62\t1849.78\t91    \t838.323\t4.39\t2  \t11 \t2  \t91    \t1.85954\n",
      "3  \t94    \t3762.19\t3  \t153712 \t1849.78\t94    \t15099.3\t4.86\t3  \t16 \t2  \t94    \t2.33247\n",
      "4  \t98    \t9841.9 \t4  \t153712 \t1849.78\t98    \t33020.9\t5.34\t4  \t13 \t2  \t98    \t2.5582 \n",
      "5  \t91    \t16268.1\t5  \t153712 \t1849.78\t91    \t43253.7\t5.48\t5  \t13 \t2  \t91    \t2.11887\n",
      "6  \t91    \t8519.32\t6  \t158106 \t1849.78\t91    \t29888.1\t5.45\t6  \t17 \t2  \t91    \t2.35531\n",
      "7  \t91    \t9997.53\t7  \t162168 \t1849.78\t91    \t33586.1\t5.59\t7  \t13 \t2  \t91    \t2.58494\n",
      "8  \t90    \t8444.5 \t8  \t166663 \t1849.78\t90    \t30572.6\t4.96\t8  \t13 \t3  \t90    \t2.25353\n",
      "9  \t92    \t6848.75\t9  \t153712 \t1849.78\t92    \t25881.5\t4.43\t9  \t11 \t3  \t92    \t1.92486\n",
      "10 \t92    \t3698   \t10 \t153712 \t1849.78\t92    \t15148.2\t4.15\t10 \t14 \t2  \t92    \t2.03162\n",
      "time: 0.04912590980529785\n",
      "add(multiply(ARG0, add(-1, ARG0)), ARG0)\n",
      "   \t      \t                    fitness                    \t                      size                     \n",
      "   \t      \t-----------------------------------------------\t-----------------------------------------------\n",
      "gen\tnevals\tavg    \tgen\tmax    \tmin    \tnevals\tstd    \tavg\tgen\tmax\tmin\tnevals\tstd    \n",
      "0  \t100   \t2177.79\t0  \t6611.64\t1849.78\t100   \t630.853\t4  \t0  \t7  \t2  \t100   \t1.76068\n",
      "1  \t95    \t2189.79\t1  \t6612.64\t1849.78\t95    \t728.969\t4.1\t1  \t12 \t2  \t95    \t1.9105 \n",
      "2  \t98    \t9804.71\t2  \t166663 \t1849.78\t98    \t33450.6\t4.51\t2  \t12 \t2  \t98    \t2.3345 \n",
      "3  \t96    \t8355.08\t3  \t158106 \t1849.78\t96    \t29706.7\t4.69\t3  \t18 \t2  \t96    \t2.26581\n",
      "4  \t87    \t125529 \t4  \t1.20391e+07\t1849.78\t87    \t1.19755e+06\t4.43\t4  \t13 \t3  \t87    \t1.81799\n",
      "5  \t96    \t11254  \t5  \t153712     \t1849.78\t96    \t36004.4    \t4.29\t5  \t10 \t3  \t96    \t1.57032\n",
      "6  \t89    \t6829.83\t6  \t158106     \t1849.78\t89    \t26103.9    \t3.9 \t6  \t10 \t3  \t89    \t1.50665\n",
      "7  \t92    \t5291.95\t7  \t153712     \t1849.78\t92    \t21221.9    \t4.04\t7  \t10 \t3  \t92    \t1.77719\n",
      "8  \t94    \t8262.71\t8  \t153712     \t1849.78\t94    \t29719.3    \t3.75\t8  \t13 \t2  \t94    \t1.63325\n",
      "9  \t86    \t6564.08\t9  \t153712     \t1849.78\t86    \t25884      \t3.76\t9  \t8  \t2  \t86    \t1.40086\n",
      "10 \t90    \t9918.84\t10 \t158106     \t1849.78\t90    \t33185.9    \t3.92\t10 \t12 \t2  \t90    \t1.74172\n",
      "time: 0.050930023193359375\n",
      "subtract(ARG0, subtract(ARG0, multiply(ARG0, ARG0)))\n"
     ]
    }
   ],
   "source": [
    "import numpy\n",
    "from deap import algorithms\n",
    "\n",
    "# 定义统计指标\n",
    "stats_fit = tools.Statistics(lambda ind: ind.fitness.values)\n",
    "stats_size = tools.Statistics(len)\n",
    "mstats = tools.MultiStatistics(fitness=stats_fit, size=stats_size)\n",
    "mstats.register(\"avg\", numpy.mean)\n",
    "mstats.register(\"std\", numpy.std)\n",
    "mstats.register(\"min\", numpy.min)\n",
    "mstats.register(\"max\", numpy.max)\n",
    "\n",
    "# 使用默认算法\n",
    "custom_compiler_time = []\n",
    "for i in range(3):\n",
    "    start = time.time()\n",
    "    population = toolbox.population(n=100)\n",
    "    hof = tools.HallOfFame(1)\n",
    "    pop, log = algorithms.eaSimple(population=population,\n",
    "                                   toolbox=toolbox, cxpb=0.9, mutpb=0.1, ngen=10, stats=mstats, halloffame=hof,\n",
    "                                   verbose=True)\n",
    "    end = time.time()\n",
    "    print('time:', end - start)\n",
    "    print(str(hof[0]))\n",
    "    custom_compiler_time.append(end - start)"
   ]
  },
  {
   "cell_type": "code",
   "execution_count": 4,
   "id": "93e26be78cb63ef",
   "metadata": {
    "ExecuteTime": {
     "end_time": "2023-12-25T02:37:08.449160200Z",
     "start_time": "2023-12-25T02:37:08.228958300Z"
    }
   },
   "outputs": [
    {
     "name": "stdout",
     "output_type": "stream",
     "text": [
      "   \t      \t                          fitness                          \t                      size                     \n",
      "   \t      \t-----------------------------------------------------------\t-----------------------------------------------\n",
      "gen\tnevals\tavg   \tgen\tmax        \tmin\tnevals\tstd        \tavg\tgen\tmax\tmin\tnevals\tstd    \n",
      "0  \t100   \t119447\t0  \t1.17257e+07\t0  \t100   \t1.16648e+06\t4.2\t0  \t7  \t2  \t100   \t1.73781\n",
      "1  \t94    \t1603.85\t1  \t2387.41    \t0  \t94    \t878.039    \t4.53\t1  \t12 \t2  \t94    \t2.01224\n",
      "2  \t94    \t4695.69\t2  \t153712     \t0  \t94    \t21352.2    \t4.67\t2  \t9  \t2  \t94    \t1.93419\n",
      "3  \t94    \t10059.5\t3  \t157909     \t0  \t94    \t36398.7    \t4.46\t3  \t11 \t2  \t94    \t2.16527\n",
      "4  \t90    \t5346.64\t4  \t159956     \t0  \t90    \t26380.6    \t4.66\t4  \t11 \t3  \t90    \t2.24597\n",
      "5  \t90    \t12550.5\t5  \t153712     \t0  \t90    \t41327.4    \t4.44\t5  \t9  \t2  \t90    \t2.11339\n",
      "6  \t95    \t11218.5\t6  \t153712     \t0  \t95    \t38956.6    \t4.07\t6  \t9  \t3  \t95    \t1.79586\n",
      "7  \t93    \t123617 \t7  \t1.23323e+07\t0  \t93    \t1.22702e+06\t3.71\t7  \t9  \t3  \t93    \t1.40211\n",
      "8  \t92    \t6317.41\t8  \t608604     \t0  \t92    \t60539.9    \t3.5 \t8  \t9  \t3  \t92    \t1.36748\n",
      "9  \t78    \t8061.6 \t9  \t625254     \t0  \t78    \t63889      \t3.56\t9  \t9  \t2  \t78    \t1.45822\n",
      "10 \t90    \t6442.59\t10 \t159956     \t0  \t90    \t30400.3    \t3.47\t10 \t9  \t3  \t90    \t1.25264\n",
      "time: 0.0755617618560791\n",
      "   \t      \t                    fitness                    \t                      size                     \n",
      "   \t      \t-----------------------------------------------\t-----------------------------------------------\n",
      "gen\tnevals\tavg    \tgen\tmax    \tmin\tnevals\tstd    \tavg \tgen\tmax\tmin\tnevals\tstd    \n",
      "0  \t100   \t2029.52\t0  \t2387.41\t0  \t100   \t419.475\t3.89\t0  \t7  \t2  \t100   \t1.63643\n",
      "1  \t89    \t2104.04\t1  \t8325.39\t0  \t89    \t1232.12\t3.78\t1  \t7  \t2  \t89    \t1.37535\n",
      "2  \t84    \t3713.2 \t2  \t153712 \t0  \t84    \t15152.6\t4.25\t2  \t10 \t2  \t84    \t1.55161\n",
      "3  \t88    \t122148 \t3  \t1.17257e+07\t0  \t88    \t1.16639e+06\t4.85\t3  \t11 \t2  \t88    \t1.87283\n",
      "4  \t83    \t3606.61\t4  \t153712     \t0  \t83    \t15236.2    \t5.34\t4  \t15 \t2  \t83    \t2.201  \n",
      "5  \t90    \t7938.61\t5  \t606522     \t0  \t90    \t60184.1    \t5.52\t5  \t12 \t2  \t90    \t2.147  \n",
      "6  \t95    \t3180.84\t6  \t153712     \t0  \t95    \t15201      \t5.41\t6  \t12 \t2  \t95    \t2.27198\n",
      "7  \t90    \t2697.73\t7  \t151631     \t0  \t90    \t15019.6    \t4.72\t7  \t11 \t2  \t90    \t2.18211\n",
      "8  \t87    \t2655.63\t8  \t159956     \t0  \t87    \t15989.2    \t4.56\t8  \t11 \t3  \t87    \t2.20599\n",
      "9  \t88    \t542.04 \t9  \t8359.39    \t0  \t88    \t1162.05    \t4.22\t9  \t11 \t3  \t88    \t1.83074\n",
      "10 \t96    \t6420.42\t10 \t608604     \t0  \t96    \t60530.8    \t3.69\t10 \t9  \t3  \t96    \t1.27824\n",
      "time: 0.0690147876739502\n",
      "   \t      \t                    fitness                    \t                      size                     \n",
      "   \t      \t-----------------------------------------------\t-----------------------------------------------\n",
      "gen\tnevals\tavg    \tgen\tmax   \tmin\tnevals\tstd    \tavg\tgen\tmax\tmin\tnevals\tstd    \n",
      "0  \t100   \t12912.8\t0  \t608604\t0  \t100   \t65507.4\t4  \t0  \t7  \t2  \t100   \t1.69115\n",
      "1  \t94    \t1839.74\t1  \t8224.37\t0  \t94    \t985.792\t4.02\t1  \t9  \t2  \t94    \t1.81648\n",
      "2  \t88    \t2949.82\t2  \t151631 \t0  \t88    \t14990.5\t4.12\t2  \t10 \t2  \t88    \t1.85084\n",
      "3  \t84    \t4156.77\t3  \t159956 \t0  \t84    \t21851.6\t4.11\t3  \t11 \t2  \t84    \t2.02926\n",
      "4  \t94    \t2167.67\t4  \t153712 \t0  \t94    \t15294.9\t3.74\t4  \t9  \t3  \t94    \t1.41152\n",
      "5  \t87    \t1789.28\t5  \t145523 \t0  \t87    \t14483.8\t3.48\t5  \t9  \t2  \t87    \t1.20399\n",
      "6  \t89    \t190.092\t6  \t8325.39\t0  \t89    \t939.729\t3.26\t6  \t7  \t3  \t89    \t0.743236\n",
      "7  \t93    \t190.782\t7  \t8325.39\t0  \t93    \t940.954\t3.38\t7  \t9  \t3  \t93    \t1.08425 \n",
      "8  \t92    \t544.571\t8  \t8359.39\t0  \t92    \t1857.96\t3.36\t8  \t9  \t3  \t92    \t1.07257 \n",
      "9  \t96    \t168.908\t9  \t2115.35\t0  \t96    \t561.94 \t3.32\t9  \t9  \t2  \t96    \t1.06658 \n",
      "10 \t86    \t499.543\t10 \t18732.1\t0  \t86    \t2224.64\t3.41\t10 \t9  \t3  \t86    \t1.19243 \n",
      "time: 0.07066202163696289\n"
     ]
    }
   ],
   "source": [
    "# 慢速评估\n",
    "def evalSymbReg(individual, pset):\n",
    "    # 编译GP树为函数\n",
    "    func = gp.compile(expr=individual, pset=pset)\n",
    "\n",
    "    # 使用numpy创建一个向量\n",
    "    x = np.linspace(-10, 10, 100)\n",
    "\n",
    "    # 评估生成的函数并计算MSE\n",
    "    mse = np.mean((func(x) - x ** 2) ** 2)\n",
    "\n",
    "    return (mse,)\n",
    "\n",
    "\n",
    "toolbox.register(\"evaluate\", evalSymbReg, pset=pset)\n",
    "\n",
    "py_time = []\n",
    "for i in range(3):\n",
    "    start = time.time()\n",
    "    population = toolbox.population(n=100)\n",
    "    hof = tools.HallOfFame(1)\n",
    "    pop, log = algorithms.eaSimple(population=population,\n",
    "                                   toolbox=toolbox, cxpb=0.9, mutpb=0.1, ngen=10, stats=mstats, halloffame=hof,\n",
    "                                   verbose=True)\n",
    "    end = time.time()\n",
    "    print('time:', end - start)\n",
    "    py_time.append(end - start)"
   ]
  },
  {
   "cell_type": "markdown",
   "id": "8c746d5032e852bb",
   "metadata": {},
   "source": [
    "下图展示了实验结果，从实验结果可以看出，自行实现的编译器在编译GP树时的速度要快于Python默认编译器。主要是因为自行实现的编译器基本没有额外开销，而Python默认编译器在编译时会进行一些额外的操作，因此速度较慢。"
   ]
  },
  {
   "cell_type": "code",
   "execution_count": 5,
   "id": "c6e9fb08c172a7f0",
   "metadata": {
    "ExecuteTime": {
     "end_time": "2023-12-25T02:37:08.749483500Z",
     "start_time": "2023-12-25T02:37:08.450148200Z"
    }
   },
   "outputs": [
    {
     "data": {
      "text/plain": "<Figure size 400x300 with 1 Axes>",
      "image/png": "[encoded data removed]"
     },
     "metadata": {},
     "output_type": "display_data"
    }
   ],
   "source": [
    "import seaborn as sns\n",
    "import matplotlib.pyplot as plt\n",
    "import pandas as pd\n",
    "\n",
    "data = pd.DataFrame(\n",
    "    {'Category': ['Efficient Compiler'] * len(custom_compiler_time) + ['Python Compiler'] * len(py_time),\n",
    "     'Time': np.concatenate([custom_compiler_time, py_time])})\n",
    "\n",
    "plt.figure(figsize=(4, 3))\n",
    "sns.set_style(\"whitegrid\")\n",
    "sns.boxplot(data=data, x='Category', y='Time', palette=\"Set3\", width=0.4)\n",
    "plt.title('Comparison of Efficient Compiler and Python Compiler')\n",
    "plt.xlabel('')\n",
    "plt.ylabel('Time')\n",
    "plt.show()"
   ]
  }
 ],
 "metadata": {
  "kernelspec": {
   "display_name": "Python 3 (ipykernel)",
   "language": "python",
   "name": "python3"
  },
  "language_info": {
   "codemirror_mode": {
    "name": "ipython",
    "version": 3
   },
   "file_extension": ".py",
   "mimetype": "text/x-python",
   "name": "python",
   "nbconvert_exporter": "python",
   "pygments_lexer": "ipython3",
   "version": "3.11.4"
  }
 },
 "nbformat": 4,
 "nbformat_minor": 5
}
