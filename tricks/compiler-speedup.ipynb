{
 "cells": [
  {
   "cell_type": "markdown",
   "source": [
    "### 手动编写编译器加速\n",
    "Python默认编译器在编译GP时实际上速度较慢，因此我们可以考虑自行实现一个编译器来加速GP运算。"
   ],
   "metadata": {
    "collapsed": false
   },
   "id": "8db4ada5ce6ebf73"
  },
  {
   "cell_type": "code",
   "execution_count": 19,
   "outputs": [],
   "source": [
    "from deap.gp import PrimitiveTree, Primitive, Terminal\n",
    "import time\n",
    "\n",
    "import numpy as np\n",
    "from deap import base, creator, tools, gp\n",
    "\n",
    "def quick_evaluate(expr: PrimitiveTree, pset, data, prefix='ARG'):\n",
    "    result = None\n",
    "    stack = []\n",
    "    for node in expr:\n",
    "        stack.append((node, []))\n",
    "        while len(stack[-1][1]) == stack[-1][0].arity:\n",
    "            prim, args = stack.pop()\n",
    "            if isinstance(prim, Primitive):\n",
    "                result = pset.context[prim.name](*args)\n",
    "            elif isinstance(prim, Terminal):\n",
    "                if prefix in prim.name:\n",
    "                    result = data[:, int(prim.name.replace(prefix, ''))]\n",
    "                else:\n",
    "                    result = prim.value\n",
    "            else:\n",
    "                raise Exception\n",
    "            if len(stack) == 0:\n",
    "                break  # If stack is empty, all nodes should have been seen\n",
    "            stack[-1][1].append(result)\n",
    "    return result\n",
    "\n",
    "# 符号回归\n",
    "def evalSymbReg(individual, pset):\n",
    "    # 使用numpy创建一个向量\n",
    "    x = np.linspace(-10, 10, 100).reshape(-1,1)\n",
    "    \n",
    "    # 评估生成的函数并计算MSE\n",
    "    mse = np.mean((quick_evaluate(individual,pset,x) - x**2)**2)\n",
    "    \n",
    "    return (mse,)\n",
    "\n",
    "# 创建个体和适应度函数\n",
    "creator.create(\"FitnessMin\", base.Fitness, weights=(-1.0,))\n",
    "creator.create(\"Individual\", gp.PrimitiveTree, fitness=creator.FitnessMin)"
   ],
   "metadata": {
    "collapsed": false,
    "ExecuteTime": {
     "end_time": "2023-11-07T04:26:40.609457400Z",
     "start_time": "2023-11-07T04:26:40.597790100Z"
    }
   },
   "id": "initial_id"
  },
  {
   "cell_type": "markdown",
   "source": [],
   "metadata": {
    "collapsed": false
   },
   "id": "e3d94e424b58af5a"
  },
  {
   "cell_type": "code",
   "execution_count": 20,
   "outputs": [],
   "source": [
    "import random\n",
    "\n",
    "# 定义函数集合和终端集合\n",
    "pset = gp.PrimitiveSet(\"MAIN\", arity=1)\n",
    "pset.addPrimitive(np.add, 2)\n",
    "pset.addPrimitive(np.subtract, 2)\n",
    "pset.addPrimitive(np.multiply, 2)\n",
    "pset.addPrimitive(np.negative, 1)\n",
    "pset.addEphemeralConstant(\"rand101\", lambda: random.randint(-1, 1))\n",
    "\n",
    "# 定义遗传编程操作\n",
    "toolbox = base.Toolbox()\n",
    "toolbox.register(\"expr\", gp.genHalfAndHalf, pset=pset, min_=1, max_=2)\n",
    "toolbox.register(\"individual\", tools.initIterate, creator.Individual, toolbox.expr)\n",
    "toolbox.register(\"population\", tools.initRepeat, list, toolbox.individual)\n",
    "toolbox.register(\"compile\", gp.compile, pset=pset)\n",
    "toolbox.register(\"evaluate\", evalSymbReg, pset=pset)\n",
    "toolbox.register(\"select\", tools.selTournament, tournsize=3)\n",
    "toolbox.register(\"mate\", gp.cxOnePoint)\n",
    "toolbox.register(\"mutate\", gp.mutUniform, expr=toolbox.expr, pset=pset)"
   ],
   "metadata": {
    "collapsed": false,
    "ExecuteTime": {
     "end_time": "2023-11-07T04:26:40.685378400Z",
     "start_time": "2023-11-07T04:26:40.604375Z"
    }
   },
   "id": "cb6cf38094256262"
  },
  {
   "cell_type": "markdown",
   "source": [],
   "metadata": {
    "collapsed": false
   },
   "id": "e09fa8e7890d583b"
  },
  {
   "cell_type": "code",
   "execution_count": 21,
   "outputs": [
    {
     "name": "stdout",
     "output_type": "stream",
     "text": [
      "   \t      \t                    fitness                    \t                      size                     \n",
      "   \t      \t-----------------------------------------------\t-----------------------------------------------\n",
      "gen\tnevals\tavg    \tgen\tmax   \tmin    \tnevals\tstd    \tavg    \tgen\tmax\tmin\tnevals\tstd    \n",
      "0  \t300   \t2801.71\t0  \t153712\t1849.78\t300   \t8775.53\t4.01333\t0  \t7  \t2  \t300   \t1.66928\n",
      "1  \t241   \t2154.6 \t1  \t6781.67\t1849.78\t241   \t617.2  \t4.44   \t1  \t13 \t2  \t241   \t2.1291 \n",
      "2  \t250   \t3221.44\t2  \t153712 \t1849.78\t250   \t12044.1\t4.97667\t2  \t16 \t2  \t250   \t2.45685\n",
      "3  \t245   \t5845.69\t3  \t162303 \t1849.78\t245   \t23177.9\t5.47333\t3  \t17 \t2  \t245   \t2.54741\n",
      "4  \t248   \t8351.8 \t4  \t612303 \t1849.78\t248   \t42618.1\t5.89333\t4  \t22 \t2  \t248   \t3.12655\n",
      "5  \t250   \t8533.02\t5  \t166663 \t1849.78\t250   \t29977.2\t6.16667\t5  \t24 \t2  \t250   \t3.81648\n",
      "6  \t264   \t7435.01\t6  \t158106 \t1849.78\t264   \t27133.8\t5.48667\t6  \t24 \t2  \t264   \t3.02707\n",
      "7  \t259   \t50370.8\t7  \t1.24977e+07\t1849.78\t259   \t721154 \t5.38333\t7  \t24 \t2  \t259   \t3.32511\n",
      "8  \t253   \t50055.7\t8  \t1.23421e+07\t1849.78\t253   \t711554 \t4.94667\t8  \t24 \t2  \t253   \t3.01615\n",
      "9  \t261   \t44364.1\t9  \t1.18875e+07\t1849.78\t261   \t685176 \t4.70667\t9  \t23 \t2  \t261   \t3.04094\n",
      "10 \t261   \t6694.24\t10 \t608604     \t1849.78\t261   \t39925.5\t4.08667\t10 \t20 \t2  \t261   \t2.2787 \n",
      "11 \t253   \t5873.8 \t11 \t158106     \t1849.78\t253   \t23169.4\t4.12667\t11 \t17 \t2  \t253   \t2.20241\n",
      "12 \t259   \t44450.5\t12 \t1.18875e+07\t1849.78\t259   \t685178 \t4.09   \t12 \t18 \t3  \t259   \t2.13586\n",
      "13 \t246   \t5786.3 \t13 \t608604     \t1849.78\t246   \t38175  \t3.96333\t13 \t14 \t2  \t246   \t1.93787\n",
      "14 \t264   \t5917.26\t14 \t153712     \t1849.78\t264   \t22928.2\t3.84667\t14 \t14 \t2  \t264   \t1.73488\n",
      "15 \t248   \t6169.23\t15 \t608604     \t1849.78\t248   \t38951.6\t3.6    \t15 \t10 \t2  \t248   \t1.44222\n",
      "16 \t257   \t4705.85\t16 \t158106     \t1849.78\t257   \t19539.7\t3.71   \t16 \t9  \t2  \t257   \t1.4717 \n",
      "17 \t260   \t3.39242e+06\t17 \t1.00337e+09\t1849.78\t260   \t5.78343e+07\t3.97667\t17 \t15 \t2  \t260   \t1.9552 \n",
      "18 \t230   \t4171.58    \t18 \t153712     \t1849.78\t230   \t17314.5    \t3.77667\t18 \t11 \t2  \t230   \t1.63507\n",
      "19 \t253   \t48886.9    \t19 \t1.21706e+07\t1849.78\t253   \t702965     \t3.71   \t19 \t12 \t2  \t253   \t1.48971\n",
      "20 \t252   \t45414.8    \t20 \t1.21706e+07\t1849.78\t252   \t701490     \t3.84333\t20 \t11 \t2  \t252   \t1.67694\n",
      "21 \t246   \t6823.19    \t21 \t608604     \t1849.78\t246   \t39922.7    \t3.75667\t21 \t11 \t2  \t246   \t1.53974\n",
      "22 \t251   \t48317.5    \t22 \t1.23222e+07\t1849.78\t251   \t710985     \t4.02667\t22 \t11 \t2  \t251   \t1.75289\n",
      "23 \t272   \t7695.07    \t23 \t158106     \t1849.78\t272   \t28795.2    \t3.87333\t23 \t11 \t2  \t272   \t1.6745 \n",
      "24 \t258   \t6657.12    \t24 \t153712     \t1849.78\t258   \t25865.1    \t3.91   \t24 \t11 \t3  \t258   \t1.6699 \n",
      "25 \t257   \t8849.38    \t25 \t608604     \t1849.78\t257   \t43222.9    \t3.89333\t25 \t12 \t2  \t257   \t1.68581\n",
      "26 \t250   \t48399.5    \t26 \t1.20391e+07\t1849.78\t250   \t695440     \t3.61333\t26 \t11 \t2  \t250   \t1.4619 \n",
      "27 \t261   \t5144.48    \t27 \t153712     \t1849.78\t261   \t21061.6    \t3.67333\t27 \t10 \t2  \t261   \t1.53187\n",
      "28 \t242   \t8333.26    \t28 \t621555     \t1849.78\t242   \t43225.3    \t3.73333\t28 \t9  \t2  \t242   \t1.57127\n",
      "29 \t252   \t4799.06    \t29 \t157909     \t1849.78\t252   \t19578.5    \t3.69667\t29 \t9  \t2  \t252   \t1.52468\n",
      "30 \t248   \t46668.2    \t30 \t1.21706e+07\t1849.78\t248   \t701570     \t3.58667\t30 \t11 \t2  \t248   \t1.36717\n",
      "31 \t255   \t46791.7    \t31 \t1.18875e+07\t1849.78\t255   \t685975     \t3.70333\t31 \t11 \t2  \t255   \t1.50621\n",
      "32 \t264   \t7674.87    \t32 \t158106     \t1849.78\t264   \t28588.4    \t3.74667\t32 \t11 \t2  \t264   \t1.46827\n",
      "33 \t256   \t4739.41    \t33 \t153712     \t1849.78\t256   \t19462.3    \t3.72333\t33 \t11 \t3  \t256   \t1.50337\n",
      "34 \t262   \t7207.26    \t34 \t608604     \t1849.78\t262   \t40803.2    \t3.74667\t34 \t11 \t2  \t262   \t1.52616\n",
      "35 \t260   \t83122.9    \t35 \t1.18875e+07\t1849.78\t260   \t967177     \t3.81333\t35 \t13 \t2  \t260   \t1.63049\n",
      "36 \t253   \t8311.87    \t36 \t166663     \t1849.78\t253   \t30289.8    \t3.82   \t36 \t11 \t2  \t253   \t1.63532\n",
      "37 \t237   \t3.39079e+06\t37 \t1.00337e+09\t1849.78\t237   \t5.78343e+07\t3.75333\t37 \t13 \t3  \t237   \t1.6266 \n",
      "38 \t248   \t165555     \t38 \t4.78267e+07\t1849.78\t248   \t2.75642e+06\t3.78   \t38 \t10 \t3  \t248   \t1.52914\n",
      "39 \t255   \t10749.2    \t39 \t608604     \t1849.78\t255   \t55517.8    \t3.72   \t39 \t13 \t2  \t255   \t1.52149\n",
      "40 \t240   \t3134.72    \t40 \t153712     \t1849.78\t240   \t12397.9    \t3.71333\t40 \t9  \t2  \t240   \t1.44608\n",
      "41 \t257   \t8256.07    \t41 \t158106     \t1849.78\t257   \t29725.5    \t3.77667\t41 \t9  \t2  \t257   \t1.59168\n",
      "42 \t260   \t46963.6    \t42 \t1.18875e+07\t1849.78\t260   \t685965     \t3.73667\t42 \t9  \t2  \t260   \t1.54294\n",
      "43 \t250   \t3658.28    \t43 \t153712     \t1849.78\t250   \t15130.9    \t3.65667\t43 \t11 \t2  \t250   \t1.50514\n",
      "44 \t266   \t2633.63    \t44 \t153712     \t1849.78\t266   \t8815.87    \t3.62667\t44 \t9  \t2  \t266   \t1.3319 \n",
      "45 \t242   \t3098.36    \t45 \t153712     \t1849.78\t242   \t12372.2    \t3.64   \t45 \t10 \t2  \t242   \t1.40133\n",
      "46 \t259   \t4145.05    \t46 \t153712     \t1849.78\t259   \t17426.6    \t3.63333\t46 \t9  \t2  \t259   \t1.40436\n",
      "47 \t256   \t7816.68    \t47 \t608604     \t1849.78\t256   \t41630.6    \t3.60667\t47 \t9  \t2  \t256   \t1.34609\n",
      "48 \t254   \t47772      \t48 \t1.21706e+07\t1849.78\t254   \t702266     \t3.69667\t48 \t11 \t2  \t254   \t1.43689\n",
      "49 \t241   \t45863.7    \t49 \t1.18875e+07\t1849.78\t241   \t685924     \t3.77667\t49 \t10 \t2  \t241   \t1.60004\n",
      "50 \t250   \t44376.1    \t50 \t1.18875e+07\t1849.78\t250   \t685179     \t3.58333\t50 \t9  \t2  \t250   \t1.29218\n",
      "time: 1.0543360710144043\n",
      "add(ARG0, multiply(subtract(ARG0, 1), ARG0))\n"
     ]
    }
   ],
   "source": [
    "import numpy\n",
    "from deap import algorithms\n",
    "\n",
    "# 定义统计指标\n",
    "stats_fit = tools.Statistics(lambda ind: ind.fitness.values)\n",
    "stats_size = tools.Statistics(len)\n",
    "mstats = tools.MultiStatistics(fitness=stats_fit, size=stats_size)\n",
    "mstats.register(\"avg\", numpy.mean)\n",
    "mstats.register(\"std\", numpy.std)\n",
    "mstats.register(\"min\", numpy.min)\n",
    "mstats.register(\"max\", numpy.max)\n",
    "\n",
    "# 使用默认算法\n",
    "start=time.time()\n",
    "population = toolbox.population(n=300)\n",
    "hof = tools.HallOfFame(1)\n",
    "pop, log  = algorithms.eaSimple(population=population,\n",
    "                           toolbox=toolbox, cxpb=0.8, mutpb=0.2, ngen=50, stats=mstats, halloffame=hof, verbose=True)\n",
    "end=time.time()\n",
    "print('time:',end-start)\n",
    "print(str(hof[0]))"
   ],
   "metadata": {
    "collapsed": false,
    "ExecuteTime": {
     "end_time": "2023-11-07T04:26:41.674546100Z",
     "start_time": "2023-11-07T04:26:40.614924600Z"
    }
   },
   "id": "88c62bc071d56191"
  }
 ],
 "metadata": {
  "kernelspec": {
   "display_name": "Python 3",
   "language": "python",
   "name": "python3"
  },
  "language_info": {
   "codemirror_mode": {
    "name": "ipython",
    "version": 2
   },
   "file_extension": ".py",
   "mimetype": "text/x-python",
   "name": "python",
   "nbconvert_exporter": "python",
   "pygments_lexer": "ipython2",
   "version": "2.7.6"
  }
 },
 "nbformat": 4,
 "nbformat_minor": 5
}
