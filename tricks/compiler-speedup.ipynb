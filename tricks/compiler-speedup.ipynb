{
 "cells": [
  {
   "cell_type": "markdown",
   "id": "8db4ada5ce6ebf73",
   "metadata": {},
   "source": [
    "### 低开销编译器\n",
    "DEAP在编译GP时使用了Python的默认编译器，但是Python默认编译器在编译GP时实际上速度较慢，因此我们可以考虑自行实现一个编译器来加速GP运算。更严格来说，应该是自行实现一个GP树的解析函数，从而降低编译的时间开销。"
   ]
  },
  {
   "cell_type": "code",
   "execution_count": 1,
   "id": "initial_id",
   "metadata": {
    "ExecuteTime": {
     "end_time": "2023-12-25T02:37:08.047926400Z",
     "start_time": "2023-12-25T02:37:08.020758200Z"
    }
   },
   "source": [
    "import time\n",
    "import warnings\n",
    "\n",
    "import numpy as np\n",
    "from deap import base, creator, tools, gp\n",
    "from deap.gp import PrimitiveTree, Primitive, Terminal\n",
    "\n",
    "warnings.filterwarnings(\"ignore\")\n",
    "\n",
    "\n",
    "def quick_evaluate(expr: PrimitiveTree, pset, data, prefix='ARG'):\n",
    "    result = None\n",
    "    stack = []\n",
    "    for node in expr:\n",
    "        stack.append((node, []))\n",
    "        while len(stack[-1][1]) == stack[-1][0].arity:\n",
    "            prim, args = stack.pop()\n",
    "            if isinstance(prim, Primitive):\n",
    "                result = pset.context[prim.name](*args)\n",
    "            elif isinstance(prim, Terminal):\n",
    "                if prefix in prim.name:\n",
    "                    result = data[:, int(prim.name.replace(prefix, ''))]\n",
    "                else:\n",
    "                    result = prim.value\n",
    "            else:\n",
    "                raise Exception\n",
    "            if len(stack) == 0:\n",
    "                break  # 栈为空代表所有节点都已经被访问\n",
    "            stack[-1][1].append(result)\n",
    "    return result\n",
    "\n",
    "\n",
    "# 符号回归\n",
    "def evalSymbReg(individual, pset):\n",
    "    # 使用numpy创建一个向量\n",
    "    x = np.linspace(-10, 10, 100).reshape(-1, 1)\n",
    "\n",
    "    # 评估生成的函数并计算MSE\n",
    "    mse = np.mean((quick_evaluate(individual, pset, x) - x ** 2) ** 2)\n",
    "\n",
    "    return (mse,)\n",
    "\n",
    "\n",
    "# 创建个体和适应度函数\n",
    "creator.create(\"FitnessMin\", base.Fitness, weights=(-1.0,))\n",
    "creator.create(\"Individual\", gp.PrimitiveTree, fitness=creator.FitnessMin)"
   ],
   "outputs": []
  },
  {
   "cell_type": "markdown",
   "id": "e3d94e424b58af5a",
   "metadata": {},
   "source": []
  },
  {
   "cell_type": "code",
   "execution_count": 2,
   "id": "cb6cf38094256262",
   "metadata": {
    "ExecuteTime": {
     "end_time": "2023-12-25T02:37:08.054440500Z",
     "start_time": "2023-12-25T02:37:08.049951400Z"
    }
   },
   "source": [
    "import random\n",
    "\n",
    "# 定义函数集合和终端集合\n",
    "pset = gp.PrimitiveSet(\"MAIN\", arity=1)\n",
    "pset.addPrimitive(np.add, 2)\n",
    "pset.addPrimitive(np.subtract, 2)\n",
    "pset.addPrimitive(np.multiply, 2)\n",
    "pset.addPrimitive(np.negative, 1)\n",
    "pset.addEphemeralConstant(\"rand101\", lambda: random.randint(-1, 1))\n",
    "\n",
    "# 定义遗传编程操作\n",
    "toolbox = base.Toolbox()\n",
    "toolbox.register(\"expr\", gp.genHalfAndHalf, pset=pset, min_=1, max_=2)\n",
    "toolbox.register(\"individual\", tools.initIterate, creator.Individual, toolbox.expr)\n",
    "toolbox.register(\"population\", tools.initRepeat, list, toolbox.individual)\n",
    "toolbox.register(\"compile\", gp.compile, pset=pset)\n",
    "toolbox.register(\"evaluate\", evalSymbReg, pset=pset)\n",
    "toolbox.register(\"select\", tools.selTournament, tournsize=3)\n",
    "toolbox.register(\"mate\", gp.cxOnePoint)\n",
    "toolbox.register(\"mutate\", gp.mutUniform, expr=toolbox.expr, pset=pset)"
   ],
   "outputs": []
  },
  {
   "cell_type": "markdown",
   "id": "e09fa8e7890d583b",
   "metadata": {},
   "source": []
  },
  {
   "cell_type": "code",
   "execution_count": 3,
   "id": "88c62bc071d56191",
   "metadata": {
    "ExecuteTime": {
     "end_time": "2023-12-25T02:37:08.226956400Z",
     "start_time": "2023-12-25T02:37:08.054649800Z"
    }
   },
   "source": [
    "import numpy\n",
    "from deap import algorithms\n",
    "\n",
    "# 定义统计指标\n",
    "stats_fit = tools.Statistics(lambda ind: ind.fitness.values)\n",
    "stats_size = tools.Statistics(len)\n",
    "mstats = tools.MultiStatistics(fitness=stats_fit, size=stats_size)\n",
    "mstats.register(\"avg\", numpy.mean)\n",
    "mstats.register(\"std\", numpy.std)\n",
    "mstats.register(\"min\", numpy.min)\n",
    "mstats.register(\"max\", numpy.max)\n",
    "\n",
    "# 使用默认算法\n",
    "custom_compiler_time = []\n",
    "for i in range(3):\n",
    "    start = time.time()\n",
    "    population = toolbox.population(n=100)\n",
    "    hof = tools.HallOfFame(1)\n",
    "    pop, log = algorithms.eaSimple(population=population,\n",
    "                                   toolbox=toolbox, cxpb=0.9, mutpb=0.1, ngen=10, stats=mstats, halloffame=hof,\n",
    "                                   verbose=True)\n",
    "    end = time.time()\n",
    "    print('time:', end - start)\n",
    "    print(str(hof[0]))\n",
    "    custom_compiler_time.append(end - start)"
   ],
   "outputs": []
  },
  {
   "cell_type": "code",
   "execution_count": 4,
   "id": "93e26be78cb63ef",
   "metadata": {
    "ExecuteTime": {
     "end_time": "2023-12-25T02:37:08.449160200Z",
     "start_time": "2023-12-25T02:37:08.228958300Z"
    }
   },
   "source": [
    "# 慢速评估\n",
    "def evalSymbReg(individual, pset):\n",
    "    # 编译GP树为函数\n",
    "    func = gp.compile(expr=individual, pset=pset)\n",
    "\n",
    "    # 使用numpy创建一个向量\n",
    "    x = np.linspace(-10, 10, 100)\n",
    "\n",
    "    # 评估生成的函数并计算MSE\n",
    "    mse = np.mean((func(x) - x ** 2) ** 2)\n",
    "\n",
    "    return (mse,)\n",
    "\n",
    "\n",
    "toolbox.register(\"evaluate\", evalSymbReg, pset=pset)\n",
    "\n",
    "py_time = []\n",
    "for i in range(3):\n",
    "    start = time.time()\n",
    "    population = toolbox.population(n=100)\n",
    "    hof = tools.HallOfFame(1)\n",
    "    pop, log = algorithms.eaSimple(population=population,\n",
    "                                   toolbox=toolbox, cxpb=0.9, mutpb=0.1, ngen=10, stats=mstats, halloffame=hof,\n",
    "                                   verbose=True)\n",
    "    end = time.time()\n",
    "    print('time:', end - start)\n",
    "    py_time.append(end - start)"
   ],
   "outputs": []
  },
  {
   "cell_type": "markdown",
   "id": "8c746d5032e852bb",
   "metadata": {},
   "source": [
    "下图展示了实验结果，从实验结果可以看出，自行实现的编译器在编译GP树时的速度要快于Python默认编译器。主要是因为自行实现的编译器基本没有额外开销，而Python默认编译器在编译时会进行一些额外的操作，因此速度较慢。"
   ]
  },
  {
   "cell_type": "code",
   "execution_count": 5,
   "id": "c6e9fb08c172a7f0",
   "metadata": {
    "ExecuteTime": {
     "end_time": "2023-12-25T02:37:08.749483500Z",
     "start_time": "2023-12-25T02:37:08.450148200Z"
    }
   },
   "source": [
    "import seaborn as sns\n",
    "import matplotlib.pyplot as plt\n",
    "import pandas as pd\n",
    "\n",
    "data = pd.DataFrame(\n",
    "    {'Category': ['Efficient Compiler'] * len(custom_compiler_time) + ['Python Compiler'] * len(py_time),\n",
    "     'Time': np.concatenate([custom_compiler_time, py_time])})\n",
    "\n",
    "plt.figure(figsize=(4, 3))\n",
    "sns.set_style(\"whitegrid\")\n",
    "sns.boxplot(data=data, x='Category', y='Time', palette=\"Set3\", width=0.4)\n",
    "plt.title('Comparison of Efficient Compiler and Python Compiler')\n",
    "plt.xlabel('')\n",
    "plt.ylabel('Time')\n",
    "plt.show()"
   ],
   "outputs": []
  }
 ],
 "metadata": {
  "kernelspec": {
   "display_name": "Python 3 (ipykernel)",
   "language": "python",
   "name": "python3"
  },
  "language_info": {
   "codemirror_mode": {
    "name": "ipython",
    "version": 3
   },
   "file_extension": ".py",
   "mimetype": "text/x-python",
   "name": "python",
   "nbconvert_exporter": "python",
   "pygments_lexer": "ipython3",
   "version": "3.11.4"
  }
 },
 "nbformat": 4,
 "nbformat_minor": 5
}
