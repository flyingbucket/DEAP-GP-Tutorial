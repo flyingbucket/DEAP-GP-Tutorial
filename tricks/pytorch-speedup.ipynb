{
 "cells": [
  {
   "cell_type": "markdown",
   "source": [
    "### Pytorch 加速\n",
    "DEAP除了可以使用Numpy进行CPU加速，还可以基于PyTorch进行GPU加速。值得一提的是，在评估时，数据需要以Tensor的格式加载，传统的Numpy格式不能被GPU处理。这种加速方式可以显著提高计算速度，特别是对于大规模的模型评估。"
   ],
   "metadata": {
    "collapsed": false
   },
   "id": "8db4ada5ce6ebf73"
  },
  {
   "cell_type": "code",
   "execution_count": 1,
   "outputs": [],
   "source": [
    "import time\n",
    "\n",
    "import torch\n",
    "from deap import base, creator, tools, gp\n",
    "\n",
    "# 确保你的GPU可用，如果不可用，则在CPU上运行\n",
    "device = torch.device(\"cuda\" if torch.cuda.is_available() else \"cpu\")\n",
    "\n",
    "\n",
    "# 符号回归\n",
    "def evalSymbReg(individual, pset):\n",
    "    # 编译GP树为函数\n",
    "    func = gp.compile(expr=individual, pset=pset)\n",
    "\n",
    "   # 使用torch创建一个张量\n",
    "    xs = torch.linspace(-10, 10, 100, device=device)\n",
    "    \n",
    "    # 计算均方误差（MSE）\n",
    "    ys = torch.pow(xs, 2)\n",
    "    squared_errors = torch.pow(func(xs) - ys, 2)\n",
    "    mse = torch.mean(squared_errors).item()  # 将结果转换回Python float\n",
    "    \n",
    "    return (mse,)\n",
    "\n",
    "# 创建个体和适应度函数\n",
    "creator.create(\"FitnessMin\", base.Fitness, weights=(-1.0,))\n",
    "creator.create(\"Individual\", gp.PrimitiveTree, fitness=creator.FitnessMin)"
   ],
   "metadata": {
    "collapsed": false,
    "ExecuteTime": {
     "end_time": "2023-11-07T08:11:25.598331500Z",
     "start_time": "2023-11-07T08:11:23.229228700Z"
    }
   },
   "id": "initial_id"
  },
  {
   "cell_type": "markdown",
   "source": [
    "对应的算子一定要替换成PyTorch函数。"
   ],
   "metadata": {
    "collapsed": false
   },
   "id": "e3d94e424b58af5a"
  },
  {
   "cell_type": "code",
   "execution_count": 2,
   "outputs": [],
   "source": [
    "import random\n",
    "\n",
    "# 定义函数集合和终端集合\n",
    "pset = gp.PrimitiveSet(\"MAIN\", arity=1)\n",
    "pset.addPrimitive(torch.add, 2)\n",
    "pset.addPrimitive(torch.sub, 2)\n",
    "pset.addPrimitive(torch.mul, 2)\n",
    "pset.addPrimitive(torch.neg, 1)\n",
    "pset.renameArguments(ARG0='x')\n",
    "\n",
    "# 定义遗传编程操作\n",
    "toolbox = base.Toolbox()\n",
    "toolbox.register(\"expr\", gp.genHalfAndHalf, pset=pset, min_=1, max_=2)\n",
    "toolbox.register(\"individual\", tools.initIterate, creator.Individual, toolbox.expr)\n",
    "toolbox.register(\"population\", tools.initRepeat, list, toolbox.individual)\n",
    "toolbox.register(\"compile\", gp.compile, pset=pset)\n",
    "toolbox.register(\"evaluate\", evalSymbReg, pset=pset)\n",
    "toolbox.register(\"select\", tools.selTournament, tournsize=3)\n",
    "toolbox.register(\"mate\", gp.cxOnePoint)\n",
    "toolbox.register(\"mutate\", gp.mutUniform, expr=toolbox.expr, pset=pset)"
   ],
   "metadata": {
    "collapsed": false,
    "ExecuteTime": {
     "end_time": "2023-11-07T08:11:25.606896500Z",
     "start_time": "2023-11-07T08:11:25.599331600Z"
    }
   },
   "id": "cb6cf38094256262"
  },
  {
   "cell_type": "markdown",
   "source": [
    "现在，我们可以开始基于PyTorch进行GPU加速了。"
   ],
   "metadata": {
    "collapsed": false
   },
   "id": "e09fa8e7890d583b"
  },
  {
   "cell_type": "code",
   "execution_count": 3,
   "outputs": [
    {
     "name": "stdout",
     "output_type": "stream",
     "text": [
      "   \t      \t                    fitness                    \t                      size                     \n",
      "   \t      \t-----------------------------------------------\t-----------------------------------------------\n",
      "gen\tnevals\tavg    \tgen\tmax    \tmin\tnevals\tstd    \tavg \tgen\tmax\tmin\tnevals\tstd    \n",
      "0  \t50    \t2489.32\t0  \t18732.1\t0  \t50    \t2898.35\t3.78\t0  \t7  \t2  \t50    \t1.68867\n",
      "1  \t29    \t7743.9 \t1  \t153712 \t0  \t29    \t29842  \t4.08\t1  \t9  \t2  \t29    \t1.62284\n",
      "2  \t31    \t8699.28\t2  \t170363 \t0  \t31    \t31485.2\t4.36\t2  \t10 \t3  \t31    \t1.65843\n",
      "3  \t29    \t954266 \t3  \t4.75033e+07\t0  \t29    \t6.64989e+06\t4.16\t3  \t9  \t2  \t29    \t1.6536 \n",
      "4  \t41    \t14754.3\t4  \t153712     \t0  \t41    \t41173.8    \t4.5 \t4  \t9  \t3  \t41    \t1.80278\n",
      "5  \t34    \t257120 \t5  \t1.23323e+07\t0  \t34    \t1.72542e+06\t4.16\t5  \t10 \t3  \t34    \t1.86933\n",
      "6  \t29    \t7108.62\t6  \t153712     \t0  \t29    \t30012.1    \t3.76\t6  \t9  \t3  \t29    \t1.33507\n",
      "7  \t33    \t238886 \t7  \t1.17257e+07\t0  \t33    \t1.64112e+06\t3.62\t7  \t9  \t2  \t33    \t1.35484\n",
      "8  \t28    \t4492.27\t8  \t153712     \t0  \t28    \t21915.2    \t3.52\t8  \t9  \t3  \t28    \t1.34521\n",
      "9  \t26    \t55337  \t9  \t2.42817e+06\t0  \t26    \t340311     \t3.42\t9  \t9  \t3  \t26    \t1.2015 \n",
      "10 \t29    \t6607.05\t10 \t153712     \t0  \t29    \t30143.6    \t3.18\t10 \t6  \t2  \t29    \t0.74   \n",
      "11 \t30    \t336.416\t11 \t8325.39    \t0  \t30    \t1278.35    \t3.12\t11 \t7  \t2  \t30    \t0.65238\n",
      "12 \t33    \t627.805\t12 \t8325.39    \t0  \t33    \t1731.87    \t3.36\t12 \t7  \t3  \t33    \t0.974885\n",
      "13 \t24    \t885.728\t13 \t8325.39    \t0  \t24    \t2050.54    \t3.46\t13 \t7  \t3  \t24    \t1.06226 \n",
      "14 \t34    \t4084.85\t14 \t153712     \t0  \t34    \t21594.9    \t3.58\t14 \t9  \t3  \t34    \t1.40129 \n",
      "15 \t29    \t6231.73\t15 \t153712     \t0  \t29    \t30107      \t3.34\t15 \t9  \t3  \t29    \t1.12446 \n",
      "16 \t24    \t9680.61\t16 \t153712     \t0  \t24    \t36427.5    \t3.4 \t16 \t9  \t3  \t24    \t1.11355 \n",
      "17 \t29    \t6776.28\t17 \t153712     \t0  \t29    \t30042.7    \t3.72\t17 \t9  \t3  \t29    \t1.56256 \n",
      "18 \t34    \t61156.5\t18 \t2.42817e+06\t0  \t34    \t340693     \t3.52\t18 \t9  \t2  \t34    \t1.4176  \n",
      "19 \t21    \t12719.3\t19 \t153712     \t0  \t21    \t41609.8    \t3.42\t19 \t8  \t3  \t21    \t1.06    \n",
      "20 \t32    \t58295.8\t20 \t2.42817e+06\t0  \t32    \t340558     \t3.78\t20 \t9  \t2  \t32    \t1.84705 \n",
      "21 \t36    \t12671.6\t21 \t153712     \t0  \t36    \t41610.6    \t3.64\t21 \t9  \t3  \t36    \t1.39657 \n",
      "22 \t34    \t500.203\t22 \t8325.39    \t0  \t34    \t1353.52    \t3.74\t22 \t13 \t3  \t34    \t1.83096 \n",
      "23 \t26    \t3745.03\t23 \t153712     \t0  \t26    \t21590.9    \t3.68\t23 \t9  \t2  \t26    \t1.79377 \n",
      "24 \t39    \t6619.97\t24 \t153712     \t0  \t39    \t30055.4    \t4.12\t24 \t9  \t3  \t39    \t1.85084 \n",
      "25 \t26    \t9473.16\t25 \t153712     \t0  \t26    \t36447.5    \t3.82\t25 \t9  \t3  \t26    \t1.59612 \n",
      "26 \t32    \t259411 \t26 \t1.17257e+07\t0  \t32    \t1.64069e+06\t3.78\t26 \t9  \t3  \t32    \t1.50053 \n",
      "27 \t23    \t4115.59\t27 \t153712     \t0  \t23    \t21589.2    \t3.82\t27 \t9  \t2  \t23    \t1.75146 \n",
      "28 \t28    \t3701.36\t28 \t153712     \t0  \t28    \t21523.9    \t3.28\t28 \t8  \t3  \t28    \t0.938936\n",
      "29 \t29    \t2.00708e+07\t29 \t1.00337e+09\t0  \t29    \t1.40471e+08\t3.7 \t29 \t9  \t3  \t29    \t1.61555 \n",
      "30 \t26    \t3407.93    \t30 \t153712     \t0  \t26    \t21509.7    \t3.3 \t30 \t8  \t3  \t26    \t0.921954\n",
      "31 \t29    \t9431.53    \t31 \t153712     \t0  \t29    \t36457.1    \t3.44\t31 \t10 \t2  \t29    \t1.34402 \n",
      "32 \t31    \t6690.31    \t32 \t159956     \t0  \t31    \t30682.5    \t3.54\t32 \t9  \t2  \t31    \t1.5519  \n",
      "33 \t30    \t6898.44    \t33 \t159956     \t0  \t30    \t30677.3    \t3.4 \t33 \t9  \t2  \t30    \t1.26491 \n",
      "34 \t32    \t9894.87    \t34 \t159956     \t0  \t32    \t36893      \t3.34\t34 \t8  \t2  \t32    \t0.950999\n",
      "35 \t28    \t6779       \t35 \t153712     \t0  \t28    \t30042.4    \t3.64\t35 \t9  \t2  \t28    \t1.62185 \n",
      "36 \t26    \t6732.61    \t36 \t170363     \t0  \t26    \t31752.4    \t3.54\t36 \t9  \t3  \t26    \t1.41718 \n",
      "37 \t27    \t3740.27    \t37 \t153712     \t0  \t27    \t21591.2    \t3.64\t37 \t9  \t3  \t27    \t1.39657 \n",
      "38 \t25    \t378.043    \t38 \t8461.41    \t0  \t25    \t1313.41    \t3.52\t38 \t9  \t2  \t25    \t1.3891  \n",
      "39 \t34    \t2.00741e+07\t39 \t1.00337e+09\t0  \t34    \t1.4047e+08 \t3.58\t39 \t9  \t2  \t34    \t1.32801 \n",
      "40 \t28    \t6648.68    \t40 \t153712     \t0  \t28    \t30135.9    \t3.5 \t40 \t9  \t2  \t28    \t1.34536 \n",
      "41 \t30    \t6897.76    \t41 \t153712     \t0  \t30    \t30036.5    \t4.06\t41 \t9  \t3  \t30    \t1.74826 \n",
      "42 \t38    \t16121.2    \t42 \t608604     \t0  \t38    \t87348.3    \t3.96\t42 \t9  \t2  \t38    \t1.68476 \n",
      "43 \t34    \t247191     \t43 \t1.23323e+07\t0  \t34    \t1.72644e+06\t4.12\t43 \t9  \t3  \t34    \t1.84    \n",
      "44 \t35    \t13504.8    \t44 \t153712     \t0  \t35    \t41481.7    \t4.04\t44 \t9  \t3  \t35    \t1.62432 \n",
      "45 \t34    \t956926     \t45 \t4.75033e+07\t0  \t34    \t6.64955e+06\t4.12\t45 \t10 \t3  \t34    \t1.78482 \n",
      "46 \t30    \t6783.76    \t46 \t153712     \t0  \t30    \t30041.7    \t4.2 \t46 \t9  \t3  \t30    \t1.86548 \n",
      "47 \t25    \t950899     \t47 \t4.75033e+07\t0  \t25    \t6.65034e+06\t4.36\t47 \t9  \t2  \t25    \t1.93659 \n",
      "48 \t23    \t6862.26    \t48 \t159956     \t0  \t23    \t30735.2    \t4.38\t48 \t11 \t3  \t23    \t2.33144 \n",
      "49 \t31    \t7316.75    \t49 \t159956     \t0  \t31    \t30764      \t3.82\t49 \t11 \t3  \t31    \t1.82964 \n",
      "50 \t31    \t241499     \t50 \t1.17257e+07\t0  \t31    \t1.64088e+06\t3.88\t50 \t11 \t3  \t31    \t1.77358 \n",
      "time: 0.21256685256958008\n",
      "mul(x, x)\n"
     ]
    }
   ],
   "source": [
    "import numpy\n",
    "from deap import algorithms\n",
    "\n",
    "# 定义统计指标\n",
    "stats_fit = tools.Statistics(lambda ind: ind.fitness.values)\n",
    "stats_size = tools.Statistics(len)\n",
    "mstats = tools.MultiStatistics(fitness=stats_fit, size=stats_size)\n",
    "mstats.register(\"avg\", numpy.mean)\n",
    "mstats.register(\"std\", numpy.std)\n",
    "mstats.register(\"min\", numpy.min)\n",
    "mstats.register(\"max\", numpy.max)\n",
    "\n",
    "# 使用默认算法\n",
    "start=time.time()\n",
    "population = toolbox.population(n=50)\n",
    "hof = tools.HallOfFame(1)\n",
    "pop, log  = algorithms.eaSimple(population=population,\n",
    "                           toolbox=toolbox, cxpb=0.5, mutpb=0.2, ngen=50, stats=mstats, halloffame=hof, verbose=True)\n",
    "end=time.time()\n",
    "print('time:',end-start)\n",
    "print(str(hof[0]))"
   ],
   "metadata": {
    "collapsed": false,
    "ExecuteTime": {
     "end_time": "2023-11-07T08:11:25.832125Z",
     "start_time": "2023-11-07T08:11:25.610897800Z"
    }
   },
   "id": "88c62bc071d56191"
  }
 ],
 "metadata": {
  "kernelspec": {
   "display_name": "Python 3",
   "language": "python",
   "name": "python3"
  },
  "language_info": {
   "codemirror_mode": {
    "name": "ipython",
    "version": 2
   },
   "file_extension": ".py",
   "mimetype": "text/x-python",
   "name": "python",
   "nbconvert_exporter": "python",
   "pygments_lexer": "ipython2",
   "version": "2.7.6"
  }
 },
 "nbformat": 4,
 "nbformat_minor": 5
}
