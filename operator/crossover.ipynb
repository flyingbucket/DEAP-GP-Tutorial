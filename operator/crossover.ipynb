{
 "cells": [
  {
   "cell_type": "markdown",
   "source": [
    "### Crossover算子\n",
    "值得一提的是，DEAP中GP默认实现的Crossover算子不考虑根节点。因此，如果要按照GP的原始论文实现，需要稍作修改。"
   ],
   "metadata": {
    "collapsed": false
   },
   "id": "8db4ada5ce6ebf73"
  },
  {
   "cell_type": "code",
   "execution_count": 1,
   "source": [
    "import time\n",
    "\n",
    "import numpy as np\n",
    "from deap import base, creator, tools, gp\n",
    "\n",
    "\n",
    "# 符号回归\n",
    "def evalSymbReg(individual, pset):\n",
    "    # 编译GP树为函数\n",
    "    func = gp.compile(expr=individual, pset=pset)\n",
    "    \n",
    "    # 使用numpy创建一个向量\n",
    "    x = np.linspace(-10, 10, 100) \n",
    "    \n",
    "    # 评估生成的函数并计算MSE\n",
    "    mse = np.mean((func(x) - x**2)**2)\n",
    "    \n",
    "    return (mse,)\n",
    "\n",
    "# 创建个体和适应度函数\n",
    "creator.create(\"FitnessMin\", base.Fitness, weights=(-1.0,))\n",
    "creator.create(\"Individual\", gp.PrimitiveTree, fitness=creator.FitnessMin)\n",
    "\n"
   ],
   "metadata": {
    "collapsed": false,
    "ExecuteTime": {
     "end_time": "2023-11-07T08:49:09.672369400Z",
     "start_time": "2023-11-07T08:49:09.564823400Z"
    }
   },
   "id": "initial_id",
   "outputs": []
  },
  {
   "cell_type": "markdown",
   "source": [
    "具体来说，需要修改交叉点的取值范围，以包括根节点。"
   ],
   "metadata": {
    "collapsed": false
   },
   "id": "e3d94e424b58af5a"
  },
  {
   "cell_type": "code",
   "execution_count": 2,
   "source": [
    "\n",
    "from collections import defaultdict\n",
    "\n",
    "__type__ = object\n",
    "\n",
    "def cxOnePoint(ind1, ind2):\n",
    "    # List all available primitive types in each individual\n",
    "    types1 = defaultdict(list)\n",
    "    types2 = defaultdict(list)\n",
    "    if ind1.root.ret == __type__:\n",
    "        # Not STGP optimization\n",
    "        types1[__type__] = list(range(0, len(ind1)))\n",
    "        types2[__type__] = list(range(0, len(ind2)))\n",
    "        common_types = [__type__]\n",
    "    else:\n",
    "        for idx, node in enumerate(ind1[0:], 1):\n",
    "            types1[node.ret].append(idx)\n",
    "        for idx, node in enumerate(ind2[0:], 1):\n",
    "            types2[node.ret].append(idx)\n",
    "        common_types = set(types1.keys()).intersection(set(types2.keys()))\n",
    "\n",
    "    if len(common_types) > 0:\n",
    "        type_ = random.choice(list(common_types))\n",
    "\n",
    "        index1 = random.choice(types1[type_])\n",
    "        index2 = random.choice(types2[type_])\n",
    "\n",
    "        slice1 = ind1.searchSubtree(index1)\n",
    "        slice2 = ind2.searchSubtree(index2)\n",
    "        ind1[slice1], ind2[slice2] = ind2[slice2], ind1[slice1]\n",
    "\n",
    "    return ind1, ind2"
   ],
   "metadata": {
    "collapsed": false,
    "ExecuteTime": {
     "end_time": "2023-11-07T08:49:09.678933300Z",
     "start_time": "2023-11-07T08:49:09.675377100Z"
    }
   },
   "id": "5dde655dc691a423",
   "outputs": []
  },
  {
   "cell_type": "code",
   "execution_count": 3,
   "source": [
    "import random\n",
    "\n",
    "# 定义函数集合和终端集合\n",
    "pset = gp.PrimitiveSet(\"MAIN\", arity=1)\n",
    "pset.addPrimitive(np.add, 2)\n",
    "pset.addPrimitive(np.subtract, 2)\n",
    "pset.addPrimitive(np.multiply, 2)\n",
    "pset.addPrimitive(np.negative, 1)\n",
    "pset.addEphemeralConstant(\"rand101\", lambda: random.randint(-1, 1))\n",
    "pset.renameArguments(ARG0='x')\n",
    "\n",
    "# 定义遗传编程操作\n",
    "toolbox = base.Toolbox()\n",
    "toolbox.register(\"expr\", gp.genHalfAndHalf, pset=pset, min_=1, max_=2)\n",
    "toolbox.register(\"individual\", tools.initIterate, creator.Individual, toolbox.expr)\n",
    "toolbox.register(\"population\", tools.initRepeat, list, toolbox.individual)\n",
    "toolbox.register(\"compile\", gp.compile, pset=pset)\n",
    "toolbox.register(\"evaluate\", evalSymbReg, pset=pset)\n",
    "toolbox.register(\"select\", tools.selTournament, tournsize=3)\n",
    "toolbox.register(\"mate\", cxOnePoint)\n",
    "toolbox.register(\"mutate\", gp.mutUniform, expr=toolbox.expr, pset=pset)"
   ],
   "metadata": {
    "collapsed": false,
    "ExecuteTime": {
     "end_time": "2023-11-07T08:49:09.694753600Z",
     "start_time": "2023-11-07T08:49:09.680991300Z"
    }
   },
   "id": "cb6cf38094256262",
   "outputs": []
  },
  {
   "cell_type": "code",
   "execution_count": 4,
   "source": [
    "import numpy\n",
    "from deap import algorithms\n",
    "\n",
    "# 定义统计指标\n",
    "stats_fit = tools.Statistics(lambda ind: ind.fitness.values)\n",
    "stats_size = tools.Statistics(len)\n",
    "mstats = tools.MultiStatistics(fitness=stats_fit, size=stats_size)\n",
    "mstats.register(\"avg\", numpy.mean)\n",
    "mstats.register(\"std\", numpy.std)\n",
    "mstats.register(\"min\", numpy.min)\n",
    "mstats.register(\"max\", numpy.max)\n",
    "\n",
    "# 使用默认算法\n",
    "start=time.time()\n",
    "population = toolbox.population(n=300)\n",
    "hof = tools.HallOfFame(1)\n",
    "pop, log  = algorithms.eaSimple(population=population,\n",
    "                           toolbox=toolbox, cxpb=0.5, mutpb=0.2, ngen=50, stats=mstats, halloffame=hof, verbose=True)\n",
    "end=time.time()\n",
    "print('time:',end-start)\n",
    "print(str(hof[0]))"
   ],
   "metadata": {
    "collapsed": false,
    "ExecuteTime": {
     "end_time": "2023-11-07T08:49:12.030799500Z",
     "start_time": "2023-11-07T08:49:09.694753600Z"
    }
   },
   "id": "88c62bc071d56191",
   "outputs": []
  }
 ],
 "metadata": {
  "kernelspec": {
   "display_name": "Python 3",
   "language": "python",
   "name": "python3"
  },
  "language_info": {
   "codemirror_mode": {
    "name": "ipython",
    "version": 2
   },
   "file_extension": ".py",
   "mimetype": "text/x-python",
   "name": "python",
   "nbconvert_exporter": "python",
   "pygments_lexer": "ipython2",
   "version": "2.7.6"
  }
 },
 "nbformat": 4,
 "nbformat_minor": 5
}
