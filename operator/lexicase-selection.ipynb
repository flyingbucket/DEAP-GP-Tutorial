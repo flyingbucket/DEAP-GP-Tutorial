{
 "cells": [
  {
   "cell_type": "markdown",
   "source": [
    "## Lexicase Selection注意事项\n",
    "\n",
    "对于Lexicase Selection，适应度评估需要更改为返回多个误差组成的向量，而不是均方误差（MSE）。这样，Lexicase Selection才能独立考虑每个个体在每个测试样本上的表现，从而提高选择的多样性。"
   ],
   "metadata": {
    "collapsed": false
   },
   "id": "ff6050dfa4dc1b6"
  },
  {
   "cell_type": "code",
   "execution_count": 1,
   "outputs": [],
   "source": [
    "import numpy as np\n",
    "import math\n",
    "import operator\n",
    "\n",
    "from deap import base, creator, tools, gp\n",
    "\n",
    "\n",
    "# 符号回归\n",
    "def evalSymbReg(individual, pset):\n",
    "    # 编译GP树为函数\n",
    "    func = gp.compile(expr=individual, pset=pset)\n",
    "    \n",
    "    # 使用numpy创建一个向量\n",
    "    x = np.linspace(-10, 10, 100) \n",
    "    \n",
    "    return tuple((func(x) - x**2)**2)\n",
    "\n",
    "\n",
    "# 创建个体和适应度函数，适应度数组大小与数据量相同\n",
    "creator.create(\"FitnessMin\", base.Fitness, weights=(-1.0,) * 100)  # 假设我们有20个数据点\n",
    "creator.create(\"Individual\", gp.PrimitiveTree, fitness=creator.FitnessMin)"
   ],
   "metadata": {
    "collapsed": false,
    "ExecuteTime": {
     "end_time": "2023-11-07T08:44:38.820116200Z",
     "start_time": "2023-11-07T08:44:38.724501400Z"
    }
   },
   "id": "59cfefc0467c74ad"
  },
  {
   "cell_type": "markdown",
   "source": [
    "### 遗传算子\n",
    "选择算子需要改成Lexicase Selection，其他不需要改变。对于回归问题，需要使用AutomaticEpsilonLexicase。而对于分类问题，则使用Lexicase即可。"
   ],
   "metadata": {
    "collapsed": false
   },
   "id": "956e01e17271daa6"
  },
  {
   "cell_type": "code",
   "execution_count": 2,
   "outputs": [
    {
     "name": "stderr",
     "output_type": "stream",
     "text": [
      "C:\\Users\\zhenl\\anaconda3\\Lib\\site-packages\\deap\\gp.py:254: RuntimeWarning: Ephemeral rand101 function cannot be pickled because its generating function is a lambda function. Use functools.partial instead.\n",
      "  warnings.warn(\"Ephemeral {name} function cannot be \"\n"
     ]
    }
   ],
   "source": [
    "import random\n",
    "\n",
    "# 定义函数集合和终端集合\n",
    "pset = gp.PrimitiveSet(\"MAIN\", arity=1)\n",
    "pset.addPrimitive(operator.add, 2)\n",
    "pset.addPrimitive(operator.sub, 2)\n",
    "pset.addPrimitive(operator.mul, 2)\n",
    "pset.addPrimitive(operator.neg, 1)\n",
    "pset.addEphemeralConstant(\"rand101\", lambda: random.randint(-1, 1))\n",
    "pset.renameArguments(ARG0='x')\n",
    "\n",
    "# 定义遗传编程操作\n",
    "toolbox = base.Toolbox()\n",
    "toolbox.register(\"expr\", gp.genHalfAndHalf, pset=pset, min_=1, max_=2)\n",
    "toolbox.register(\"individual\", tools.initIterate, creator.Individual, toolbox.expr)\n",
    "toolbox.register(\"population\", tools.initRepeat, list, toolbox.individual)\n",
    "toolbox.register(\"compile\", gp.compile, pset=pset)\n",
    "toolbox.register(\"evaluate\", evalSymbReg, pset=pset)\n",
    "toolbox.register(\"select\", tools.selAutomaticEpsilonLexicase)\n",
    "toolbox.register(\"mate\", gp.cxOnePoint)\n",
    "toolbox.register(\"mutate\", gp.mutUniform, expr=toolbox.expr, pset=pset)"
   ],
   "metadata": {
    "collapsed": false,
    "ExecuteTime": {
     "end_time": "2023-11-07T08:44:38.830412100Z",
     "start_time": "2023-11-07T08:44:38.823116800Z"
    }
   },
   "id": "851794d4d36e3681"
  },
  {
   "cell_type": "code",
   "execution_count": null,
   "outputs": [
    {
     "name": "stdout",
     "output_type": "stream",
     "text": [
      "   \t      \t                        fitness                        \t                     size                     \n",
      "   \t      \t-------------------------------------------------------\t----------------------------------------------\n",
      "gen\tnevals\tavg    \tgen\tmax     \tmin\tnevals\tstd    \tavg    \tgen\tmax\tmin\tnevals\tstd   \n",
      "0  \t300   \t3331.11\t0  \t1.44e+06\t0  \t300   \t25891.8\t4.00333\t0  \t7  \t2  \t300   \t1.6763\n",
      "1  \t178   \t8053   \t1  \t4.41e+06\t0  \t178   \t88855.6\t4.3    \t1  \t11 \t2  \t178   \t1.76163\n",
      "2  \t179   \t43482.7\t2  \t1.0201e+08\t0  \t179   \t1.54764e+06\t4.30333\t2  \t13 \t2  \t179   \t1.88979\n",
      "3  \t179   \t1999.24\t3  \t1.21e+06  \t0  \t179   \t24746.1    \t4.1    \t3  \t17 \t2  \t179   \t1.7767 \n",
      "4  \t187   \t1545.33\t4  \t1.21e+06  \t0  \t187   \t18116.9    \t4.09333\t4  \t13 \t2  \t187   \t1.72181\n",
      "5  \t175   \t43358  \t5  \t9.801e+07 \t0  \t175   \t1.48069e+06\t4.13   \t5  \t15 \t2  \t175   \t1.96632\n",
      "6  \t200   \t83445.2\t6  \t1.0201e+08\t0  \t200   \t2.14078e+06\t4.30667\t6  \t13 \t2  \t200   \t2.24038\n",
      "7  \t191   \t2128.79\t7  \t1.21e+06  \t0  \t191   \t30490.1    \t4.39   \t7  \t15 \t2  \t191   \t2.26669\n",
      "8  \t168   \t7820.64\t8  \t4.41e+06  \t0  \t168   \t106088     \t4.45667\t8  \t14 \t2  \t168   \t2.34552\n",
      "9  \t192   \t5883.49\t9  \t5.29e+06  \t0  \t192   \t84329.9    \t4.58667\t9  \t18 \t2  \t192   \t2.68623\n"
     ]
    }
   ],
   "source": [
    "import numpy\n",
    "from deap import algorithms\n",
    "\n",
    "# 定义统计指标\n",
    "stats_fit = tools.Statistics(lambda ind: ind.fitness.values)\n",
    "stats_size = tools.Statistics(len)\n",
    "mstats = tools.MultiStatistics(fitness=stats_fit, size=stats_size)\n",
    "mstats.register(\"avg\", numpy.mean)\n",
    "mstats.register(\"std\", numpy.std)\n",
    "mstats.register(\"min\", numpy.min)\n",
    "mstats.register(\"max\", numpy.max)\n",
    "\n",
    "# 使用默认算法\n",
    "population = toolbox.population(n=300)\n",
    "hof = tools.HallOfFame(1)\n",
    "pop, log  = algorithms.eaSimple(population=population,\n",
    "                           toolbox=toolbox, cxpb=0.5, mutpb=0.2, ngen=50, stats=mstats, halloffame=hof, verbose=True)\n",
    "print(str(hof[0]))\n"
   ],
   "metadata": {
    "collapsed": false,
    "is_executing": true,
    "ExecuteTime": {
     "start_time": "2023-11-07T08:44:38.833414100Z"
    }
   },
   "id": "515b587d4f8876ea"
  }
 ],
 "metadata": {
  "kernelspec": {
   "display_name": "Python 3",
   "language": "python",
   "name": "python3"
  },
  "language_info": {
   "codemirror_mode": {
    "name": "ipython",
    "version": 2
   },
   "file_extension": ".py",
   "mimetype": "text/x-python",
   "name": "python",
   "nbconvert_exporter": "python",
   "pygments_lexer": "ipython2",
   "version": "2.7.6"
  }
 },
 "nbformat": 4,
 "nbformat_minor": 5
}
