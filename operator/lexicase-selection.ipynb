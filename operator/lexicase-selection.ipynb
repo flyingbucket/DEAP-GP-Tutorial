{
 "cells": [
  {
   "cell_type": "markdown",
   "source": [
    "## Lexicase Selection注意事项\n",
    "\n",
    "对于Lexicase Selection，适应度评估需要更改为返回多个误差组成的向量，而不是均方误差（MSE）。这样，Lexicase Selection才能独立考虑每个个体在每个测试样本上的表现，从而提高选择的多样性。"
   ],
   "metadata": {
    "collapsed": false
   },
   "id": "ff6050dfa4dc1b6"
  },
  {
   "cell_type": "code",
   "execution_count": 1,
   "outputs": [],
   "source": [
    "import numpy as np\n",
    "import math\n",
    "import operator\n",
    "\n",
    "from deap import base, creator, tools, gp\n",
    "\n",
    "\n",
    "# 符号回归\n",
    "def evalSymbReg(individual, pset):\n",
    "    # 编译GP树为函数\n",
    "    func = gp.compile(expr=individual, pset=pset)\n",
    "    \n",
    "    # 使用numpy创建一个向量\n",
    "    x = np.linspace(-10, 10, 100) \n",
    "    \n",
    "    return tuple((func(x) - x**2)**2)\n",
    "\n",
    "\n",
    "# 创建个体和适应度函数，适应度数组大小与数据量相同\n",
    "creator.create(\"FitnessMin\", base.Fitness, weights=(-1.0,) * 100)  # 假设我们有20个数据点\n",
    "creator.create(\"Individual\", gp.PrimitiveTree, fitness=creator.FitnessMin)"
   ],
   "metadata": {
    "collapsed": false,
    "ExecuteTime": {
     "end_time": "2023-11-07T08:44:38.820116200Z",
     "start_time": "2023-11-07T08:44:38.724501400Z"
    }
   },
   "id": "59cfefc0467c74ad"
  },
  {
   "cell_type": "markdown",
   "source": [
    "### 遗传算子\n",
    "选择算子需要改成Lexicase Selection，其他不需要改变。对于回归问题，需要使用AutomaticEpsilonLexicase。而对于分类问题，则使用Lexicase即可。"
   ],
   "metadata": {
    "collapsed": false
   },
   "id": "956e01e17271daa6"
  },
  {
   "cell_type": "code",
   "execution_count": 2,
   "outputs": [
    {
     "name": "stderr",
     "output_type": "stream",
     "text": [
      "C:\\Users\\zhenl\\anaconda3\\Lib\\site-packages\\deap\\gp.py:254: RuntimeWarning: Ephemeral rand101 function cannot be pickled because its generating function is a lambda function. Use functools.partial instead.\n",
      "  warnings.warn(\"Ephemeral {name} function cannot be \"\n"
     ]
    }
   ],
   "source": [
    "import random\n",
    "\n",
    "# 定义函数集合和终端集合\n",
    "pset = gp.PrimitiveSet(\"MAIN\", arity=1)\n",
    "pset.addPrimitive(operator.add, 2)\n",
    "pset.addPrimitive(operator.sub, 2)\n",
    "pset.addPrimitive(operator.mul, 2)\n",
    "pset.addPrimitive(operator.neg, 1)\n",
    "pset.addEphemeralConstant(\"rand101\", lambda: random.randint(-1, 1))\n",
    "pset.renameArguments(ARG0='x')\n",
    "\n",
    "# 定义遗传编程操作\n",
    "toolbox = base.Toolbox()\n",
    "toolbox.register(\"expr\", gp.genHalfAndHalf, pset=pset, min_=1, max_=2)\n",
    "toolbox.register(\"individual\", tools.initIterate, creator.Individual, toolbox.expr)\n",
    "toolbox.register(\"population\", tools.initRepeat, list, toolbox.individual)\n",
    "toolbox.register(\"compile\", gp.compile, pset=pset)\n",
    "toolbox.register(\"evaluate\", evalSymbReg, pset=pset)\n",
    "toolbox.register(\"select\", tools.selAutomaticEpsilonLexicase)\n",
    "toolbox.register(\"mate\", gp.cxOnePoint)\n",
    "toolbox.register(\"mutate\", gp.mutUniform, expr=toolbox.expr, pset=pset)"
   ],
   "metadata": {
    "collapsed": false,
    "ExecuteTime": {
     "end_time": "2023-11-07T08:44:38.830412100Z",
     "start_time": "2023-11-07T08:44:38.823116800Z"
    }
   },
   "id": "851794d4d36e3681"
  },
  {
   "cell_type": "code",
   "execution_count": 3,
   "outputs": [
    {
     "name": "stdout",
     "output_type": "stream",
     "text": [
      "   \t      \t                        fitness                        \t                     size                     \n",
      "   \t      \t-------------------------------------------------------\t----------------------------------------------\n",
      "gen\tnevals\tavg    \tgen\tmax     \tmin\tnevals\tstd    \tavg    \tgen\tmax\tmin\tnevals\tstd   \n",
      "0  \t300   \t3331.11\t0  \t1.44e+06\t0  \t300   \t25891.8\t4.00333\t0  \t7  \t2  \t300   \t1.6763\n",
      "1  \t178   \t8053   \t1  \t4.41e+06\t0  \t178   \t88855.6\t4.3    \t1  \t11 \t2  \t178   \t1.76163\n",
      "2  \t179   \t43482.7\t2  \t1.0201e+08\t0  \t179   \t1.54764e+06\t4.30333\t2  \t13 \t2  \t179   \t1.88979\n",
      "3  \t179   \t1999.24\t3  \t1.21e+06  \t0  \t179   \t24746.1    \t4.1    \t3  \t17 \t2  \t179   \t1.7767 \n",
      "4  \t187   \t1545.33\t4  \t1.21e+06  \t0  \t187   \t18116.9    \t4.09333\t4  \t13 \t2  \t187   \t1.72181\n",
      "5  \t175   \t43358  \t5  \t9.801e+07 \t0  \t175   \t1.48069e+06\t4.13   \t5  \t15 \t2  \t175   \t1.96632\n",
      "6  \t200   \t83445.2\t6  \t1.0201e+08\t0  \t200   \t2.14078e+06\t4.30667\t6  \t13 \t2  \t200   \t2.24038\n",
      "7  \t191   \t2128.79\t7  \t1.21e+06  \t0  \t191   \t30490.1    \t4.39   \t7  \t15 \t2  \t191   \t2.26669\n",
      "8  \t168   \t7820.64\t8  \t4.41e+06  \t0  \t168   \t106088     \t4.45667\t8  \t14 \t2  \t168   \t2.34552\n",
      "9  \t192   \t5883.49\t9  \t5.29e+06  \t0  \t192   \t84329.9    \t4.58667\t9  \t18 \t2  \t192   \t2.68623\n",
      "10 \t174   \t8478.34\t10 \t9e+06     \t0  \t174   \t158528     \t4.84   \t10 \t19 \t2  \t174   \t2.93162\n",
      "11 \t194   \t6502.65\t11 \t4.41e+06  \t0  \t194   \t82396.2    \t4.85333\t11 \t19 \t2  \t194   \t2.8128 \n",
      "12 \t169   \t7983.34\t12 \t4.84e+06  \t0  \t169   \t89107.2    \t5.07667\t12 \t17 \t2  \t169   \t2.99735\n",
      "13 \t195   \t253449 \t13 \t4.0401e+08\t0  \t195   \t6.50372e+06\t5      \t13 \t17 \t2  \t195   \t2.9303 \n"
     ]
    },
    {
     "ename": "KeyboardInterrupt",
     "evalue": "",
     "output_type": "error",
     "traceback": [
      "\u001B[1;31m---------------------------------------------------------------------------\u001B[0m",
      "\u001B[1;31mKeyboardInterrupt\u001B[0m                         Traceback (most recent call last)",
      "Cell \u001B[1;32mIn[3], line 16\u001B[0m\n\u001B[0;32m     14\u001B[0m population \u001B[38;5;241m=\u001B[39m toolbox\u001B[38;5;241m.\u001B[39mpopulation(n\u001B[38;5;241m=\u001B[39m\u001B[38;5;241m300\u001B[39m)\n\u001B[0;32m     15\u001B[0m hof \u001B[38;5;241m=\u001B[39m tools\u001B[38;5;241m.\u001B[39mHallOfFame(\u001B[38;5;241m1\u001B[39m)\n\u001B[1;32m---> 16\u001B[0m pop, log  \u001B[38;5;241m=\u001B[39m algorithms\u001B[38;5;241m.\u001B[39meaSimple(population\u001B[38;5;241m=\u001B[39mpopulation,\n\u001B[0;32m     17\u001B[0m                            toolbox\u001B[38;5;241m=\u001B[39mtoolbox, cxpb\u001B[38;5;241m=\u001B[39m\u001B[38;5;241m0.5\u001B[39m, mutpb\u001B[38;5;241m=\u001B[39m\u001B[38;5;241m0.2\u001B[39m, ngen\u001B[38;5;241m=\u001B[39m\u001B[38;5;241m50\u001B[39m, stats\u001B[38;5;241m=\u001B[39mmstats, halloffame\u001B[38;5;241m=\u001B[39mhof, verbose\u001B[38;5;241m=\u001B[39m\u001B[38;5;28;01mTrue\u001B[39;00m)\n\u001B[0;32m     18\u001B[0m \u001B[38;5;28mprint\u001B[39m(\u001B[38;5;28mstr\u001B[39m(hof[\u001B[38;5;241m0\u001B[39m]))\n",
      "File \u001B[1;32m~\\anaconda3\\Lib\\site-packages\\deap\\algorithms.py:165\u001B[0m, in \u001B[0;36meaSimple\u001B[1;34m(population, toolbox, cxpb, mutpb, ngen, stats, halloffame, verbose)\u001B[0m\n\u001B[0;32m    162\u001B[0m \u001B[38;5;66;03m# Begin the generational process\u001B[39;00m\n\u001B[0;32m    163\u001B[0m \u001B[38;5;28;01mfor\u001B[39;00m gen \u001B[38;5;129;01min\u001B[39;00m \u001B[38;5;28mrange\u001B[39m(\u001B[38;5;241m1\u001B[39m, ngen \u001B[38;5;241m+\u001B[39m \u001B[38;5;241m1\u001B[39m):\n\u001B[0;32m    164\u001B[0m     \u001B[38;5;66;03m# Select the next generation individuals\u001B[39;00m\n\u001B[1;32m--> 165\u001B[0m     offspring \u001B[38;5;241m=\u001B[39m toolbox\u001B[38;5;241m.\u001B[39mselect(population, \u001B[38;5;28mlen\u001B[39m(population))\n\u001B[0;32m    167\u001B[0m     \u001B[38;5;66;03m# Vary the pool of individuals\u001B[39;00m\n\u001B[0;32m    168\u001B[0m     offspring \u001B[38;5;241m=\u001B[39m varAnd(offspring, toolbox, cxpb, mutpb)\n",
      "File \u001B[1;32m~\\anaconda3\\Lib\\site-packages\\deap\\tools\\selection.py:306\u001B[0m, in \u001B[0;36mselAutomaticEpsilonLexicase\u001B[1;34m(individuals, k)\u001B[0m\n\u001B[0;32m    304\u001B[0m \u001B[38;5;28;01mwhile\u001B[39;00m \u001B[38;5;28mlen\u001B[39m(cases) \u001B[38;5;241m>\u001B[39m \u001B[38;5;241m0\u001B[39m \u001B[38;5;129;01mand\u001B[39;00m \u001B[38;5;28mlen\u001B[39m(candidates) \u001B[38;5;241m>\u001B[39m \u001B[38;5;241m1\u001B[39m:\n\u001B[0;32m    305\u001B[0m     errors_for_this_case \u001B[38;5;241m=\u001B[39m [x\u001B[38;5;241m.\u001B[39mfitness\u001B[38;5;241m.\u001B[39mvalues[cases[\u001B[38;5;241m0\u001B[39m]] \u001B[38;5;28;01mfor\u001B[39;00m x \u001B[38;5;129;01min\u001B[39;00m candidates]\n\u001B[1;32m--> 306\u001B[0m     median_val \u001B[38;5;241m=\u001B[39m np\u001B[38;5;241m.\u001B[39mmedian(errors_for_this_case)\n\u001B[0;32m    307\u001B[0m     median_absolute_deviation \u001B[38;5;241m=\u001B[39m np\u001B[38;5;241m.\u001B[39mmedian([\u001B[38;5;28mabs\u001B[39m(x \u001B[38;5;241m-\u001B[39m median_val) \u001B[38;5;28;01mfor\u001B[39;00m x \u001B[38;5;129;01min\u001B[39;00m errors_for_this_case])\n\u001B[0;32m    308\u001B[0m     \u001B[38;5;28;01mif\u001B[39;00m fit_weights[cases[\u001B[38;5;241m0\u001B[39m]] \u001B[38;5;241m>\u001B[39m \u001B[38;5;241m0\u001B[39m:\n",
      "File \u001B[1;32m<__array_function__ internals>:200\u001B[0m, in \u001B[0;36mmedian\u001B[1;34m(*args, **kwargs)\u001B[0m\n",
      "File \u001B[1;32m~\\anaconda3\\Lib\\site-packages\\numpy\\lib\\function_base.py:3856\u001B[0m, in \u001B[0;36mmedian\u001B[1;34m(a, axis, out, overwrite_input, keepdims)\u001B[0m\n\u001B[0;32m   3774\u001B[0m \u001B[38;5;129m@array_function_dispatch\u001B[39m(_median_dispatcher)\n\u001B[0;32m   3775\u001B[0m \u001B[38;5;28;01mdef\u001B[39;00m \u001B[38;5;21mmedian\u001B[39m(a, axis\u001B[38;5;241m=\u001B[39m\u001B[38;5;28;01mNone\u001B[39;00m, out\u001B[38;5;241m=\u001B[39m\u001B[38;5;28;01mNone\u001B[39;00m, overwrite_input\u001B[38;5;241m=\u001B[39m\u001B[38;5;28;01mFalse\u001B[39;00m, keepdims\u001B[38;5;241m=\u001B[39m\u001B[38;5;28;01mFalse\u001B[39;00m):\n\u001B[0;32m   3776\u001B[0m \u001B[38;5;250m    \u001B[39m\u001B[38;5;124;03m\"\"\"\u001B[39;00m\n\u001B[0;32m   3777\u001B[0m \u001B[38;5;124;03m    Compute the median along the specified axis.\u001B[39;00m\n\u001B[0;32m   3778\u001B[0m \n\u001B[1;32m   (...)\u001B[0m\n\u001B[0;32m   3854\u001B[0m \n\u001B[0;32m   3855\u001B[0m \u001B[38;5;124;03m    \"\"\"\u001B[39;00m\n\u001B[1;32m-> 3856\u001B[0m     \u001B[38;5;28;01mreturn\u001B[39;00m _ureduce(a, func\u001B[38;5;241m=\u001B[39m_median, keepdims\u001B[38;5;241m=\u001B[39mkeepdims, axis\u001B[38;5;241m=\u001B[39maxis, out\u001B[38;5;241m=\u001B[39mout,\n\u001B[0;32m   3857\u001B[0m                     overwrite_input\u001B[38;5;241m=\u001B[39moverwrite_input)\n",
      "File \u001B[1;32m~\\anaconda3\\Lib\\site-packages\\numpy\\lib\\function_base.py:3752\u001B[0m, in \u001B[0;36m_ureduce\u001B[1;34m(a, func, keepdims, **kwargs)\u001B[0m\n\u001B[0;32m   3749\u001B[0m             index_out \u001B[38;5;241m=\u001B[39m (\u001B[38;5;241m0\u001B[39m, ) \u001B[38;5;241m*\u001B[39m nd\n\u001B[0;32m   3750\u001B[0m             kwargs[\u001B[38;5;124m'\u001B[39m\u001B[38;5;124mout\u001B[39m\u001B[38;5;124m'\u001B[39m] \u001B[38;5;241m=\u001B[39m out[(\u001B[38;5;28mEllipsis\u001B[39m, ) \u001B[38;5;241m+\u001B[39m index_out]\n\u001B[1;32m-> 3752\u001B[0m r \u001B[38;5;241m=\u001B[39m func(a, \u001B[38;5;241m*\u001B[39m\u001B[38;5;241m*\u001B[39mkwargs)\n\u001B[0;32m   3754\u001B[0m \u001B[38;5;28;01mif\u001B[39;00m out \u001B[38;5;129;01mis\u001B[39;00m \u001B[38;5;129;01mnot\u001B[39;00m \u001B[38;5;28;01mNone\u001B[39;00m:\n\u001B[0;32m   3755\u001B[0m     \u001B[38;5;28;01mreturn\u001B[39;00m out\n",
      "File \u001B[1;32m~\\anaconda3\\Lib\\site-packages\\numpy\\lib\\function_base.py:3887\u001B[0m, in \u001B[0;36m_median\u001B[1;34m(a, axis, out, overwrite_input)\u001B[0m\n\u001B[0;32m   3885\u001B[0m         part \u001B[38;5;241m=\u001B[39m a\n\u001B[0;32m   3886\u001B[0m \u001B[38;5;28;01melse\u001B[39;00m:\n\u001B[1;32m-> 3887\u001B[0m     part \u001B[38;5;241m=\u001B[39m partition(a, kth, axis\u001B[38;5;241m=\u001B[39maxis)\n\u001B[0;32m   3889\u001B[0m \u001B[38;5;28;01mif\u001B[39;00m part\u001B[38;5;241m.\u001B[39mshape \u001B[38;5;241m==\u001B[39m ():\n\u001B[0;32m   3890\u001B[0m     \u001B[38;5;66;03m# make 0-D arrays work\u001B[39;00m\n\u001B[0;32m   3891\u001B[0m     \u001B[38;5;28;01mreturn\u001B[39;00m part\u001B[38;5;241m.\u001B[39mitem()\n",
      "File \u001B[1;32m<__array_function__ internals>:200\u001B[0m, in \u001B[0;36mpartition\u001B[1;34m(*args, **kwargs)\u001B[0m\n",
      "File \u001B[1;32m~\\anaconda3\\Lib\\site-packages\\numpy\\core\\fromnumeric.py:784\u001B[0m, in \u001B[0;36mpartition\u001B[1;34m(a, kth, axis, kind, order)\u001B[0m\n\u001B[0;32m    782\u001B[0m \u001B[38;5;28;01melse\u001B[39;00m:\n\u001B[0;32m    783\u001B[0m     a \u001B[38;5;241m=\u001B[39m asanyarray(a)\u001B[38;5;241m.\u001B[39mcopy(order\u001B[38;5;241m=\u001B[39m\u001B[38;5;124m\"\u001B[39m\u001B[38;5;124mK\u001B[39m\u001B[38;5;124m\"\u001B[39m)\n\u001B[1;32m--> 784\u001B[0m a\u001B[38;5;241m.\u001B[39mpartition(kth, axis\u001B[38;5;241m=\u001B[39maxis, kind\u001B[38;5;241m=\u001B[39mkind, order\u001B[38;5;241m=\u001B[39morder)\n\u001B[0;32m    785\u001B[0m \u001B[38;5;28;01mreturn\u001B[39;00m a\n",
      "\u001B[1;31mKeyboardInterrupt\u001B[0m: "
     ]
    }
   ],
   "source": [
    "import numpy\n",
    "from deap import algorithms\n",
    "\n",
    "# 定义统计指标\n",
    "stats_fit = tools.Statistics(lambda ind: ind.fitness.values)\n",
    "stats_size = tools.Statistics(len)\n",
    "mstats = tools.MultiStatistics(fitness=stats_fit, size=stats_size)\n",
    "mstats.register(\"avg\", numpy.mean)\n",
    "mstats.register(\"std\", numpy.std)\n",
    "mstats.register(\"min\", numpy.min)\n",
    "mstats.register(\"max\", numpy.max)\n",
    "\n",
    "# 使用默认算法\n",
    "population = toolbox.population(n=300)\n",
    "hof = tools.HallOfFame(1)\n",
    "pop, log  = algorithms.eaSimple(population=population,\n",
    "                           toolbox=toolbox, cxpb=0.5, mutpb=0.2, ngen=50, stats=mstats, halloffame=hof, verbose=True)\n",
    "print(str(hof[0]))\n"
   ],
   "metadata": {
    "collapsed": false,
    "ExecuteTime": {
     "start_time": "2023-11-07T08:44:38.833414100Z"
    }
   },
   "id": "515b587d4f8876ea"
  }
 ],
 "metadata": {
  "kernelspec": {
   "display_name": "Python 3",
   "language": "python",
   "name": "python3"
  },
  "language_info": {
   "codemirror_mode": {
    "name": "ipython",
    "version": 2
   },
   "file_extension": ".py",
   "mimetype": "text/x-python",
   "name": "python",
   "nbconvert_exporter": "python",
   "pygments_lexer": "ipython2",
   "version": "2.7.6"
  }
 },
 "nbformat": 4,
 "nbformat_minor": 5
}
