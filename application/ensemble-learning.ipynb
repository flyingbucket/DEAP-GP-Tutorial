{
 "cells": [
  {
   "cell_type": "markdown",
   "source": [
    "## 基于GP的集成学习\n",
    "\n",
    "GP（遗传编程）是一种基于种群的优化算法，非常适合用于集成学习。\n",
    "\n",
    "\n",
    "### 评估函数\n",
    "对于集成学习，多样性非常重要。因此，在评估个体时，建议使用随机决策树或其他随机性较高的算法。这样可以产生多样性的GP个体。"
   ],
   "metadata": {
    "collapsed": false
   },
   "id": "98b0a7c0ea82cde3"
  },
  {
   "cell_type": "code",
   "execution_count": 6,
   "outputs": [],
   "source": [
    "from sklearn.datasets import load_iris\n",
    "\n",
    "# 假设我们有一个分类问题，输入为X，输出为y\n",
    "X,y=load_iris(return_X_y=True)\n",
    "\n",
    "# 求解问题的目标是最大化分类精度\n",
    "def evalFeatureEngineering(trees):\n",
    "    # 创建新特征\n",
    "    new_features = []\n",
    "    for tree_id, tree in enumerate(trees):\n",
    "        func = gp.compile(expr=tree, pset=pset)\n",
    "        new_features.append([func(*record) for record in X])\n",
    "    \n",
    "    # 转置新特征数组\n",
    "    new_features = np.transpose(np.array(new_features))\n",
    "    \n",
    "    # 使用决策树分类器\n",
    "    clf = DecisionTreeClassifier(splitter=\"random\")\n",
    "    clf.fit(new_features, y)\n",
    "    \n",
    "    # 使用交叉验证计算误差\n",
    "    scores = cross_val_score(clf, new_features, y, cv=5)\n",
    "    \n",
    "    # 返回平均分类精度\n",
    "    return scores.mean(),"
   ],
   "metadata": {
    "collapsed": false,
    "ExecuteTime": {
     "end_time": "2023-11-07T07:57:14.483340800Z",
     "start_time": "2023-11-07T07:57:14.475187500Z"
    }
   },
   "id": "fc1a30604c8470c4"
  },
  {
   "cell_type": "markdown",
   "source": [
    "### 多树GP\n",
    "集成学习中可以选择使用单树GP或多树GP，两者都是可行的。在本教程中，我们使用多树GP来表示个体。"
   ],
   "metadata": {
    "collapsed": false
   },
   "id": "1a80f5c352efe1e1"
  },
  {
   "cell_type": "code",
   "execution_count": 7,
   "outputs": [
    {
     "name": "stderr",
     "output_type": "stream",
     "text": [
      "C:\\Users\\zhenl\\anaconda3\\Lib\\site-packages\\deap\\gp.py:254: RuntimeWarning: Ephemeral rand101 function cannot be pickled because its generating function is a lambda function. Use functools.partial instead.\n",
      "  warnings.warn(\"Ephemeral {name} function cannot be \"\n",
      "C:\\Users\\zhenl\\anaconda3\\Lib\\site-packages\\deap\\creator.py:185: RuntimeWarning: A class named 'FitnessMax' has already been created and it will be overwritten. Consider deleting previous creation of that class or rename it.\n",
      "  warnings.warn(\"A class named '{0}' has already been created and it \"\n",
      "C:\\Users\\zhenl\\anaconda3\\Lib\\site-packages\\deap\\creator.py:185: RuntimeWarning: A class named 'Individual' has already been created and it will be overwritten. Consider deleting previous creation of that class or rename it.\n",
      "  warnings.warn(\"A class named '{0}' has already been created and it \"\n"
     ]
    }
   ],
   "source": [
    "import operator\n",
    "import random\n",
    "import numpy as np\n",
    "from deap import base, creator, tools, gp, algorithms\n",
    "from sklearn.model_selection import cross_val_score\n",
    "from sklearn.tree import DecisionTreeClassifier\n",
    "\n",
    "# 创建GP框架的基本组件\n",
    "pset = gp.PrimitiveSet(\"MAIN\", X.shape[1])\n",
    "pset.addPrimitive(operator.add, 2)\n",
    "pset.addPrimitive(operator.sub, 2)\n",
    "pset.addPrimitive(operator.mul, 2)\n",
    "pset.addPrimitive(operator.neg, 1)\n",
    "pset.addEphemeralConstant(\"rand101\", lambda: random.random() * 2 - 1)\n",
    "\n",
    "# 创建一个适应度类和个体类，个体由多棵树组成\n",
    "creator.create(\"FitnessMax\", base.Fitness, weights=(1.0,))\n",
    "creator.create(\"Individual\", list, fitness=creator.FitnessMax)"
   ],
   "metadata": {
    "collapsed": false,
    "ExecuteTime": {
     "end_time": "2023-11-07T07:57:14.490487200Z",
     "start_time": "2023-11-07T07:57:14.482340700Z"
    }
   },
   "id": "initial_id"
  },
  {
   "cell_type": "markdown",
   "source": [
    "### 交叉/变异算子\n",
    "交叉和变异算子无需额外修改。"
   ],
   "metadata": {
    "collapsed": false
   },
   "id": "dd8becab808db0eb"
  },
  {
   "cell_type": "code",
   "execution_count": 8,
   "outputs": [],
   "source": [
    "toolbox = base.Toolbox()\n",
    "toolbox.register(\"expr\", gp.genHalfAndHalf, pset=pset, min_=1, max_=2)\n",
    "\n",
    "# 初始化每个个体为一个包含多棵树的列表\n",
    "def initIndividual(container, func, size):\n",
    "    return container(gp.PrimitiveTree(func()) for _ in range(size))\n",
    "\n",
    "# 交叉和变异算子需要能够处理个体的列表结构\n",
    "def cxOnePointListOfTrees(ind1, ind2):\n",
    "    for tree1, tree2 in zip(ind1, ind2):\n",
    "        gp.cxOnePoint(tree1, tree2)\n",
    "    return ind1, ind2\n",
    "\n",
    "def mutUniformListOfTrees(individual, expr, pset):\n",
    "    for tree in individual:\n",
    "        gp.mutUniform(tree, expr=expr, pset=pset)\n",
    "    return individual,\n",
    "\n",
    "toolbox.register(\"individual\", initIndividual, creator.Individual, toolbox.expr, size=3)  # 假设我们创建3个特征\n",
    "toolbox.register(\"population\", tools.initRepeat, list, toolbox.individual)\n",
    "\n",
    "toolbox.register(\"evaluate\", evalFeatureEngineering)  # 假定这个函数已经定义\n",
    "toolbox.register(\"select\", tools.selTournament, tournsize=3)\n",
    "toolbox.register(\"mate\", cxOnePointListOfTrees)\n",
    "toolbox.register(\"mutate\", mutUniformListOfTrees, expr=toolbox.expr, pset=pset)\n",
    "toolbox.register(\"compile\", gp.compile, pset=pset)"
   ],
   "metadata": {
    "collapsed": false,
    "ExecuteTime": {
     "end_time": "2023-11-07T07:57:14.497848300Z",
     "start_time": "2023-11-07T07:57:14.491461700Z"
    }
   },
   "id": "d8cb2ce19a609f6b"
  },
  {
   "cell_type": "markdown",
   "source": [
    "### 存档机制\n",
    "对于集成学习，我们需要保存最佳的个体集合，而不仅仅是最佳个体。因此，我们需要将HallOfFame的存档数量从1提高到20。"
   ],
   "metadata": {
    "collapsed": false
   },
   "id": "ed604d829d2b72e3"
  },
  {
   "cell_type": "code",
   "execution_count": 9,
   "outputs": [
    {
     "name": "stdout",
     "output_type": "stream",
     "text": [
      "gen\tnevals\tavg     \tstd      \tmin\tmax     \n",
      "0  \t50    \t0.905333\t0.0798777\t0.5\t0.966667\n",
      "1  \t27    \t0.933733\t0.0426544\t0.693333\t0.98    \n",
      "2  \t31    \t0.9304  \t0.0702903\t0.506667\t0.966667\n",
      "3  \t32    \t0.941467\t0.0205822\t0.886667\t0.966667\n",
      "4  \t32    \t0.941333\t0.0468757\t0.653333\t0.973333\n",
      "5  \t33    \t0.945733\t0.0244044\t0.84    \t0.98    \n",
      "6  \t27    \t0.9488  \t0.0263461\t0.82    \t0.98    \n",
      "7  \t28    \t0.946667\t0.0338887\t0.82    \t0.98    \n",
      "8  \t33    \t0.9528  \t0.0221446\t0.86    \t0.973333\n",
      "9  \t23    \t0.954667\t0.0305214\t0.773333\t0.973333\n",
      "10 \t33    \t0.9236  \t0.10487  \t0.34    \t0.98    \n",
      "11 \t26    \t0.954267\t0.0275845\t0.873333\t0.98    \n",
      "12 \t32    \t0.9364  \t0.0873024\t0.426667\t0.98    \n",
      "13 \t30    \t0.952   \t0.0357274\t0.766667\t0.986667\n",
      "14 \t35    \t0.947733\t0.0453992\t0.693333\t0.986667\n",
      "15 \t27    \t0.956533\t0.0428172\t0.686667\t0.986667\n",
      "16 \t30    \t0.9524  \t0.0371665\t0.773333\t0.986667\n",
      "17 \t24    \t0.956667\t0.0246667\t0.893333\t0.986667\n",
      "18 \t31    \t0.9548  \t0.0254485\t0.853333\t0.98    \n",
      "19 \t33    \t0.954667\t0.0331729\t0.76    \t0.98    \n",
      "20 \t22    \t0.9588  \t0.0281169\t0.82    \t0.98    \n",
      "21 \t25    \t0.9548  \t0.0467483\t0.68    \t0.98    \n",
      "22 \t29    \t0.954133\t0.0291094\t0.846667\t0.98    \n",
      "23 \t34    \t0.949333\t0.0357522\t0.753333\t0.98    \n",
      "24 \t31    \t0.954667\t0.0250865\t0.86    \t0.98    \n",
      "25 \t26    \t0.949067\t0.0473617\t0.66    \t0.986667\n",
      "26 \t26    \t0.947867\t0.0546454\t0.693333\t0.986667\n",
      "27 \t29    \t0.9484  \t0.0424538\t0.72    \t0.986667\n",
      "28 \t24    \t0.962667\t0.0184752\t0.92    \t0.986667\n",
      "29 \t21    \t0.962667\t0.0548776\t0.593333\t0.986667\n",
      "30 \t33    \t0.946133\t0.074474 \t0.526667\t0.993333\n",
      "31 \t28    \t0.961867\t0.0205281\t0.913333\t0.993333\n",
      "32 \t32    \t0.950533\t0.0459002\t0.706667\t0.986667\n",
      "33 \t26    \t0.949867\t0.0854919\t0.513333\t0.986667\n",
      "34 \t25    \t0.958533\t0.026341 \t0.873333\t0.986667\n",
      "35 \t32    \t0.950933\t0.0676693\t0.586667\t0.986667\n",
      "36 \t27    \t0.942933\t0.070505 \t0.6     \t0.986667\n",
      "37 \t20    \t0.969467\t0.0206598\t0.873333\t0.986667\n",
      "38 \t29    \t0.9496  \t0.0641825\t0.606667\t0.986667\n",
      "39 \t32    \t0.938133\t0.0633023\t0.693333\t0.986667\n",
      "40 \t30    \t0.9532  \t0.0299181\t0.826667\t0.986667\n"
     ]
    }
   ],
   "source": [
    "# 运行遗传编程算法\n",
    "population = toolbox.population(n=50)\n",
    "hof = tools.HallOfFame(20)\n",
    "\n",
    "# 统计和日志\n",
    "stats = tools.Statistics(lambda ind: ind.fitness.values)\n",
    "stats.register(\"avg\", np.mean)\n",
    "stats.register(\"std\", np.std)\n",
    "stats.register(\"min\", np.min)\n",
    "stats.register(\"max\", np.max)\n",
    "\n",
    "pop, log = algorithms.eaSimple(population, toolbox, 0.5, 0.2, 40, stats=stats, halloffame=hof, verbose=True)"
   ],
   "metadata": {
    "collapsed": false,
    "ExecuteTime": {
     "end_time": "2023-11-07T07:57:22.377371600Z",
     "start_time": "2023-11-07T07:57:14.497342100Z"
    }
   },
   "id": "2e84206ae4aefe45"
  },
  {
   "cell_type": "markdown",
   "source": [
    "### 集成预测\n",
    "最后，根据最佳个体集合，可以使用投票法进行集成预测。"
   ],
   "metadata": {
    "collapsed": false
   },
   "id": "13d7d3905db296fc"
  },
  {
   "cell_type": "code",
   "execution_count": 10,
   "outputs": [
    {
     "name": "stdout",
     "output_type": "stream",
     "text": [
      "Individual: ['add(sub(mul(ARG3, ARG2), ARG0), mul(ARG3, ARG2))', 'sub(ARG0, add(ARG2, ARG0))', 'neg(-0.9478611294126922)']\n",
      "Individual: ['add(sub(mul(ARG3, ARG2), ARG0), ARG2)', 'sub(ARG0, ARG0)', 'neg(-0.9478611294126922)']\n",
      "Individual: ['add(sub(ARG2, ARG0), mul(mul(ARG3, ARG2), ARG2))', 'sub(ARG0, ARG0)', 'neg(-0.9478611294126922)']\n",
      "Individual: ['add(sub(mul(ARG3, ARG2), ARG0), mul(ARG3, ARG2))', 'sub(add(ARG0, 0.6621306191031775), ARG0)', 'neg(-0.9478611294126922)']\n",
      "Individual: ['add(sub(mul(ARG3, ARG2), ARG0), mul(ARG3, ARG2))', 'sub(ARG0, add(ARG2, 0.6621306191031775))', 'neg(ARG0)']\n",
      "Individual: ['add(sub(mul(ARG3, ARG2), ARG0), mul(ARG3, ARG2))', 'sub(ARG0, ARG0)', 'mul(-0.9478611294126922, neg(ARG2))']\n",
      "Individual: ['add(sub(mul(ARG3, neg(sub(-0.13698934661694762, 0.5264481929444698))), ARG3), mul(ARG3, ARG2))', 'sub(mul(ARG2, ARG2), add(ARG1, ARG1))', 'sub(ARG1, ARG1)']\n",
      "Individual: ['add(sub(sub(mul(ARG3, ARG2), ARG0), ARG3), ARG2)', 'sub(ARG0, ARG0)', 'neg(ARG0)']\n",
      "Individual: ['add(sub(mul(ARG3, ARG2), ARG0), mul(ARG3, ARG2))', 'sub(ARG0, 0.6621306191031775)', 'neg(ARG0)']\n",
      "Individual: ['add(sub(mul(ARG3, ARG2), ARG0), mul(ARG3, ARG2))', 'sub(ARG0, ARG0)', 'neg(ARG0)']\n",
      "Individual: ['add(sub(mul(ARG3, ARG2), ARG0), mul(ARG3, ARG3))', 'sub(ARG0, ARG0)', 'neg(-0.9478611294126922)']\n",
      "Individual: ['add(sub(ARG2, ARG0), mul(ARG3, ARG2))', 'sub(ARG0, ARG0)', 'neg(-0.9478611294126922)']\n",
      "Individual: ['add(ARG2, mul(ARG3, ARG2))', 'sub(ARG0, add(ARG2, 0.6621306191031775))', 'neg(ARG0)']\n",
      "Individual: ['add(sub(mul(ARG3, ARG2), ARG0), mul(ARG3, ARG2))', 'sub(ARG0, ARG0)', 'neg(-0.9478611294126922)']\n",
      "Individual: ['add(ARG3, ARG3)', 'neg(ARG2)', 'add(add(ARG3, 0.08688804782396597), ARG2)']\n",
      "Individual: ['add(neg(ARG2), neg(ARG3))', 'sub(ARG1, ARG2)', 'add(add(neg(ARG0), mul(ARG2, ARG3)), ARG3)']\n",
      "Individual: ['add(sub(mul(ARG3, mul(ARG0, 0.4579116113828512)), ARG0), mul(ARG3, ARG2))', 'sub(add(ARG1, ARG0), ARG0)', 'mul(sub(0.9428452037719242, ARG2), neg(ARG2))']\n",
      "Individual: ['neg(ARG3)', 'add(mul(ARG2, ARG2), neg(ARG0))', 'mul(sub(ARG3, ARG1), ARG0)']\n",
      "Individual: ['add(sub(mul(ARG3, ARG2), ARG0), mul(ARG3, mul(ARG3, ARG3)))', 'neg(0.8632133259340802)', 'neg(add(neg(ARG2), neg(ARG2)))']\n",
      "Individual: ['add(ARG2, mul(ARG3, ARG2))', 'sub(ARG0, ARG0)', 'neg(ARG0)']\n",
      "Ensemble prediction: [0 0 0 0 0]\n"
     ]
    }
   ],
   "source": [
    "# 使用保存的最佳个体集合进行集成预测\n",
    "def ensemblePredict(hof, X):\n",
    "    # 对每个个体，使用它创建的特征进行预测\n",
    "    predictions = []\n",
    "    for ind in hof:\n",
    "        print('Individual:', [str(tree) for tree in ind])\n",
    "        # 创建新特征\n",
    "        new_features = []\n",
    "        for tree_id, tree in enumerate(ind):\n",
    "            func = gp.compile(expr=tree, pset=pset)\n",
    "            new_features.append([func(*record) for record in X])\n",
    "        \n",
    "        # 转置新特征数组\n",
    "        new_features = np.transpose(np.array(new_features))\n",
    "        \n",
    "        # 在这里我们只是简单的使用了新特征，并没有使用原始特征\n",
    "        # 在实际应用中可能需要结合新老特征\n",
    "        clf = DecisionTreeClassifier(splitter='random')\n",
    "        clf.fit(new_features, y)\n",
    "        predictions.append(clf.predict(new_features))\n",
    "\n",
    "    # 对预测结果进行集成\n",
    "    # 这里我们使用简单多数投票，也可以根据需要使用其他集成方法\n",
    "    ensemble_pred = np.apply_along_axis(lambda x: np.bincount(x, minlength=3).argmax(), axis=0, arr=np.array(predictions))\n",
    "    return ensemble_pred\n",
    "\n",
    "# 对集成预测函数的测试\n",
    "ensemble_pred = ensemblePredict(hof, X)\n",
    "print('Ensemble prediction:', ensemble_pred[:5])"
   ],
   "metadata": {
    "collapsed": false,
    "ExecuteTime": {
     "end_time": "2023-11-07T07:57:22.406464200Z",
     "start_time": "2023-11-07T07:57:22.377371600Z"
    }
   },
   "id": "27246312e54be3d9"
  },
  {
   "cell_type": "markdown",
   "source": [],
   "metadata": {
    "collapsed": false
   },
   "id": "4b39a6243da71a6f"
  }
 ],
 "metadata": {
  "kernelspec": {
   "display_name": "Python 3",
   "language": "python",
   "name": "python3"
  },
  "language_info": {
   "codemirror_mode": {
    "name": "ipython",
    "version": 2
   },
   "file_extension": ".py",
   "mimetype": "text/x-python",
   "name": "python",
   "nbconvert_exporter": "python",
   "pygments_lexer": "ipython2",
   "version": "2.7.6"
  }
 },
 "nbformat": 4,
 "nbformat_minor": 5
}
