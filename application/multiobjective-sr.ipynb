{
 "cells": [
  {
   "cell_type": "markdown",
   "id": "ff6050dfa4dc1b6",
   "metadata": {},
   "source": [
    "## 基于多目标GP的符号回归\n",
    "\n",
    "多目标GP是指使用多个目标函数来评估GP树的适应度。在符号回归问题中，通常使用均方误差（MSE）作为目标函数。然而，MSE并不能很好地反映模型的复杂度，因此，我们还可以使用树的大小作为目标函数。这样，就可以得到更为精简的模型。"
   ]
  },
  {
   "cell_type": "code",
   "execution_count": 5,
   "id": "59cfefc0467c74ad",
   "metadata": {
    "ExecuteTime": {
     "end_time": "2023-11-10T08:50:31.317854700Z",
     "start_time": "2023-11-10T08:50:31.272249300Z"
    }
   },
   "source": [
    "import math\n",
    "import operator\n",
    "import random\n",
    "from deap import base, creator, tools, gp, algorithms\n",
    "\n",
    "# 定义评估函数，包含两个目标：均方误差和树的大小\n",
    "def evalSymbReg(individual,pset):\n",
    "    # 编译GP树为函数\n",
    "    func = gp.compile(expr=individual, pset=pset)\n",
    "    # 计算均方误差（Mean Square Error，MSE）\n",
    "    mse = ((func(x) - x**2)**2 for x in range(-10, 10))\n",
    "    # 计算GP树的大小\n",
    "    size = len(individual)\n",
    "    return math.fsum(mse), size\n",
    "\n",
    "# 修改适应度函数，包含两个权重：MSE和树的大小。MSE是最小化，树的大小也是最小化\n",
    "creator.create(\"FitnessMulti\", base.Fitness, weights=(-1.0, -1.0))\n",
    "creator.create(\"Individual\", gp.PrimitiveTree, fitness=creator.FitnessMulti)"
   ],
   "outputs": []
  },
  {
   "cell_type": "markdown",
   "id": "956e01e17271daa6",
   "metadata": {},
   "source": [
    "### 遗传算子\n",
    "遗传算子基本不需要修改。由于是多目标优化问题，所以选择算子需要使用NSGA2（Non-dominated Sorting Genetic Algorithm II）。\n",
    "NSGA2算法的基本思想是，首先对种群中的个体进行非支配排序，然后根据非支配排序的结果计算拥挤度距离，最后根据非支配排序和拥挤度距离两个指标对个体进行排序。"
   ]
  },
  {
   "cell_type": "code",
   "execution_count": 6,
   "id": "851794d4d36e3681",
   "metadata": {
    "ExecuteTime": {
     "end_time": "2023-11-10T08:50:31.317854700Z",
     "start_time": "2023-11-10T08:50:31.278882Z"
    }
   },
   "source": [
    "import random\n",
    "\n",
    "# 定义函数集合和终端集合\n",
    "pset = gp.PrimitiveSet(\"MAIN\", arity=1)\n",
    "pset.addPrimitive(operator.add, 2)\n",
    "pset.addPrimitive(operator.sub, 2)\n",
    "pset.addPrimitive(operator.mul, 2)\n",
    "pset.addPrimitive(operator.neg, 1)\n",
    "pset.addEphemeralConstant(\"rand101\", lambda: random.randint(-1, 1))\n",
    "pset.renameArguments(ARG0='x')\n",
    "\n",
    "# 定义遗传编程操作\n",
    "toolbox = base.Toolbox()\n",
    "toolbox.register(\"expr\", gp.genHalfAndHalf, pset=pset, min_=1, max_=2)\n",
    "toolbox.register(\"individual\", tools.initIterate, creator.Individual, toolbox.expr)\n",
    "toolbox.register(\"population\", tools.initRepeat, list, toolbox.individual)\n",
    "toolbox.register(\"compile\", gp.compile, pset=pset)\n",
    "toolbox.register(\"evaluate\", evalSymbReg, pset=pset)\n",
    "toolbox.register(\"select\", tools.selNSGA2)\n",
    "toolbox.register(\"mate\", gp.cxOnePoint)\n",
    "toolbox.register(\"mutate\", gp.mutUniform, expr=toolbox.expr, pset=pset)"
   ],
   "outputs": []
  },
  {
   "cell_type": "markdown",
   "id": "62f30d17704db709",
   "metadata": {},
   "source": [
    "### 算法模块\n",
    "DEAP算法包提供了eaMuPlusLambda函数，可以比较方便地使用NSGA2的环境选择算子。  \n",
    "理想情况下，最好还是自行实现演化函数，这样才能完整地使用NSGA-II算法中的锦标赛选择算子。  \n",
    "NSGA-II算法中的锦标赛选择算子是指，首先从种群中随机选择两个个体，然后根据非支配排序和拥挤度距离两个指标对两个个体进行排序，最后选择排名较高的个体作为父代。简单起见，我们忽略了锦标赛选择算子。"
   ]
  },
  {
   "cell_type": "code",
   "execution_count": 7,
   "id": "515b587d4f8876ea",
   "metadata": {
    "ExecuteTime": {
     "end_time": "2023-11-10T08:50:31.364942900Z",
     "start_time": "2023-11-10T08:50:31.284352200Z"
    }
   },
   "source": [
    "import numpy\n",
    "from deap import algorithms\n",
    "\n",
    "# 统计指标\n",
    "stats_fit = tools.Statistics(lambda ind: ind.fitness.values[0])\n",
    "stats_size = tools.Statistics(lambda ind: ind.fitness.values[1])\n",
    "mstats = tools.MultiStatistics(fitness=stats_fit, size=stats_size)\n",
    "mstats.register(\"avg\", numpy.mean)\n",
    "mstats.register(\"std\", numpy.std)\n",
    "mstats.register(\"min\", numpy.min)\n",
    "mstats.register(\"max\", numpy.max)\n",
    "\n",
    "population = toolbox.population(n=50)\n",
    "pop, log  = algorithms.eaMuPlusLambda(population=population,\n",
    "                           toolbox=toolbox, mu=len(population),lambda_=len(population),\n",
    "                                      cxpb=0.9, mutpb=0.1, ngen=10, stats=mstats, halloffame=None, verbose=True)\n",
    "\n",
    "# 最佳个体\n",
    "best_ind = tools.selBest(pop, 1)[0]\n",
    "print('Best individual is:\\n', best_ind)\n",
    "print('\\nWith fitness:', best_ind.fitness.values)\n"
   ],
   "outputs": []
  },
  {
   "cell_type": "markdown",
   "id": "7aa57e0f8b6151ad",
   "metadata": {},
   "source": [
    "基于优化结果，我们还可以绘制Pareto前沿，以便于选择最终的模型。"
   ]
  },
  {
   "cell_type": "code",
   "execution_count": 8,
   "id": "28284e0a0047fcfc",
   "metadata": {
    "ExecuteTime": {
     "end_time": "2023-11-10T08:50:31.483100600Z",
     "start_time": "2023-11-10T08:50:31.314335800Z"
    }
   },
   "source": [
    "from matplotlib import pyplot as plt\n",
    "import seaborn as sns\n",
    "\n",
    "# 非支配排序\n",
    "fronts = tools.sortNondominated(pop, len(pop), first_front_only=True)\n",
    "\n",
    "# Pareto前沿\n",
    "pareto_front = fronts[0]\n",
    "fitnesses = [ind.fitness.values for ind in pareto_front]\n",
    "\n",
    "# 分离均方误差和树的大小\n",
    "mse = [fit[0] for fit in fitnesses]\n",
    "sizes = [fit[1] for fit in fitnesses]\n",
    "\n",
    "# 使用seaborn绘制散点图\n",
    "sns.set(style=\"whitegrid\")\n",
    "plt.figure(figsize=(10, 6))\n",
    "sns.scatterplot(x=mse, y=sizes, palette=\"viridis\", s=60, edgecolor=\"w\", alpha=0.7)\n",
    "plt.xlabel('Mean Square Error')\n",
    "plt.ylabel('Size of the GP Tree')\n",
    "plt.title('Pareto Front')\n",
    "plt.show()"
   ],
   "outputs": []
  }
 ],
 "metadata": {
  "kernelspec": {
   "display_name": "Python 3 (ipykernel)",
   "language": "python",
   "name": "python3"
  },
  "language_info": {
   "codemirror_mode": {
    "name": "ipython",
    "version": 3
   },
   "file_extension": ".py",
   "mimetype": "text/x-python",
   "name": "python",
   "nbconvert_exporter": "python",
   "pygments_lexer": "ipython3",
   "version": "3.11.4"
  }
 },
 "nbformat": 4,
 "nbformat_minor": 5
}
