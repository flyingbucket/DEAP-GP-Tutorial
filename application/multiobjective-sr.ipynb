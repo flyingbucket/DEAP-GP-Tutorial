{
 "cells": [
  {
   "cell_type": "markdown",
   "source": [
    "## 基于多目标GP的符号回归\n",
    "\n",
    "多目标GP是指使用均方误差（MSE）和树的大小作为目标来进行遗传编程。这样，可以得到更为精简的模型。"
   ],
   "metadata": {
    "collapsed": false
   },
   "id": "ff6050dfa4dc1b6"
  },
  {
   "cell_type": "code",
   "execution_count": 1,
   "outputs": [],
   "source": [
    "import math\n",
    "import operator\n",
    "import random\n",
    "from deap import base, creator, tools, gp, algorithms\n",
    "\n",
    "# 定义评估函数，包含两个目标：均方误差和树的大小\n",
    "def evalSymbReg(individual,pset):\n",
    "    # 编译GP树为函数\n",
    "    func = gp.compile(expr=individual, pset=pset)\n",
    "    # 计算均方误差（Mean Square Error，MSE）\n",
    "    mse = ((func(x) - x**2)**2 for x in range(-10, 10))\n",
    "    # 计算GP树的大小\n",
    "    size = len(individual)\n",
    "    return math.fsum(mse), size\n",
    "\n",
    "# 修改适应度函数，包含两个权重：MSE和树的大小。MSE是最小化，树的大小也是最小化\n",
    "creator.create(\"FitnessMulti\", base.Fitness, weights=(-1.0, -1.0))\n",
    "creator.create(\"Individual\", gp.PrimitiveTree, fitness=creator.FitnessMulti)"
   ],
   "metadata": {
    "collapsed": false,
    "ExecuteTime": {
     "end_time": "2023-11-07T07:53:52.386198800Z",
     "start_time": "2023-11-07T07:53:52.366016600Z"
    }
   },
   "id": "59cfefc0467c74ad"
  },
  {
   "cell_type": "markdown",
   "source": [
    "### 遗传算子\n",
    "遗传算子基本不需要修改。由于是多目标优化问题，所以选择算子需要使用NSGA2（Non-dominated Sorting Genetic Algorithm II）。"
   ],
   "metadata": {
    "collapsed": false
   },
   "id": "956e01e17271daa6"
  },
  {
   "cell_type": "code",
   "execution_count": 2,
   "outputs": [
    {
     "name": "stderr",
     "output_type": "stream",
     "text": [
      "C:\\Users\\zhenl\\anaconda3\\Lib\\site-packages\\deap\\gp.py:254: RuntimeWarning: Ephemeral rand101 function cannot be pickled because its generating function is a lambda function. Use functools.partial instead.\n",
      "  warnings.warn(\"Ephemeral {name} function cannot be \"\n"
     ]
    }
   ],
   "source": [
    "import random\n",
    "\n",
    "# 定义函数集合和终端集合\n",
    "pset = gp.PrimitiveSet(\"MAIN\", arity=1)\n",
    "pset.addPrimitive(operator.add, 2)\n",
    "pset.addPrimitive(operator.sub, 2)\n",
    "pset.addPrimitive(operator.mul, 2)\n",
    "pset.addPrimitive(operator.neg, 1)\n",
    "pset.addEphemeralConstant(\"rand101\", lambda: random.randint(-1, 1))\n",
    "pset.renameArguments(ARG0='x')\n",
    "\n",
    "# 定义遗传编程操作\n",
    "toolbox = base.Toolbox()\n",
    "toolbox.register(\"expr\", gp.genHalfAndHalf, pset=pset, min_=1, max_=2)\n",
    "toolbox.register(\"individual\", tools.initIterate, creator.Individual, toolbox.expr)\n",
    "toolbox.register(\"population\", tools.initRepeat, list, toolbox.individual)\n",
    "toolbox.register(\"compile\", gp.compile, pset=pset)\n",
    "toolbox.register(\"evaluate\", evalSymbReg, pset=pset)\n",
    "toolbox.register(\"select\", tools.selNSGA2)\n",
    "toolbox.register(\"mate\", gp.cxOnePoint)\n",
    "toolbox.register(\"mutate\", gp.mutUniform, expr=toolbox.expr, pset=pset)"
   ],
   "metadata": {
    "collapsed": false,
    "ExecuteTime": {
     "end_time": "2023-11-07T07:53:52.396201700Z",
     "start_time": "2023-11-07T07:53:52.388198600Z"
    }
   },
   "id": "851794d4d36e3681"
  },
  {
   "cell_type": "markdown",
   "source": [
    "### 算法模块\n",
    "DEAP算法包提供了eaMuPlusLambda函数，可以比较方便地使用NSGA2的环境选择算子。然而，理想情况下，最好还是自行实现演化函数，这样才能完整地使用NSGA-II算法中的锦标赛选择算子。"
   ],
   "metadata": {
    "collapsed": false
   },
   "id": "62f30d17704db709"
  },
  {
   "cell_type": "code",
   "execution_count": 3,
   "outputs": [
    {
     "name": "stdout",
     "output_type": "stream",
     "text": [
      "   \t      \t                    fitness                    \t                      size                     \n",
      "   \t      \t-----------------------------------------------\t-----------------------------------------------\n",
      "gen\tnevals\tavg    \tgen\tmax  \tmin\tnevals\tstd    \tavg\tgen\tmax\tmin\tnevals\tstd    \n",
      "0  \t50    \t39957.4\t0  \t47346\t0  \t50    \t8480.79\t4.3\t0  \t7  \t2  \t50    \t1.61555\n",
      "1  \t29    \t37488.6\t1  \t42026\t0  \t29    \t9525.28\t3.78\t1  \t7  \t2  \t29    \t1.28515\n",
      "2  \t28    \t34087.4\t2  \t40666\t0  \t28    \t13739.2\t3.1 \t2  \t6  \t2  \t28    \t0.9    \n",
      "3  \t27    \t27344.2\t3  \t40666\t0  \t27    \t17824.1\t3.02\t3  \t5  \t2  \t27    \t0.96933\n",
      "4  \t36    \t24180.5\t4  \t39346\t0  \t36    \t18935.8\t2.82\t4  \t5  \t2  \t36    \t0.84119\n",
      "5  \t37    \t17307.8\t5  \t39336\t0  \t37    \t19525.9\t2.56\t5  \t3  \t2  \t37    \t0.496387\n",
      "6  \t37    \t786.72 \t6  \t39336\t0  \t37    \t5507.04\t2.98\t6  \t3  \t2  \t37    \t0.14    \n",
      "7  \t42    \t786.72 \t7  \t39336\t0  \t42    \t5507.04\t2.98\t7  \t3  \t2  \t42    \t0.14    \n",
      "8  \t35    \t786.72 \t8  \t39336\t0  \t35    \t5507.04\t2.98\t8  \t3  \t2  \t35    \t0.14    \n",
      "9  \t35    \t1573.44\t9  \t39336\t0  \t35    \t7708.25\t2.96\t9  \t3  \t2  \t35    \t0.195959\n",
      "10 \t37    \t786.72 \t10 \t39336\t0  \t37    \t5507.04\t2.98\t10 \t3  \t2  \t37    \t0.14    \n",
      "11 \t35    \t786.72 \t11 \t39336\t0  \t35    \t5507.04\t2.98\t11 \t3  \t2  \t35    \t0.14    \n",
      "12 \t33    \t1573.44\t12 \t39336\t0  \t33    \t7708.25\t2.96\t12 \t3  \t2  \t33    \t0.195959\n",
      "13 \t33    \t786.72 \t13 \t39336\t0  \t33    \t5507.04\t2.98\t13 \t3  \t2  \t33    \t0.14    \n",
      "14 \t33    \t786.72 \t14 \t39336\t0  \t33    \t5507.04\t2.98\t14 \t3  \t2  \t33    \t0.14    \n",
      "15 \t32    \t786.72 \t15 \t39336\t0  \t32    \t5507.04\t2.98\t15 \t3  \t2  \t32    \t0.14    \n",
      "16 \t34    \t1573.44\t16 \t39336\t0  \t34    \t7708.25\t2.96\t16 \t3  \t2  \t34    \t0.195959\n",
      "17 \t37    \t786.72 \t17 \t39336\t0  \t37    \t5507.04\t2.98\t17 \t3  \t2  \t37    \t0.14    \n",
      "18 \t37    \t1573.44\t18 \t39336\t0  \t37    \t7708.25\t2.96\t18 \t3  \t2  \t37    \t0.195959\n",
      "19 \t39    \t1573.44\t19 \t39336\t0  \t39    \t7708.25\t2.96\t19 \t3  \t2  \t39    \t0.195959\n",
      "20 \t34    \t1573.44\t20 \t39336\t0  \t34    \t7708.25\t2.96\t20 \t3  \t2  \t34    \t0.195959\n",
      "21 \t37    \t1573.44\t21 \t39336\t0  \t37    \t7708.25\t2.96\t21 \t3  \t2  \t37    \t0.195959\n",
      "22 \t30    \t1573.44\t22 \t39336\t0  \t30    \t7708.25\t2.96\t22 \t3  \t2  \t30    \t0.195959\n",
      "23 \t32    \t786.72 \t23 \t39336\t0  \t32    \t5507.04\t2.98\t23 \t3  \t2  \t32    \t0.14    \n",
      "24 \t39    \t1573.44\t24 \t39336\t0  \t39    \t7708.25\t2.96\t24 \t3  \t2  \t39    \t0.195959\n",
      "25 \t35    \t1573.44\t25 \t39336\t0  \t35    \t7708.25\t2.96\t25 \t3  \t2  \t35    \t0.195959\n",
      "26 \t32    \t1573.44\t26 \t39336\t0  \t32    \t7708.25\t2.96\t26 \t3  \t2  \t32    \t0.195959\n",
      "27 \t38    \t1573.44\t27 \t39336\t0  \t38    \t7708.25\t2.96\t27 \t3  \t2  \t38    \t0.195959\n",
      "28 \t36    \t1573.44\t28 \t39336\t0  \t36    \t7708.25\t2.96\t28 \t3  \t2  \t36    \t0.195959\n",
      "29 \t30    \t1573.44\t29 \t39336\t0  \t30    \t7708.25\t2.96\t29 \t3  \t2  \t30    \t0.195959\n",
      "30 \t33    \t2360.16\t30 \t39336\t0  \t33    \t9341.78\t2.94\t30 \t3  \t2  \t33    \t0.237487\n",
      "31 \t37    \t786.72 \t31 \t39336\t0  \t37    \t5507.04\t2.98\t31 \t3  \t2  \t37    \t0.14    \n",
      "32 \t33    \t786.72 \t32 \t39336\t0  \t33    \t5507.04\t2.98\t32 \t3  \t2  \t33    \t0.14    \n",
      "33 \t35    \t1573.44\t33 \t39336\t0  \t35    \t7708.25\t2.96\t33 \t3  \t2  \t35    \t0.195959\n",
      "34 \t36    \t3146.88\t34 \t39336\t0  \t36    \t10671.6\t2.92\t34 \t3  \t2  \t36    \t0.271293\n",
      "35 \t34    \t786.72 \t35 \t39336\t0  \t34    \t5507.04\t2.98\t35 \t3  \t2  \t34    \t0.14    \n",
      "36 \t32    \t786.72 \t36 \t39336\t0  \t32    \t5507.04\t2.98\t36 \t3  \t2  \t32    \t0.14    \n",
      "37 \t30    \t2360.16\t37 \t39336\t0  \t30    \t9341.78\t2.94\t37 \t3  \t2  \t30    \t0.237487\n",
      "38 \t31    \t3933.6 \t38 \t39336\t0  \t31    \t11800.8\t2.9 \t38 \t3  \t2  \t31    \t0.3     \n",
      "39 \t42    \t786.72 \t39 \t39336\t0  \t42    \t5507.04\t2.98\t39 \t3  \t2  \t42    \t0.14    \n",
      "40 \t40    \t786.72 \t40 \t39336\t0  \t40    \t5507.04\t2.98\t40 \t3  \t2  \t40    \t0.14    \n",
      "41 \t33    \t1573.44\t41 \t39336\t0  \t33    \t7708.25\t2.96\t41 \t3  \t2  \t33    \t0.195959\n",
      "42 \t34    \t1573.44\t42 \t39336\t0  \t34    \t7708.25\t2.96\t42 \t3  \t2  \t34    \t0.195959\n",
      "43 \t29    \t2360.16\t43 \t39336\t0  \t29    \t9341.78\t2.94\t43 \t3  \t2  \t29    \t0.237487\n",
      "44 \t35    \t786.72 \t44 \t39336\t0  \t35    \t5507.04\t2.98\t44 \t3  \t2  \t35    \t0.14    \n",
      "45 \t35    \t1573.44\t45 \t39336\t0  \t35    \t7708.25\t2.96\t45 \t3  \t2  \t35    \t0.195959\n",
      "46 \t37    \t1573.44\t46 \t39336\t0  \t37    \t7708.25\t2.96\t46 \t3  \t2  \t37    \t0.195959\n",
      "47 \t41    \t786.72 \t47 \t39336\t0  \t41    \t5507.04\t2.98\t47 \t3  \t2  \t41    \t0.14    \n",
      "48 \t38    \t1573.44\t48 \t39336\t0  \t38    \t7708.25\t2.96\t48 \t3  \t2  \t38    \t0.195959\n",
      "49 \t33    \t1573.44\t49 \t39336\t0  \t33    \t7708.25\t2.96\t49 \t3  \t2  \t33    \t0.195959\n",
      "50 \t30    \t1573.44\t50 \t39336\t0  \t30    \t7708.25\t2.96\t50 \t3  \t2  \t30    \t0.195959\n",
      "Best individual is:\n",
      " mul(x, x)\n",
      "\n",
      "With fitness: (0.0, 3.0)\n"
     ]
    }
   ],
   "source": [
    "import numpy\n",
    "from deap import algorithms\n",
    "\n",
    "# 修改统计指标以追踪两个目标\n",
    "stats_fit = tools.Statistics(lambda ind: ind.fitness.values[0])\n",
    "stats_size = tools.Statistics(lambda ind: ind.fitness.values[1])\n",
    "mstats = tools.MultiStatistics(fitness=stats_fit, size=stats_size)\n",
    "mstats.register(\"avg\", numpy.mean)\n",
    "mstats.register(\"std\", numpy.std)\n",
    "mstats.register(\"min\", numpy.min)\n",
    "mstats.register(\"max\", numpy.max)\n",
    "\n",
    "# 使用默认算法\n",
    "population = toolbox.population(n=50)\n",
    "pop, log  = algorithms.eaMuPlusLambda(population=population,\n",
    "                           toolbox=toolbox, mu=len(population),lambda_=len(population),\n",
    "                                      cxpb=0.5, mutpb=0.2, ngen=50, stats=mstats, halloffame=None, verbose=True)\n",
    "\n",
    "# 打印最佳个体\n",
    "best_ind = tools.selBest(pop, 1)[0]\n",
    "print('Best individual is:\\n', best_ind)\n",
    "print('\\nWith fitness:', best_ind.fitness.values)\n"
   ],
   "metadata": {
    "collapsed": false,
    "ExecuteTime": {
     "end_time": "2023-11-07T07:53:52.556959700Z",
     "start_time": "2023-11-07T07:53:52.399201Z"
    }
   },
   "id": "515b587d4f8876ea"
  },
  {
   "cell_type": "markdown",
   "source": [
    "基于优化结果，我们还可以绘制Pareto前沿，以便于选择最终的模型。"
   ],
   "metadata": {
    "collapsed": false
   },
   "id": "7aa57e0f8b6151ad"
  },
  {
   "cell_type": "code",
   "execution_count": 4,
   "outputs": [
    {
     "data": {
      "text/plain": "<Figure size 1000x600 with 1 Axes>",
      "image/png": "[encoded data removed]"
     },
     "metadata": {},
     "output_type": "display_data"
    }
   ],
   "source": [
    "from matplotlib import pyplot as plt\n",
    "import seaborn as sns\n",
    "\n",
    "# 非支配排序\n",
    "fronts = tools.sortNondominated(pop, len(pop), first_front_only=True)\n",
    "\n",
    "# Pareto前沿\n",
    "pareto_front = fronts[0]\n",
    "fitnesses = [ind.fitness.values for ind in pareto_front]\n",
    "\n",
    "# 分离均方误差和树的大小\n",
    "mse = [fit[0] for fit in fitnesses]\n",
    "sizes = [fit[1] for fit in fitnesses]\n",
    "\n",
    "# 使用seaborn绘制散点图\n",
    "sns.set(style=\"whitegrid\")\n",
    "plt.figure(figsize=(10, 6))\n",
    "sns.scatterplot(x=mse, y=sizes, palette=\"viridis\", s=60, edgecolor=\"w\", alpha=0.7)\n",
    "plt.xlabel('Mean Square Error')\n",
    "plt.ylabel('Size of the GP Tree')\n",
    "plt.title('Pareto Front')\n",
    "plt.show()"
   ],
   "metadata": {
    "collapsed": false,
    "ExecuteTime": {
     "end_time": "2023-11-07T07:53:52.790776600Z",
     "start_time": "2023-11-07T07:53:52.559462900Z"
    }
   },
   "id": "28284e0a0047fcfc"
  }
 ],
 "metadata": {
  "kernelspec": {
   "display_name": "Python 3",
   "language": "python",
   "name": "python3"
  },
  "language_info": {
   "codemirror_mode": {
    "name": "ipython",
    "version": 2
   },
   "file_extension": ".py",
   "mimetype": "text/x-python",
   "name": "python",
   "nbconvert_exporter": "python",
   "pygments_lexer": "ipython2",
   "version": "2.7.6"
  }
 },
 "nbformat": 4,
 "nbformat_minor": 5
}
