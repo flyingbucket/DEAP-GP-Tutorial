{
 "cells": [
  {
   "cell_type": "markdown",
   "source": [
    "## 基于单树GP的符号回归（Symbolic Regression）\n",
    "\n",
    "基于单树GP的符号回归是指使用遗传编程（GP）生成数学公式来逼近一组数据的关系。\n",
    "\n",
    "\n",
    "### Creator类\n",
    "creator是一个工具类，其主要作用是创建新的类。在遗传编程中，通常需要自定义个体（Individual）和适应度（Fitness）类，因为不同的问题可能需要不同的适应度类型和个体结构。在DEAP中，我们可以使用creator来动态地创建这些类。\n",
    "\n",
    "在下面的例子中，我们创建了一个最基本的单目标单树GP，可以使用base.Fitness和gp.PrimitiveTree来定义。"
   ],
   "metadata": {
    "collapsed": false
   },
   "id": "cbf709014ce0316e"
  },
  {
   "cell_type": "code",
   "execution_count": 13,
   "outputs": [],
   "source": [
    "import math\n",
    "import operator\n",
    "\n",
    "from deap import base, creator, tools, gp\n",
    "\n",
    "\n",
    "# 符号回归\n",
    "def evalSymbReg(individual, pset):\n",
    "    # 编译GP树为函数\n",
    "    func = gp.compile(expr=individual, pset=pset)\n",
    "    # 计算均方误差（Mean Square Error，MSE）\n",
    "    mse = ((func(x) - x**2)**2 for x in range(-10, 10))\n",
    "    return (math.fsum(mse),)\n",
    "\n",
    "# 创建个体和适应度函数\n",
    "creator.create(\"FitnessMin\", base.Fitness, weights=(-1.0,))\n",
    "creator.create(\"Individual\", gp.PrimitiveTree, fitness=creator.FitnessMin)"
   ],
   "metadata": {
    "collapsed": false,
    "ExecuteTime": {
     "end_time": "2023-11-07T07:45:06.305927Z",
     "start_time": "2023-11-07T07:45:06.291581300Z"
    }
   },
   "id": "59cfefc0467c74ad"
  },
  {
   "cell_type": "markdown",
   "source": [
    "### Register类\n",
    "Register的作用类似于一个调度中心，它负责“注册”各种操作和函数。在遗传编程中，这些操作通常包括交叉（crossover）、变异（mutation）、选择（selection）和评估（evaluation）。通过register，我们可以将这些操作和相关的函数绑定在一起，以供后续算法使用。"
   ],
   "metadata": {
    "collapsed": false
   },
   "id": "956e01e17271daa6"
  },
  {
   "cell_type": "code",
   "execution_count": 14,
   "outputs": [],
   "source": [
    "import random\n",
    "\n",
    "# 定义函数集合和终端集合\n",
    "pset = gp.PrimitiveSet(\"MAIN\", arity=1)\n",
    "pset.addPrimitive(operator.add, 2)\n",
    "pset.addPrimitive(operator.sub, 2)\n",
    "pset.addPrimitive(operator.mul, 2)\n",
    "pset.addPrimitive(operator.neg, 1)\n",
    "pset.addEphemeralConstant(\"rand101\", lambda: random.randint(-1, 1))\n",
    "pset.renameArguments(ARG0='x')\n",
    "\n",
    "# 定义遗传编程操作\n",
    "toolbox = base.Toolbox()\n",
    "toolbox.register(\"expr\", gp.genHalfAndHalf, pset=pset, min_=1, max_=2)\n",
    "toolbox.register(\"individual\", tools.initIterate, creator.Individual, toolbox.expr)\n",
    "toolbox.register(\"population\", tools.initRepeat, list, toolbox.individual)\n",
    "toolbox.register(\"compile\", gp.compile, pset=pset)\n",
    "toolbox.register(\"evaluate\", evalSymbReg, pset=pset)\n",
    "toolbox.register(\"select\", tools.selTournament, tournsize=3)\n",
    "toolbox.register(\"mate\", gp.cxOnePoint)\n",
    "toolbox.register(\"mutate\", gp.mutUniform, expr=toolbox.expr, pset=pset)"
   ],
   "metadata": {
    "collapsed": false,
    "ExecuteTime": {
     "end_time": "2023-11-07T07:45:06.327918900Z",
     "start_time": "2023-11-07T07:45:06.311507300Z"
    }
   },
   "id": "851794d4d36e3681"
  },
  {
   "cell_type": "markdown",
   "source": [
    "### Algorithms类\n",
    "Algorithms模块提供了一些现成的遗传算法和遗传编程的实现。例如，eaSimple是一个简单的遗传算法，它可以处理基本的选择、交叉、变异和演化迭代。"
   ],
   "metadata": {
    "collapsed": false
   },
   "id": "62f30d17704db709"
  },
  {
   "cell_type": "code",
   "execution_count": 15,
   "outputs": [
    {
     "name": "stdout",
     "output_type": "stream",
     "text": [
      "   \t      \t                    fitness                    \t                      size                     \n",
      "   \t      \t-----------------------------------------------\t-----------------------------------------------\n",
      "gen\tnevals\tavg    \tgen\tmax   \tmin\tnevals\tstd    \tavg    \tgen\tmax\tmin\tnevals\tstd    \n",
      "0  \t300   \t42078.7\t0  \t365994\t0  \t300   \t31114.7\t4.00667\t0  \t7  \t2  \t300   \t1.68719\n",
      "1  \t160   \t1.61412e+06\t1  \t2.41417e+08\t0  \t160   \t1.91599e+07\t4      \t1  \t12 \t2  \t160   \t1.9799 \n",
      "2  \t192   \t45381.3    \t2  \t3.19748e+06\t0  \t192   \t185991     \t4.12667\t2  \t12 \t2  \t192   \t2.01096\n",
      "3  \t167   \t98778.3    \t3  \t3.51947e+06\t0  \t167   \t463075     \t4.27   \t3  \t11 \t2  \t167   \t1.97242\n",
      "4  \t176   \t86987.9    \t4  \t3.19748e+06\t0  \t176   \t440908     \t4.47333\t4  \t13 \t2  \t176   \t2.12821\n",
      "5  \t182   \t89068.8    \t5  \t1.22679e+07\t0  \t182   \t770251     \t4.41   \t5  \t15 \t2  \t182   \t2.21553\n",
      "6  \t171   \t159554     \t6  \t1.33932e+07\t0  \t171   \t1.10356e+06\t4      \t6  \t11 \t2  \t171   \t1.66333\n",
      "7  \t178   \t104785     \t7  \t3.19748e+06\t0  \t178   \t518053     \t4.13   \t7  \t12 \t2  \t178   \t1.82385\n",
      "8  \t183   \t884320     \t8  \t2.2959e+08 \t0  \t183   \t1.32505e+07\t4.20667\t8  \t12 \t2  \t183   \t1.91415\n",
      "9  \t164   \t2.37576e+06\t9  \t2.35463e+08\t0  \t164   \t2.26693e+07\t4.29667\t9  \t12 \t2  \t164   \t1.9618 \n",
      "10 \t169   \t958202     \t10 \t2.41417e+08\t0  \t169   \t1.39342e+07\t4.31   \t10 \t13 \t2  \t169   \t1.90453\n",
      "11 \t175   \t43878.2    \t11 \t3.19748e+06\t0  \t175   \t319057     \t4.16667\t11 \t11 \t2  \t175   \t1.76792\n",
      "12 \t164   \t870162     \t12 \t2.2959e+08 \t0  \t164   \t1.32492e+07\t4.45333\t12 \t12 \t2  \t164   \t1.90818\n",
      "13 \t189   \t4.75947e+06\t13 \t9.30064e+08\t0  \t189   \t5.66106e+07\t4.37667\t13 \t12 \t2  \t189   \t1.87655\n",
      "14 \t188   \t137523     \t14 \t1.18272e+07\t0  \t188   \t835611     \t4.44333\t14 \t12 \t2  \t188   \t1.95622\n",
      "15 \t180   \t93878      \t15 \t3.19748e+06\t0  \t180   \t489353     \t4.55333\t15 \t13 \t2  \t180   \t2.10091\n",
      "16 \t171   \t1.0826e+06 \t16 \t2.64574e+08\t0  \t171   \t1.52675e+07\t4.62333\t16 \t13 \t2  \t171   \t2.23937\n",
      "17 \t179   \t66192      \t17 \t3.28148e+06\t0  \t179   \t400569     \t4.35   \t17 \t13 \t2  \t179   \t1.99687\n",
      "18 \t198   \t230151     \t18 \t1.27899e+07\t0  \t198   \t1.19315e+06\t4.57333\t18 \t18 \t2  \t198   \t2.21765\n",
      "19 \t181   \t166086     \t19 \t1.14679e+07\t0  \t181   \t867489     \t4.58333\t19 \t13 \t2  \t181   \t1.91913\n",
      "20 \t182   \t103978     \t20 \t3.19748e+06\t0  \t182   \t501332     \t4.62667\t20 \t13 \t3  \t182   \t2.11044\n",
      "21 \t178   \t913115     \t21 \t2.41417e+08\t0  \t178   \t1.39329e+07\t4.67667\t21 \t13 \t2  \t178   \t2.14137\n",
      "22 \t182   \t1.57375e+06\t22 \t2.2959e+08 \t0  \t182   \t1.80099e+07\t4.85   \t22 \t14 \t2  \t182   \t2.27761\n",
      "23 \t205   \t2.48414e+06\t23 \t2.35463e+08\t0  \t205   \t2.3236e+07 \t4.68667\t23 \t15 \t2  \t205   \t2.19131\n",
      "24 \t166   \t66357.4    \t24 \t3.19748e+06\t0  \t166   \t391492     \t4.54   \t24 \t13 \t2  \t166   \t2.02527\n",
      "25 \t179   \t942392     \t25 \t2.35463e+08\t0  \t179   \t1.3578e+07 \t4.50333\t25 \t17 \t2  \t179   \t2.15793\n",
      "26 \t182   \t97558.5    \t26 \t3.51947e+06\t0  \t182   \t495890     \t4.51   \t26 \t13 \t2  \t182   \t2.15945\n",
      "27 \t173   \t1.51571e+06\t27 \t2.2959e+08 \t0  \t173   \t1.80104e+07\t4.23333\t27 \t13 \t2  \t173   \t2.04097\n",
      "28 \t188   \t6.62255e+07\t28 \t1.98487e+10\t0  \t188   \t1.14405e+09\t4.15   \t28 \t13 \t2  \t188   \t1.9046 \n",
      "29 \t163   \t83289.2    \t29 \t3.19748e+06\t0  \t163   \t451884     \t4.20333\t29 \t18 \t2  \t163   \t2.1959 \n",
      "30 \t187   \t114828     \t30 \t3.19748e+06\t0  \t187   \t545051     \t4.58333\t30 \t18 \t2  \t187   \t2.58   \n",
      "31 \t174   \t125477     \t31 \t1.22679e+07\t0  \t174   \t1.02535e+06\t4.45333\t31 \t18 \t3  \t174   \t2.51154\n",
      "32 \t175   \t878307     \t32 \t2.35463e+08\t0  \t175   \t1.35875e+07\t4.52667\t32 \t19 \t2  \t175   \t2.57603\n",
      "33 \t175   \t893521     \t33 \t2.35463e+08\t0  \t175   \t1.35754e+07\t4.35   \t33 \t14 \t2  \t175   \t2.16506\n",
      "34 \t181   \t1.8059e+06 \t34 \t2.70809e+08\t0  \t181   \t2.04354e+07\t4.34667\t34 \t14 \t2  \t181   \t2.16944\n",
      "35 \t171   \t57806.7    \t35 \t3.51947e+06\t0  \t171   \t365849     \t4.32   \t35 \t14 \t2  \t171   \t2.1766 \n",
      "36 \t199   \t846005     \t36 \t2.41417e+08\t0  \t199   \t1.39161e+07\t4.09667\t36 \t14 \t2  \t199   \t1.94096\n",
      "37 \t184   \t64799      \t37 \t1.22679e+07\t0  \t184   \t729951     \t3.99   \t37 \t14 \t2  \t184   \t1.85918\n",
      "38 \t169   \t136048     \t38 \t1.22679e+07\t0  \t169   \t852646     \t4.00333\t38 \t14 \t2  \t169   \t1.82665\n",
      "39 \t170   \t130944     \t39 \t1.22679e+07\t0  \t170   \t855386     \t4.03667\t39 \t14 \t2  \t170   \t1.97197\n",
      "40 \t190   \t66662.1    \t40 \t3.19748e+06\t0  \t190   \t403321     \t4.12   \t40 \t12 \t2  \t190   \t1.91979\n",
      "41 \t197   \t902737     \t41 \t2.41417e+08\t0  \t197   \t1.39318e+07\t4.26333\t41 \t15 \t2  \t197   \t2.11833\n",
      "42 \t180   \t843487     \t42 \t2.2959e+08 \t0  \t180   \t1.32532e+07\t4.16333\t42 \t12 \t2  \t180   \t1.86993\n",
      "43 \t188   \t280036     \t43 \t4.81496e+07\t0  \t188   \t2.96965e+06\t4.05667\t43 \t11 \t2  \t188   \t1.71468\n",
      "44 \t184   \t118012     \t44 \t1.14679e+07\t0  \t184   \t788338     \t4.12   \t44 \t11 \t2  \t184   \t1.77734\n",
      "45 \t166   \t92683.5    \t45 \t1.22679e+07\t0  \t166   \t774581     \t4.03   \t45 \t11 \t2  \t166   \t1.68397\n",
      "46 \t187   \t866858     \t46 \t2.41417e+08\t0  \t187   \t1.39169e+07\t4.07333\t46 \t14 \t2  \t187   \t1.70527\n",
      "47 \t176   \t863999     \t47 \t2.2959e+08 \t0  \t176   \t1.32512e+07\t4.26667\t47 \t11 \t2  \t176   \t1.89268\n",
      "48 \t180   \t822365     \t48 \t2.2959e+08 \t0  \t180   \t1.3235e+07 \t4.01   \t48 \t12 \t2  \t180   \t1.7483 \n",
      "49 \t198   \t99420.2    \t49 \t3.19748e+06\t0  \t198   \t507152     \t4.00667\t49 \t12 \t2  \t198   \t1.64721\n",
      "50 \t178   \t54800.7    \t50 \t3.19748e+06\t0  \t178   \t356531     \t3.99333\t50 \t12 \t2  \t178   \t1.63706\n"
     ]
    }
   ],
   "source": [
    "import numpy\n",
    "from deap import algorithms\n",
    "\n",
    "# 定义统计指标\n",
    "stats_fit = tools.Statistics(lambda ind: ind.fitness.values)\n",
    "stats_size = tools.Statistics(len)\n",
    "mstats = tools.MultiStatistics(fitness=stats_fit, size=stats_size)\n",
    "mstats.register(\"avg\", numpy.mean)\n",
    "mstats.register(\"std\", numpy.std)\n",
    "mstats.register(\"min\", numpy.min)\n",
    "mstats.register(\"max\", numpy.max)\n",
    "\n",
    "# 使用默认算法\n",
    "population = toolbox.population(n=300)\n",
    "hof = tools.HallOfFame(1)\n",
    "pop, log  = algorithms.eaSimple(population=population,\n",
    "                           toolbox=toolbox, cxpb=0.5, mutpb=0.2, ngen=50, stats=mstats, halloffame=hof, verbose=True)\n"
   ],
   "metadata": {
    "collapsed": false,
    "ExecuteTime": {
     "end_time": "2023-11-07T07:45:06.802746900Z",
     "start_time": "2023-11-07T07:45:06.330527800Z"
    }
   },
   "id": "515b587d4f8876ea"
  },
  {
   "cell_type": "markdown",
   "source": [
    "由于DEAP重载了字符串运算符，因此可以直接输出结果。"
   ],
   "metadata": {
    "collapsed": false
   },
   "id": "237b39454ea988bc"
  },
  {
   "cell_type": "code",
   "execution_count": 16,
   "outputs": [
    {
     "name": "stdout",
     "output_type": "stream",
     "text": [
      "mul(x, x)\n"
     ]
    }
   ],
   "source": [
    "print(str(hof[0]))"
   ],
   "metadata": {
    "collapsed": false,
    "ExecuteTime": {
     "end_time": "2023-11-07T07:45:06.805509100Z",
     "start_time": "2023-11-07T07:45:06.800847900Z"
    }
   },
   "id": "918142f4e60d65a0"
  }
 ],
 "metadata": {
  "kernelspec": {
   "display_name": "Python 3",
   "language": "python",
   "name": "python3"
  },
  "language_info": {
   "codemirror_mode": {
    "name": "ipython",
    "version": 2
   },
   "file_extension": ".py",
   "mimetype": "text/x-python",
   "name": "python",
   "nbconvert_exporter": "python",
   "pygments_lexer": "ipython2",
   "version": "2.7.6"
  }
 },
 "nbformat": 4,
 "nbformat_minor": 5
}
