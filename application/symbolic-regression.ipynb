{
 "cells": [
  {
   "cell_type": "markdown",
   "id": "cbf709014ce0316e",
   "metadata": {},
   "source": [
    "## 基于单树GP的符号回归（Symbolic Regression）\n",
    "\n",
    "基于单树GP的符号回归是指使用遗传编程（GP）生成数学公式来逼近一组数据的关系，通过组合DEAP的Creator，Toolbox和Algorithms这三个模块即可实现。\n",
    "\n",
    "\n",
    "### Creator类\n",
    "Creator是一个工具类，其主要作用是创建新的类。在遗传编程中，通常需要自定义个体（Individual）和适应度（Fitness）类，因为不同的问题可能需要不同的适应度类型和个体结构。在DEAP中，我们可以使用creator来动态地创建这些类。\n",
    "\n",
    "在下面的例子中，我们创建了一个最基本的单目标单树GP，可以使用base.Fitness和gp.PrimitiveTree来定义。"
   ]
  },
  {
   "cell_type": "code",
   "execution_count": 11,
   "id": "59cfefc0467c74ad",
   "metadata": {
    "ExecuteTime": {
     "end_time": "2023-11-08T02:39:00.130308400Z",
     "start_time": "2023-11-08T02:39:00.012636500Z"
    }
   },
   "source": [
    "import math\n",
    "import operator\n",
    "\n",
    "from deap import base, creator, tools, gp\n",
    "\n",
    "\n",
    "# 符号回归\n",
    "def evalSymbReg(individual, pset):\n",
    "    # 编译GP树为函数\n",
    "    func = gp.compile(expr=individual, pset=pset)\n",
    "    # 计算均方误差（Mean Square Error，MSE）\n",
    "    mse = ((func(x) - x**2)**2 for x in range(-10, 10))\n",
    "    return (math.fsum(mse),)\n",
    "\n",
    "# 创建个体和适应度函数\n",
    "creator.create(\"FitnessMin\", base.Fitness, weights=(-1.0,))\n",
    "creator.create(\"Individual\", gp.PrimitiveTree, fitness=creator.FitnessMin)"
   ],
   "outputs": []
  },
  {
   "cell_type": "markdown",
   "id": "956e01e17271daa6",
   "metadata": {},
   "source": [
    "### Toolbox类\n",
    "Toolbox的作用类似于一个调度中心，它负责“注册”各种操作和函数。在遗传编程中，这些操作通常包括交叉（crossover）、变异（mutation）、选择（selection）和评估（evaluation）。通过register，我们可以将这些操作和相关的函数绑定在一起，以供后续算法使用。"
   ]
  },
  {
   "cell_type": "code",
   "execution_count": 12,
   "id": "851794d4d36e3681",
   "metadata": {
    "ExecuteTime": {
     "end_time": "2023-11-08T02:39:00.214209Z",
     "start_time": "2023-11-08T02:39:00.052073500Z"
    }
   },
   "source": [
    "import random\n",
    "\n",
    "# 定义函数集合和终端集合\n",
    "pset = gp.PrimitiveSet(\"MAIN\", arity=1)\n",
    "pset.addPrimitive(operator.add, 2)\n",
    "pset.addPrimitive(operator.sub, 2)\n",
    "pset.addPrimitive(operator.mul, 2)\n",
    "pset.addPrimitive(operator.neg, 1)\n",
    "pset.addEphemeralConstant(\"rand101\", lambda: random.randint(-1, 1))\n",
    "pset.renameArguments(ARG0='x')\n",
    "\n",
    "# 定义遗传编程操作\n",
    "toolbox = base.Toolbox()\n",
    "toolbox.register(\"expr\", gp.genHalfAndHalf, pset=pset, min_=1, max_=2)\n",
    "toolbox.register(\"individual\", tools.initIterate, creator.Individual, toolbox.expr)\n",
    "toolbox.register(\"population\", tools.initRepeat, list, toolbox.individual)\n",
    "toolbox.register(\"compile\", gp.compile, pset=pset)\n",
    "toolbox.register(\"evaluate\", evalSymbReg, pset=pset)\n",
    "toolbox.register(\"select\", tools.selTournament, tournsize=3)\n",
    "toolbox.register(\"mate\", gp.cxOnePoint)\n",
    "toolbox.register(\"mutate\", gp.mutUniform, expr=toolbox.expr, pset=pset)"
   ],
   "outputs": []
  },
  {
   "cell_type": "markdown",
   "id": "62f30d17704db709",
   "metadata": {},
   "source": [
    "### Algorithms类\n",
    "Algorithms模块提供了一些现成的遗传算法和遗传编程的实现。例如，eaSimple是一个简单的遗传算法，它可以处理基本的选择、交叉、变异和演化迭代。"
   ]
  },
  {
   "cell_type": "code",
   "execution_count": 13,
   "id": "515b587d4f8876ea",
   "metadata": {
    "ExecuteTime": {
     "end_time": "2023-11-08T02:39:00.216839200Z",
     "start_time": "2023-11-08T02:39:00.068850700Z"
    }
   },
   "source": [
    "import numpy\n",
    "from deap import algorithms\n",
    "\n",
    "# 定义统计指标\n",
    "stats_fit = tools.Statistics(lambda ind: ind.fitness.values)\n",
    "stats_size = tools.Statistics(len)\n",
    "mstats = tools.MultiStatistics(fitness=stats_fit, size=stats_size)\n",
    "mstats.register(\"avg\", numpy.mean)\n",
    "mstats.register(\"std\", numpy.std)\n",
    "mstats.register(\"min\", numpy.min)\n",
    "mstats.register(\"max\", numpy.max)\n",
    "\n",
    "# 使用默认算法\n",
    "population = toolbox.population(n=100)\n",
    "hof = tools.HallOfFame(1)\n",
    "pop, log  = algorithms.eaSimple(population=population,\n",
    "                           toolbox=toolbox, cxpb=0.9, mutpb=0.1, ngen=10, stats=mstats, halloffame=hof, verbose=True)\n"
   ],
   "outputs": []
  },
  {
   "cell_type": "markdown",
   "id": "237b39454ea988bc",
   "metadata": {},
   "source": [
    "由于DEAP重载了字符串运算符，因此可以直接输出结果。"
   ]
  },
  {
   "cell_type": "code",
   "execution_count": 14,
   "id": "918142f4e60d65a0",
   "metadata": {
    "ExecuteTime": {
     "end_time": "2023-11-08T02:39:00.217794500Z",
     "start_time": "2023-11-08T02:39:00.118939200Z"
    }
   },
   "source": [
    "print(str(hof[0]))"
   ],
   "outputs": []
  },
  {
   "cell_type": "markdown",
   "id": "54fe3d72a677307c",
   "metadata": {},
   "source": [
    "当然，我们也可以利用NetworkX库来对GP树进行可视化。"
   ]
  },
  {
   "cell_type": "code",
   "execution_count": 15,
   "id": "2fa44e7277d90c4c",
   "metadata": {
    "ExecuteTime": {
     "end_time": "2023-11-08T02:39:00.449935300Z",
     "start_time": "2023-11-08T02:39:00.134624200Z"
    }
   },
   "source": [
    "import networkx as nx\n",
    "from deap.gp import graph\n",
    "from networkx.drawing.nx_agraph import graphviz_layout\n",
    "\n",
    "function_name = {\n",
    "    'add':'Add',\n",
    "    'sub':'Sub',\n",
    "    'mul':'Mul',\n",
    "    'neg':'Neg'\n",
    "}\n",
    "\n",
    "def is_number(string):\n",
    "    try:\n",
    "        float(string)\n",
    "        return True\n",
    "    except ValueError:\n",
    "        return False\n",
    "\n",
    "\n",
    "def plot_a_tree(tree=hof[0]):\n",
    "    red_nodes = []\n",
    "    purple_nodes = []\n",
    "    blue_nodes = []\n",
    "    for gid, g in enumerate(tree):\n",
    "        if (\n",
    "                hasattr(g, \"value\")\n",
    "                and isinstance(g.value, str)\n",
    "                and g.value.startswith(\"ARG\")\n",
    "        ):\n",
    "            g.value = g.value.replace(\"ARG\", \"X\")\n",
    "\n",
    "        if g.name in function_name:\n",
    "            g.name = function_name[g.name]\n",
    "\n",
    "        if hasattr(g, \"value\") and (\n",
    "                is_number(g.value)\n",
    "                or (g.value.startswith(\"X\") and int(g.value[1:]) < X.shape[1])\n",
    "        ):\n",
    "            # 基础节点\n",
    "            red_nodes.append(gid)\n",
    "        elif hasattr(g, \"value\") and g.value.startswith(\"X\"):\n",
    "            g.value = \"$\\phi$\" + str(int(g.value.replace(\"X\", \"\")) - X.shape[1] + 1)\n",
    "            purple_nodes.append(gid)\n",
    "        elif hasattr(g, \"value\") and g.value.startswith(\"$\\phi$\"):\n",
    "            purple_nodes.append(gid)\n",
    "        else:\n",
    "            # 深蓝色节点\n",
    "            blue_nodes.append(gid)\n",
    "    nodes, edges, labels = graph(tree)\n",
    "    g = nx.Graph()\n",
    "    g.add_nodes_from(nodes)\n",
    "    g.add_edges_from(edges)\n",
    "    pos = graphviz_layout(g, prog=\"dot\")\n",
    "    red_nodes_idx = [nodes.index(n) for n in nodes if n in red_nodes]\n",
    "    purple_nodes_idx = [nodes.index(n) for n in nodes if n in purple_nodes]\n",
    "    blue_nodes_idx = [nodes.index(n) for n in nodes if n in blue_nodes]\n",
    "    nx.draw_networkx_nodes(\n",
    "        g, pos, nodelist=red_nodes_idx, node_color=\"darkred\", node_size=500\n",
    "    )\n",
    "    nx.draw_networkx_nodes(\n",
    "        g, pos, nodelist=purple_nodes_idx, node_color=\"indigo\", node_size=500\n",
    "    )\n",
    "    nx.draw_networkx_nodes(\n",
    "        g, pos, nodelist=blue_nodes_idx, node_color=\"darkblue\", node_size=500\n",
    "    )\n",
    "    nx.draw_networkx_edges(g, pos)\n",
    "    nx.draw_networkx_labels(g, pos, labels, font_color=\"white\")\n",
    "\n",
    "\n",
    "plot_a_tree(hof[0])"
   ],
   "outputs": []
  }
 ],
 "metadata": {
  "kernelspec": {
   "display_name": "Python 3 (ipykernel)",
   "language": "python",
   "name": "python3"
  },
  "language_info": {
   "codemirror_mode": {
    "name": "ipython",
    "version": 3
   },
   "file_extension": ".py",
   "mimetype": "text/x-python",
   "name": "python",
   "nbconvert_exporter": "python",
   "pygments_lexer": "ipython3",
   "version": "3.11.4"
  }
 },
 "nbformat": 4,
 "nbformat_minor": 5
}
