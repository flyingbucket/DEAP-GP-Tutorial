{
 "cells": [
  {
   "cell_type": "markdown",
   "source": [
    "## 基于多树GP的特征工程（Feature Construction）"
   ],
   "metadata": {
    "collapsed": false
   },
   "id": "98b0a7c0ea82cde3"
  },
  {
   "cell_type": "markdown",
   "source": [
    "### 评估函数\n",
    "特征工程是指遗传编程（GP）用于构造机器学习算法所需的特征，而后续的预测操作由机器学习算法来执行。因此，评估函数内部需要内置机器学习算法或特征质量评估函数。\n",
    "值得一提的是，如果使用机器学习算法进行评估，为了避免过拟合，最好使用交叉验证误差来评估特征工程的效果。"
   ],
   "metadata": {
    "collapsed": false
   },
   "id": "6f2bb043976a3e6d"
  },
  {
   "cell_type": "code",
   "execution_count": 1,
   "outputs": [],
   "source": [
    "from sklearn.datasets import load_iris\n",
    "\n",
    "# 假设我们有一个分类问题，输入为X，输出为y\n",
    "X,y=load_iris(return_X_y=True)\n",
    "\n",
    "# 求解问题的目标是最大化分类精度\n",
    "def evalFeatureEngineering(individuals):\n",
    "    # 创建新特征\n",
    "    new_features = []\n",
    "    for ind_num, ind in enumerate(individuals):\n",
    "        func = gp.compile(expr=ind, pset=pset)\n",
    "        new_features.append([func(*record) for record in X])\n",
    "    \n",
    "    # 转置新特征数组\n",
    "    new_features = np.transpose(np.array(new_features))\n",
    "    \n",
    "    # 使用决策树分类器\n",
    "    clf = DecisionTreeClassifier()\n",
    "    clf.fit(new_features, y)\n",
    "    \n",
    "    # 使用交叉验证计算误差\n",
    "    scores = cross_val_score(clf, new_features, y, cv=5)\n",
    "    \n",
    "    # 返回平均分类精度\n",
    "    return scores.mean(),"
   ],
   "metadata": {
    "collapsed": false,
    "ExecuteTime": {
     "end_time": "2023-11-07T07:54:04.349290200Z",
     "start_time": "2023-11-07T07:54:04.071510Z"
    }
   },
   "id": "fc1a30604c8470c4"
  },
  {
   "cell_type": "markdown",
   "source": [
    "### 多树GP 个体表示\n",
    "实现多树GP的方法有很多，最简单的方式是使用列表结构来表示一个个体，列表中的每个元素都是一棵树。\n",
    "当然，为了后续的可扩展性，更建议创建一个类来表示个体，类中包含一个列表，列表中的每个元素都是一棵树。不过，这里为了简单起见，我们直接使用列表结构。"
   ],
   "metadata": {
    "collapsed": false
   },
   "id": "1a80f5c352efe1e1"
  },
  {
   "cell_type": "code",
   "execution_count": 2,
   "outputs": [
    {
     "name": "stderr",
     "output_type": "stream",
     "text": [
      "C:\\Users\\zhenl\\anaconda3\\Lib\\site-packages\\deap\\gp.py:254: RuntimeWarning: Ephemeral rand101 function cannot be pickled because its generating function is a lambda function. Use functools.partial instead.\n",
      "  warnings.warn(\"Ephemeral {name} function cannot be \"\n"
     ]
    }
   ],
   "source": [
    "import operator\n",
    "import random\n",
    "import numpy as np\n",
    "from deap import base, creator, tools, gp, algorithms\n",
    "from sklearn.model_selection import cross_val_score\n",
    "from sklearn.tree import DecisionTreeClassifier\n",
    "\n",
    "# 创建GP框架的基本组件\n",
    "pset = gp.PrimitiveSet(\"MAIN\", X.shape[1])\n",
    "pset.addPrimitive(operator.add, 2)\n",
    "pset.addPrimitive(operator.sub, 2)\n",
    "pset.addPrimitive(operator.mul, 2)\n",
    "pset.addPrimitive(operator.neg, 1)\n",
    "pset.addEphemeralConstant(\"rand101\", lambda: random.random() * 2 - 1)\n",
    "\n",
    "# 创建一个适应度类和个体类，个体由多棵树组成\n",
    "creator.create(\"FitnessMax\", base.Fitness, weights=(1.0,))\n",
    "creator.create(\"Individual\", list, fitness=creator.FitnessMax)"
   ],
   "metadata": {
    "collapsed": false,
    "ExecuteTime": {
     "end_time": "2023-11-07T07:54:04.487759200Z",
     "start_time": "2023-11-07T07:54:04.351302Z"
    }
   },
   "id": "initial_id"
  },
  {
   "cell_type": "markdown",
   "source": [
    "### 交叉/变异算子\n",
    "对于多树GP，很明显我们还需要自己定义交叉和变异算子。这里我们对DEAP中的交叉和变异算子进行简单包装，将其改造成能够处理多棵树的列表结构的算子。"
   ],
   "metadata": {
    "collapsed": false
   },
   "id": "dd8becab808db0eb"
  },
  {
   "cell_type": "code",
   "execution_count": 3,
   "outputs": [],
   "source": [
    "toolbox = base.Toolbox()\n",
    "toolbox.register(\"expr\", gp.genHalfAndHalf, pset=pset, min_=1, max_=2)\n",
    "\n",
    "# 初始化每个个体为一个包含多棵树的列表\n",
    "def initIndividual(container, func, size):\n",
    "    return container(gp.PrimitiveTree(func()) for _ in range(size))\n",
    "\n",
    "# 交叉和变异算子需要能够处理个体的列表结构\n",
    "def cxOnePointListOfTrees(ind1, ind2):\n",
    "    for tree1, tree2 in zip(ind1, ind2):\n",
    "        gp.cxOnePoint(tree1, tree2)\n",
    "    return ind1, ind2\n",
    "\n",
    "def mutUniformListOfTrees(individual, expr, pset):\n",
    "    for tree in individual:\n",
    "        gp.mutUniform(tree, expr=expr, pset=pset)\n",
    "    return individual,\n",
    "\n",
    "toolbox.register(\"individual\", initIndividual, creator.Individual, toolbox.expr, size=3)  # 假设我们创建3个特征\n",
    "toolbox.register(\"population\", tools.initRepeat, list, toolbox.individual)\n",
    "\n",
    "toolbox.register(\"evaluate\", evalFeatureEngineering)  # 假定这个函数已经定义\n",
    "toolbox.register(\"select\", tools.selTournament, tournsize=3)\n",
    "toolbox.register(\"mate\", cxOnePointListOfTrees)\n",
    "toolbox.register(\"mutate\", mutUniformListOfTrees, expr=toolbox.expr, pset=pset)\n",
    "toolbox.register(\"compile\", gp.compile, pset=pset)"
   ],
   "metadata": {
    "collapsed": false,
    "ExecuteTime": {
     "end_time": "2023-11-07T07:54:04.496602Z",
     "start_time": "2023-11-07T07:54:04.491274300Z"
    }
   },
   "id": "d8cb2ce19a609f6b"
  },
  {
   "cell_type": "markdown",
   "source": [
    "最后，演化流程与传统的GP算法没有区别。直接运行即可。"
   ],
   "metadata": {
    "collapsed": false
   },
   "id": "ed604d829d2b72e3"
  },
  {
   "cell_type": "code",
   "execution_count": 4,
   "outputs": [
    {
     "name": "stdout",
     "output_type": "stream",
     "text": [
      "gen\tnevals\tavg     \tstd      \tmin     \tmax     \n",
      "0  \t50    \t0.904133\t0.0863058\t0.506667\t0.973333\n",
      "1  \t33    \t0.934933\t0.0267186\t0.853333\t0.973333\n",
      "2  \t29    \t0.943867\t0.0262667\t0.853333\t0.973333\n",
      "3  \t36    \t0.942   \t0.0282921\t0.82    \t0.973333\n",
      "4  \t22    \t0.949867\t0.0366907\t0.74    \t0.973333\n",
      "5  \t27    \t0.946267\t0.0519728\t0.64    \t0.973333\n",
      "6  \t34    \t0.942267\t0.040587 \t0.76    \t0.98    \n",
      "7  \t32    \t0.951867\t0.0285125\t0.813333\t0.98    \n",
      "8  \t34    \t0.9532  \t0.0174096\t0.913333\t0.98    \n",
      "9  \t30    \t0.9556  \t0.0246075\t0.866667\t0.98    \n",
      "10 \t27    \t0.9532  \t0.0251393\t0.84    \t0.98    \n",
      "11 \t36    \t0.9536  \t0.0265317\t0.813333\t0.98    \n",
      "12 \t32    \t0.9536  \t0.0237378\t0.86    \t0.98    \n",
      "13 \t32    \t0.9504  \t0.0303801\t0.82    \t0.98    \n",
      "14 \t32    \t0.946267\t0.0346515\t0.82    \t0.98    \n",
      "15 \t26    \t0.953733\t0.0282657\t0.833333\t0.98    \n",
      "16 \t28    \t0.950933\t0.0474929\t0.673333\t0.98    \n",
      "17 \t25    \t0.953333\t0.048037 \t0.68    \t0.98    \n",
      "18 \t28    \t0.9588  \t0.0231206\t0.886667\t0.98    \n",
      "19 \t25    \t0.9596  \t0.0266803\t0.866667\t0.98    \n",
      "20 \t23    \t0.966933\t0.0183284\t0.913333\t0.98    \n",
      "21 \t32    \t0.9528  \t0.0565031\t0.693333\t0.98    \n",
      "22 \t23    \t0.9672  \t0.0167513\t0.913333\t0.98    \n",
      "23 \t35    \t0.949867\t0.0587611\t0.66    \t0.98    \n",
      "24 \t26    \t0.9608  \t0.0208546\t0.906667\t0.98    \n",
      "25 \t29    \t0.952533\t0.0521986\t0.693333\t0.98    \n",
      "26 \t33    \t0.959867\t0.0188321\t0.92    \t0.98    \n",
      "27 \t30    \t0.9588  \t0.0298943\t0.853333\t0.98    \n",
      "28 \t27    \t0.945467\t0.055852 \t0.706667\t0.98    \n",
      "29 \t27    \t0.950933\t0.0450927\t0.693333\t0.98    \n",
      "30 \t32    \t0.9524  \t0.0446818\t0.693333\t0.98    \n",
      "31 \t32    \t0.952267\t0.0570748\t0.693333\t0.98    \n",
      "32 \t31    \t0.949467\t0.0421656\t0.713333\t0.98    \n",
      "33 \t30    \t0.951867\t0.0527348\t0.7     \t0.98    \n",
      "34 \t29    \t0.955467\t0.030359 \t0.84    \t0.98    \n",
      "35 \t26    \t0.9632  \t0.0211341\t0.873333\t0.98    \n",
      "36 \t26    \t0.964667\t0.0203634\t0.88    \t0.98    \n",
      "37 \t33    \t0.948267\t0.0454422\t0.713333\t0.98    \n",
      "38 \t29    \t0.951467\t0.049063 \t0.7     \t0.98    \n",
      "39 \t31    \t0.956   \t0.0466857\t0.706667\t0.98    \n",
      "40 \t31    \t0.935467\t0.086064 \t0.64    \t0.98    \n",
      "Best individual is: ['mul(sub(-0.45870588018487823, -0.45870588018487823), ARG0)', 'mul(ARG2, ARG0)', 'add(add(ARG2, ARG2), add(ARG3, add(ARG3, neg(ARG0))))']\n",
      "With fitness: (0.9800000000000001,)\n"
     ]
    }
   ],
   "source": [
    "# 运行遗传编程算法\n",
    "population = toolbox.population(n=50)\n",
    "hof = tools.HallOfFame(1)\n",
    "\n",
    "# 统计和日志\n",
    "stats = tools.Statistics(lambda ind: ind.fitness.values)\n",
    "stats.register(\"avg\", np.mean)\n",
    "stats.register(\"std\", np.std)\n",
    "stats.register(\"min\", np.min)\n",
    "stats.register(\"max\", np.max)\n",
    "\n",
    "pop, log = algorithms.eaSimple(population, toolbox, 0.5, 0.2, 40, stats=stats, halloffame=hof, verbose=True)\n",
    "\n",
    "# 查看最佳个体\n",
    "best_ind=hof[0]\n",
    "print('Best individual is:', [str(tree) for tree in best_ind])\n",
    "print('With fitness:', best_ind.fitness.values)"
   ],
   "metadata": {
    "collapsed": false,
    "ExecuteTime": {
     "end_time": "2023-11-07T07:54:13.527287700Z",
     "start_time": "2023-11-07T07:54:04.497529900Z"
    }
   },
   "id": "2e84206ae4aefe45"
  },
  {
   "cell_type": "markdown",
   "source": [],
   "metadata": {
    "collapsed": false
   },
   "id": "4b39a6243da71a6f"
  }
 ],
 "metadata": {
  "kernelspec": {
   "display_name": "Python 3",
   "language": "python",
   "name": "python3"
  },
  "language_info": {
   "codemirror_mode": {
    "name": "ipython",
    "version": 2
   },
   "file_extension": ".py",
   "mimetype": "text/x-python",
   "name": "python",
   "nbconvert_exporter": "python",
   "pygments_lexer": "ipython2",
   "version": "2.7.6"
  }
 },
 "nbformat": 4,
 "nbformat_minor": 5
}
